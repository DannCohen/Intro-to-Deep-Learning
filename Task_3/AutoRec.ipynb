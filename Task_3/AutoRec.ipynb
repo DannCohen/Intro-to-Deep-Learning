{
 "cells": [
  {
   "cell_type": "markdown",
   "metadata": {},
   "source": [
    "# AutoRec"
   ]
  },
  {
   "cell_type": "code",
   "execution_count": 1,
   "metadata": {},
   "outputs": [],
   "source": [
    "import math\n",
    "import time\n",
    "\n",
    "from tqdm import tqdm\n",
    "\n",
    "import pandas as pd\n",
    "import numpy as np\n",
    "\n",
    "from sklearn.model_selection import train_test_split\n",
    "\n",
    "import torch\n",
    "import torch.nn as nn\n",
    "from torch.utils.data import DataLoader, Dataset, TensorDataset\n",
    "\n",
    "import matplotlib.pyplot as plt\n",
    "%matplotlib inline"
   ]
  },
  {
   "cell_type": "markdown",
   "metadata": {},
   "source": [
    "## Load data"
   ]
  },
  {
   "cell_type": "code",
   "execution_count": 2,
   "metadata": {},
   "outputs": [],
   "source": [
    "df_train = pd.read_csv('Train.csv')\n",
    "df_random = pd.read_csv('RandomTest.csv')\n",
    "df_popular = pd.read_csv('PopularityTest.csv')"
   ]
  },
  {
   "cell_type": "code",
   "execution_count": 3,
   "metadata": {},
   "outputs": [
    {
     "data": {
      "text/html": [
       "<div>\n",
       "<style scoped>\n",
       "    .dataframe tbody tr th:only-of-type {\n",
       "        vertical-align: middle;\n",
       "    }\n",
       "\n",
       "    .dataframe tbody tr th {\n",
       "        vertical-align: top;\n",
       "    }\n",
       "\n",
       "    .dataframe thead th {\n",
       "        text-align: right;\n",
       "    }\n",
       "</style>\n",
       "<table border=\"1\" class=\"dataframe\">\n",
       "  <thead>\n",
       "    <tr style=\"text-align: right;\">\n",
       "      <th></th>\n",
       "      <th>UserID</th>\n",
       "      <th>ItemID</th>\n",
       "    </tr>\n",
       "  </thead>\n",
       "  <tbody>\n",
       "    <tr>\n",
       "      <th>0</th>\n",
       "      <td>1963</td>\n",
       "      <td>2102</td>\n",
       "    </tr>\n",
       "    <tr>\n",
       "      <th>1</th>\n",
       "      <td>1963</td>\n",
       "      <td>1156</td>\n",
       "    </tr>\n",
       "    <tr>\n",
       "      <th>2</th>\n",
       "      <td>1963</td>\n",
       "      <td>2555</td>\n",
       "    </tr>\n",
       "    <tr>\n",
       "      <th>3</th>\n",
       "      <td>1963</td>\n",
       "      <td>734</td>\n",
       "    </tr>\n",
       "    <tr>\n",
       "      <th>4</th>\n",
       "      <td>1963</td>\n",
       "      <td>307</td>\n",
       "    </tr>\n",
       "  </tbody>\n",
       "</table>\n",
       "</div>"
      ],
      "text/plain": [
       "   UserID  ItemID\n",
       "0    1963    2102\n",
       "1    1963    1156\n",
       "2    1963    2555\n",
       "3    1963     734\n",
       "4    1963     307"
      ]
     },
     "execution_count": 3,
     "metadata": {},
     "output_type": "execute_result"
    }
   ],
   "source": [
    "df_train.head()"
   ]
  },
  {
   "cell_type": "code",
   "execution_count": 4,
   "metadata": {},
   "outputs": [
    {
     "name": "stdout",
     "output_type": "stream",
     "text": [
      "<class 'pandas.core.frame.DataFrame'>\n",
      "RangeIndex: 988129 entries, 0 to 988128\n",
      "Data columns (total 2 columns):\n",
      " #   Column  Non-Null Count   Dtype\n",
      "---  ------  --------------   -----\n",
      " 0   UserID  988129 non-null  int64\n",
      " 1   ItemID  988129 non-null  int64\n",
      "dtypes: int64(2)\n",
      "memory usage: 15.1 MB\n"
     ]
    }
   ],
   "source": [
    "df_train.info()"
   ]
  },
  {
   "cell_type": "markdown",
   "metadata": {},
   "source": [
    "## Encode user and item IDs"
   ]
  },
  {
   "cell_type": "code",
   "execution_count": 5,
   "metadata": {},
   "outputs": [],
   "source": [
    "def generate_encode_maps_for_ids(ids):\n",
    "    '''\n",
    "    Convert original IDs to a unique index starting from 0    \n",
    "    '''\n",
    "    item_to_index = {}\n",
    "    index_to_item = {}\n",
    "\n",
    "    current_item_index = 0\n",
    "    for item in ids:\n",
    "        item_to_index[item] = current_item_index\n",
    "        index_to_item[current_item_index] = item\n",
    "\n",
    "        current_item_index += 1\n",
    "        \n",
    "    return item_to_index, index_to_item"
   ]
  },
  {
   "cell_type": "markdown",
   "metadata": {},
   "source": [
    "### Generate encoding maps"
   ]
  },
  {
   "cell_type": "markdown",
   "metadata": {},
   "source": [
    "Generate encoding maps for users and items"
   ]
  },
  {
   "cell_type": "code",
   "execution_count": 6,
   "metadata": {},
   "outputs": [],
   "source": [
    "# Generate encoding maps for the users\n",
    "users = df_train['UserID'].unique()\n",
    "user_to_index, index_to_user = generate_encode_maps_for_ids(users)"
   ]
  },
  {
   "cell_type": "code",
   "execution_count": 7,
   "metadata": {},
   "outputs": [],
   "source": [
    "# Generate encoding maps for the items\n",
    "items = df_train['ItemID'].unique()\n",
    "item_to_index, index_to_item = generate_encode_maps_for_ids(items)"
   ]
  },
  {
   "cell_type": "markdown",
   "metadata": {},
   "source": [
    "### Encode IDs"
   ]
  },
  {
   "cell_type": "markdown",
   "metadata": {},
   "source": [
    "Apply encoding maps to user and item columns to generate the new UserID_Encoded and ItemID_Encoded columns"
   ]
  },
  {
   "cell_type": "code",
   "execution_count": 8,
   "metadata": {},
   "outputs": [],
   "source": [
    "df_train['UserID_Encoded'] = df_train['UserID'].map(user_to_index)"
   ]
  },
  {
   "cell_type": "code",
   "execution_count": 9,
   "metadata": {},
   "outputs": [],
   "source": [
    "df_train['ItemID_Encoded'] = df_train['ItemID'].map(item_to_index)"
   ]
  },
  {
   "cell_type": "code",
   "execution_count": 10,
   "metadata": {},
   "outputs": [
    {
     "data": {
      "text/html": [
       "<div>\n",
       "<style scoped>\n",
       "    .dataframe tbody tr th:only-of-type {\n",
       "        vertical-align: middle;\n",
       "    }\n",
       "\n",
       "    .dataframe tbody tr th {\n",
       "        vertical-align: top;\n",
       "    }\n",
       "\n",
       "    .dataframe thead th {\n",
       "        text-align: right;\n",
       "    }\n",
       "</style>\n",
       "<table border=\"1\" class=\"dataframe\">\n",
       "  <thead>\n",
       "    <tr style=\"text-align: right;\">\n",
       "      <th></th>\n",
       "      <th>UserID</th>\n",
       "      <th>ItemID</th>\n",
       "      <th>UserID_Encoded</th>\n",
       "      <th>ItemID_Encoded</th>\n",
       "    </tr>\n",
       "  </thead>\n",
       "  <tbody>\n",
       "    <tr>\n",
       "      <th>0</th>\n",
       "      <td>1963</td>\n",
       "      <td>2102</td>\n",
       "      <td>0</td>\n",
       "      <td>0</td>\n",
       "    </tr>\n",
       "    <tr>\n",
       "      <th>1</th>\n",
       "      <td>1963</td>\n",
       "      <td>1156</td>\n",
       "      <td>0</td>\n",
       "      <td>1</td>\n",
       "    </tr>\n",
       "    <tr>\n",
       "      <th>2</th>\n",
       "      <td>1963</td>\n",
       "      <td>2555</td>\n",
       "      <td>0</td>\n",
       "      <td>2</td>\n",
       "    </tr>\n",
       "    <tr>\n",
       "      <th>3</th>\n",
       "      <td>1963</td>\n",
       "      <td>734</td>\n",
       "      <td>0</td>\n",
       "      <td>3</td>\n",
       "    </tr>\n",
       "    <tr>\n",
       "      <th>4</th>\n",
       "      <td>1963</td>\n",
       "      <td>307</td>\n",
       "      <td>0</td>\n",
       "      <td>4</td>\n",
       "    </tr>\n",
       "  </tbody>\n",
       "</table>\n",
       "</div>"
      ],
      "text/plain": [
       "   UserID  ItemID  UserID_Encoded  ItemID_Encoded\n",
       "0    1963    2102               0               0\n",
       "1    1963    1156               0               1\n",
       "2    1963    2555               0               2\n",
       "3    1963     734               0               3\n",
       "4    1963     307               0               4"
      ]
     },
     "execution_count": 10,
     "metadata": {},
     "output_type": "execute_result"
    }
   ],
   "source": [
    "df_train.head()"
   ]
  },
  {
   "cell_type": "markdown",
   "metadata": {},
   "source": [
    "## Generate User-Item vectors"
   ]
  },
  {
   "cell_type": "markdown",
   "metadata": {},
   "source": [
    "Generate a vector for each user containing 1s for the items they have purchased, and 0s everywhere else. This will result in a sparse vector."
   ]
  },
  {
   "cell_type": "code",
   "execution_count": 12,
   "metadata": {},
   "outputs": [],
   "source": [
    "user_vectors = []\n",
    "\n",
    "# Get all user encoded ids to iterate over them\n",
    "users_encoded = df_train['UserID_Encoded'].unique()\n",
    "\n",
    "# This is the number of items we have in our training data\n",
    "num_items = df_train['ItemID'].nunique()\n",
    "\n",
    "# Generate the one-hot vector for each user\n",
    "for user in users_encoded:    \n",
    "    df_user_items = df_train[df_train['UserID_Encoded'] == user]\n",
    "    user_items = df_user_items['ItemID_Encoded'].values\n",
    "    \n",
    "    # Start by generating a big zeroed vector\n",
    "    user_vector = np.zeros((num_items))\n",
    "    # And put ones in every item the user has already purchased\n",
    "    for item in user_items:\n",
    "        user_vector[item] = 1\n",
    "        \n",
    "    user_vectors.append(user_vector)\n",
    "\n",
    "user_vectors = np.array(user_vectors)"
   ]
  },
  {
   "cell_type": "code",
   "execution_count": 13,
   "metadata": {},
   "outputs": [
    {
     "data": {
      "text/plain": [
       "(6040, 3705)"
      ]
     },
     "execution_count": 13,
     "metadata": {},
     "output_type": "execute_result"
    }
   ],
   "source": [
    "user_vectors.shape"
   ]
  },
  {
   "cell_type": "markdown",
   "metadata": {},
   "source": [
    "### Train/validation split"
   ]
  },
  {
   "cell_type": "markdown",
   "metadata": {},
   "source": [
    "Split the data in train and validation sets. The ratios are 80% of the data for training and 20% for validating."
   ]
  },
  {
   "cell_type": "code",
   "execution_count": 53,
   "metadata": {},
   "outputs": [],
   "source": [
    "# Generate indices to split on\n",
    "indices = range(len(user_vectors))\n",
    "train_indices, validation_indices = train_test_split(indices, test_size=0.2, shuffle=True, random_state=42)"
   ]
  },
  {
   "cell_type": "code",
   "execution_count": 54,
   "metadata": {},
   "outputs": [
    {
     "data": {
      "text/plain": [
       "(4832, 1208)"
      ]
     },
     "execution_count": 54,
     "metadata": {},
     "output_type": "execute_result"
    }
   ],
   "source": [
    "len(train_indices), len(validation_indices)"
   ]
  },
  {
   "cell_type": "code",
   "execution_count": 56,
   "metadata": {},
   "outputs": [
    {
     "data": {
      "text/plain": [
       "((4832, 3705), (1208, 3705))"
      ]
     },
     "execution_count": 56,
     "metadata": {},
     "output_type": "execute_result"
    }
   ],
   "source": [
    "# Split user vectors into train and validation\n",
    "train_items = user_vectors[train_indices]\n",
    "validation_items = user_vectors[validation_indices]\n",
    "\n",
    "train_items.shape, validation_items.shape"
   ]
  },
  {
   "cell_type": "markdown",
   "metadata": {},
   "source": [
    "## Create PyTorch dataset and dataloader"
   ]
  },
  {
   "cell_type": "markdown",
   "metadata": {},
   "source": [
    "Creating a dataset and dataloader to feed data to PyTorch model in a convenient way, with batches and shuffling managed behind the scene for us."
   ]
  },
  {
   "cell_type": "code",
   "execution_count": 17,
   "metadata": {},
   "outputs": [],
   "source": [
    "class ItemDataset(Dataset):\n",
    "    '''\n",
    "    Custom dataset to hold our item vector data\n",
    "    '''\n",
    "    def __init__(self, item_vectors):\n",
    "        self.items = item_vectors.astype(np.float32)\n",
    "    \n",
    "    def __len__(self):\n",
    "        return len(self.items)\n",
    "    \n",
    "    def __getitem__(self, idx):\n",
    "        return self.items[idx]"
   ]
  },
  {
   "cell_type": "code",
   "execution_count": 18,
   "metadata": {},
   "outputs": [],
   "source": [
    "def create_dataloader(items_data, shuffle):\n",
    "    '''\n",
    "    Generate a dataloader from the input vector data\n",
    "    '''\n",
    "    # Create a dataset with the input data\n",
    "    dataset = ItemDataset(items_data)\n",
    "    \n",
    "    # Create a dataloader from the dataset above to manage automatic batching and shuffling\n",
    "    dataloader = DataLoader(dataset, batch_size=32, shuffle=shuffle)\n",
    "    \n",
    "    return dataloader"
   ]
  },
  {
   "cell_type": "code",
   "execution_count": 19,
   "metadata": {},
   "outputs": [],
   "source": [
    "train_dataloader = create_dataloader(train_items, shuffle=True)"
   ]
  },
  {
   "cell_type": "code",
   "execution_count": 20,
   "metadata": {},
   "outputs": [],
   "source": [
    "validation_dataloader = create_dataloader(validation_items, shuffle=False)"
   ]
  },
  {
   "cell_type": "markdown",
   "metadata": {},
   "source": [
    "## Define AutoRec Model"
   ]
  },
  {
   "cell_type": "markdown",
   "metadata": {},
   "source": [
    "Creating a PyTorch device so the training/inference code will use a GPU is available, else it will run using the CPU."
   ]
  },
  {
   "cell_type": "code",
   "execution_count": 21,
   "metadata": {},
   "outputs": [],
   "source": [
    "device = torch.device('cuda:0' if torch.cuda.is_available() else 'cpu')"
   ]
  },
  {
   "cell_type": "markdown",
   "metadata": {},
   "source": [
    "Here is the AutoRec model definition."
   ]
  },
  {
   "cell_type": "code",
   "execution_count": 22,
   "metadata": {},
   "outputs": [],
   "source": [
    "class AutoRec(nn.Module):\n",
    "    def __init__(self, num_items, hidden_size, corruption_percentage):\n",
    "        super().__init__()\n",
    "        \n",
    "        self.dropout = nn.Dropout(corruption_percentage)\n",
    "        self.encoder = nn.Linear(num_items, hidden_size)\n",
    "        self.decoder = nn.Linear(hidden_size, num_items)\n",
    "        self.sigmoid = nn.Sigmoid()\n",
    "    \n",
    "    def forward(self, items):\n",
    "        # Corrupt items vector using dropout\n",
    "        corrupted_items = self.dropout(items)\n",
    "        \n",
    "        # Encode corrupted items vector by using a linear layer and applying\n",
    "        # a sigmoid non-linearity\n",
    "        encoded_items = self.encoder(corrupted_items)\n",
    "        encoded_items = self.sigmoid(encoded_items)\n",
    "        \n",
    "        # Decode the latent vector generated by the encoder to a vector\n",
    "        # of all items (same size as the input vector). Our intent is\n",
    "        # for the model to reconstruct the original vector\n",
    "        decoded_items = self.decoder(encoded_items)\n",
    "        \n",
    "        return decoded_items"
   ]
  },
  {
   "cell_type": "code",
   "execution_count": 23,
   "metadata": {},
   "outputs": [],
   "source": [
    "model = AutoRec(num_items=num_items,\n",
    "                hidden_size=50,\n",
    "                corruption_percentage=0.5)"
   ]
  },
  {
   "cell_type": "code",
   "execution_count": 24,
   "metadata": {},
   "outputs": [
    {
     "data": {
      "text/plain": [
       "AutoRec(\n",
       "  (dropout): Dropout(p=0.5, inplace=False)\n",
       "  (encoder): Linear(in_features=3705, out_features=50, bias=True)\n",
       "  (decoder): Linear(in_features=50, out_features=3705, bias=True)\n",
       "  (sigmoid): Sigmoid()\n",
       ")"
      ]
     },
     "execution_count": 24,
     "metadata": {},
     "output_type": "execute_result"
    }
   ],
   "source": [
    "model.to(device)"
   ]
  },
  {
   "cell_type": "code",
   "execution_count": 25,
   "metadata": {},
   "outputs": [],
   "source": [
    "def masked_loss(outputs, items):\n",
    "    '''\n",
    "    Penalize only items that have been purchased. It's basically a RMSE error\n",
    "    masked to be applied only in the real item purchases.\n",
    "    '''\n",
    "    loss = torch.sum( torch.mul((outputs - items), items) ** 2 )\n",
    "    return loss"
   ]
  },
  {
   "cell_type": "code",
   "execution_count": 26,
   "metadata": {},
   "outputs": [],
   "source": [
    "def evaluate(model, dataloader, criterion):\n",
    "    '''\n",
    "    Evaluate the model on the dataloader provided\n",
    "    '''\n",
    "    # Put model in evaluation mode\n",
    "    model.eval()\n",
    "\n",
    "    epoch_loss = 0\n",
    "\n",
    "    # Make sure no gradients are being calculated here, as we are doing evaluation\n",
    "    with torch.no_grad():\n",
    "        for _, items in enumerate(dataloader):\n",
    "            # Move data to device\n",
    "            items = items.to(device)\n",
    "\n",
    "            # Generate predictions\n",
    "            outputs = model(items)\n",
    "\n",
    "            # Apply our loss function\n",
    "            loss = masked_loss(outputs, items)\n",
    "\n",
    "            # Accumulate loss. Using loss.item() to detach the loss vector from PyTorch, so\n",
    "            # it will not try to get track of further manipulations made to this variable\n",
    "            epoch_loss += loss.item()\n",
    "\n",
    "    return epoch_loss / len(dataloader)"
   ]
  },
  {
   "cell_type": "code",
   "execution_count": 27,
   "metadata": {},
   "outputs": [],
   "source": [
    "def train_step(model, dataloader, optimizer, criterion):\n",
    "    '''\n",
    "    One training step of the model.\n",
    "    '''\n",
    "    # Put model in training mode\n",
    "    model.train()\n",
    "\n",
    "    epoch_loss = 0\n",
    "\n",
    "    dataiter = iter(dataloader)\n",
    "    for i in tqdm(range(len(dataloader))):\n",
    "        # Get a batch of data\n",
    "        items = next(dataiter)\n",
    "        \n",
    "        # Move data to device\n",
    "        items = items.to(device)\n",
    "\n",
    "        # Zero in gradient from last epoch values\n",
    "        optimizer.zero_grad()\n",
    "\n",
    "        # Generate predictions\n",
    "        outputs = model(items)\n",
    "        \n",
    "        # Apply our loss function\n",
    "        loss = masked_loss(outputs, items)\n",
    "\n",
    "        # Backpropagation\n",
    "        loss.backward()\n",
    "        \n",
    "        # Advance optimizer\n",
    "        optimizer.step()\n",
    "\n",
    "        # Accumulate loss. Using loss.item() to detach the loss vector from PyTorch, so\n",
    "        # it will not try to get track of further manipulations made to this variable\n",
    "        epoch_loss += loss.item()\n",
    "\n",
    "    return epoch_loss / len(dataloader)"
   ]
  },
  {
   "cell_type": "code",
   "execution_count": 28,
   "metadata": {},
   "outputs": [],
   "source": [
    "def train_model(model, trainloader, validationloader, epochs=2, learning_rate=1e-3, l2_regularization=0, verbose=1):\n",
    "\n",
    "    print(\"Training started...\")\n",
    "    training_start = time.time()\n",
    "\n",
    "    # Put model in training mode\n",
    "    model.train()\n",
    "\n",
    "    # We will use AdamW as our optimizer, with L2 regularization\n",
    "    optimizer = torch.optim.AdamW(model.parameters(), lr=learning_rate, weight_decay=l2_regularization)\n",
    "\n",
    "    # Our loss metrics will be mean squared error\n",
    "    criterion = torch.nn.MSELoss()\n",
    "\n",
    "    losses = []\n",
    "    val_losses = []\n",
    "\n",
    "    for epoch in range(epochs):\n",
    "        epoch_start = time.time()\n",
    "\n",
    "        train_loss = train_step(model, trainloader, optimizer, criterion)\n",
    "        print(f'epoch {epoch} loss {train_loss}')\n",
    "\n",
    "        if (verbose):\n",
    "            val_loss = evaluate(model, validationloader, criterion)\n",
    "\n",
    "            epoch_end = time.time()\n",
    "            epoch_time = epoch_end - epoch_start\n",
    "            print(f'epoch {epoch} loss {train_loss} val_loss {val_loss} time {epoch_time}s.')\n",
    "\n",
    "            losses.append(train_loss)\n",
    "            val_losses.append(val_loss)\n",
    "\n",
    "\n",
    "    training_end = time.time()\n",
    "    elapsed_time = training_end - training_start\n",
    "    print(f\"Training completed. Total training time {elapsed_time}s.\")\n",
    "\n",
    "    history = {'loss': losses, 'val_loss': val_losses}\n",
    "\n",
    "    return history"
   ]
  },
  {
   "cell_type": "markdown",
   "metadata": {},
   "source": [
    "Train the model."
   ]
  },
  {
   "cell_type": "code",
   "execution_count": 29,
   "metadata": {
    "scrolled": true
   },
   "outputs": [
    {
     "name": "stderr",
     "output_type": "stream",
     "text": [
      "  1%|█                                                                                                                                                                 | 1/151 [00:00<00:30,  4.90it/s]"
     ]
    },
    {
     "name": "stdout",
     "output_type": "stream",
     "text": [
      "Training started...\n"
     ]
    },
    {
     "name": "stderr",
     "output_type": "stream",
     "text": [
      "100%|███████████████████████████████████████████████████████████████████████████████████████████████████████████████████████████████████████████████████████████████| 151/151 [00:00<00:00, 338.56it/s]\n",
      " 41%|█████████████████████████████████████████████████████████████████▋                                                                                              | 62/151 [00:00<00:00, 620.00it/s]"
     ]
    },
    {
     "name": "stdout",
     "output_type": "stream",
     "text": [
      "epoch 0 loss 686.0174357433193\n",
      "epoch 0 loss 686.0174357433193 val_loss 26.923400427165785 time 0.480010986328125s.\n"
     ]
    },
    {
     "name": "stderr",
     "output_type": "stream",
     "text": [
      "100%|███████████████████████████████████████████████████████████████████████████████████████████████████████████████████████████████████████████████████████████████| 151/151 [00:00<00:00, 606.43it/s]\n",
      " 32%|███████████████████████████████████████████████████▉                                                                                                            | 49/151 [00:00<00:00, 490.00it/s]"
     ]
    },
    {
     "name": "stdout",
     "output_type": "stream",
     "text": [
      "epoch 1 loss 18.438293943341993\n",
      "epoch 1 loss 18.438293943341993 val_loss 11.116118330704538 time 0.2799997329711914s.\n"
     ]
    },
    {
     "name": "stderr",
     "output_type": "stream",
     "text": [
      "100%|███████████████████████████████████████████████████████████████████████████████████████████████████████████████████████████████████████████████████████████████| 151/151 [00:00<00:00, 571.95it/s]\n",
      " 44%|█████████████████████████████████████████████████████████████████████▉                                                                                          | 66/151 [00:00<00:00, 647.06it/s]"
     ]
    },
    {
     "name": "stdout",
     "output_type": "stream",
     "text": [
      "epoch 2 loss 8.655705439333884\n",
      "epoch 2 loss 8.655705439333884 val_loss 6.558412652266653 time 0.2950010299682617s.\n"
     ]
    },
    {
     "name": "stderr",
     "output_type": "stream",
     "text": [
      "100%|███████████████████████████████████████████████████████████████████████████████████████████████████████████████████████████████████████████████████████████████| 151/151 [00:00<00:00, 637.16it/s]\n",
      " 42%|███████████████████████████████████████████████████████████████████▊                                                                                            | 64/151 [00:00<00:00, 639.93it/s]"
     ]
    },
    {
     "name": "stdout",
     "output_type": "stream",
     "text": [
      "epoch 3 loss 5.531576322403964\n",
      "epoch 3 loss 5.531576322403964 val_loss 4.322536299103184 time 0.26799869537353516s.\n"
     ]
    },
    {
     "name": "stderr",
     "output_type": "stream",
     "text": [
      "100%|███████████████████████████████████████████████████████████████████████████████████████████████████████████████████████████████████████████████████████████████| 151/151 [00:00<00:00, 631.80it/s]\n",
      " 40%|████████████████████████████████████████████████████████████████▋                                                                                               | 61/151 [00:00<00:00, 603.98it/s]"
     ]
    },
    {
     "name": "stdout",
     "output_type": "stream",
     "text": [
      "epoch 4 loss 4.011001196918109\n",
      "epoch 4 loss 4.011001196918109 val_loss 3.570746290056329 time 0.2720003128051758s.\n"
     ]
    },
    {
     "name": "stderr",
     "output_type": "stream",
     "text": [
      "100%|███████████████████████████████████████████████████████████████████████████████████████████████████████████████████████████████████████████████████████████████| 151/151 [00:00<00:00, 616.34it/s]\n",
      " 41%|█████████████████████████████████████████████████████████████████▋                                                                                              | 62/151 [00:00<00:00, 619.94it/s]"
     ]
    },
    {
     "name": "stdout",
     "output_type": "stream",
     "text": [
      "epoch 5 loss 3.102381856236237\n",
      "epoch 5 loss 3.102381856236237 val_loss 3.1348762731803093 time 0.2760050296783447s.\n"
     ]
    },
    {
     "name": "stderr",
     "output_type": "stream",
     "text": [
      "100%|███████████████████████████████████████████████████████████████████████████████████████████████████████████████████████████████████████████████████████████████| 151/151 [00:00<00:00, 618.85it/s]\n",
      " 42%|██████████████████████████████████████████████████████████████████▊                                                                                             | 63/151 [00:00<00:00, 617.65it/s]"
     ]
    },
    {
     "name": "stdout",
     "output_type": "stream",
     "text": [
      "epoch 6 loss 2.640834628351477\n",
      "epoch 6 loss 2.640834628351477 val_loss 2.5744840502738953 time 0.2739889621734619s.\n"
     ]
    },
    {
     "name": "stderr",
     "output_type": "stream",
     "text": [
      "100%|███████████████████████████████████████████████████████████████████████████████████████████████████████████████████████████████████████████████████████████████| 151/151 [00:00<00:00, 557.19it/s]\n",
      " 38%|████████████████████████████████████████████████████████████▍                                                                                                   | 57/151 [00:00<00:00, 564.29it/s]"
     ]
    },
    {
     "name": "stdout",
     "output_type": "stream",
     "text": [
      "epoch 7 loss 2.1023209505523277\n",
      "epoch 7 loss 2.1023209505523277 val_loss 2.2478205875346533 time 0.3130016326904297s.\n"
     ]
    },
    {
     "name": "stderr",
     "output_type": "stream",
     "text": [
      "100%|███████████████████████████████████████████████████████████████████████████████████████████████████████████████████████████████████████████████████████████████| 151/151 [00:00<00:00, 585.27it/s]\n",
      " 41%|█████████████████████████████████████████████████████████████████▋                                                                                              | 62/151 [00:00<00:00, 613.87it/s]"
     ]
    },
    {
     "name": "stdout",
     "output_type": "stream",
     "text": [
      "epoch 8 loss 1.6766518760990623\n",
      "epoch 8 loss 1.6766518760990623 val_loss 1.949275386960883 time 0.29200029373168945s.\n"
     ]
    },
    {
     "name": "stderr",
     "output_type": "stream",
     "text": [
      "100%|███████████████████████████████████████████████████████████████████████████████████████████████████████████████████████████████████████████████████████████████| 151/151 [00:00<00:00, 604.01it/s]\n",
      " 42%|███████████████████████████████████████████████████████████████████▊                                                                                            | 64/151 [00:00<00:00, 633.60it/s]"
     ]
    },
    {
     "name": "stdout",
     "output_type": "stream",
     "text": [
      "epoch 9 loss 1.520526820460692\n",
      "epoch 9 loss 1.520526820460692 val_loss 1.8925616207875704 time 0.28098559379577637s.\n"
     ]
    },
    {
     "name": "stderr",
     "output_type": "stream",
     "text": [
      "100%|███████████████████████████████████████████████████████████████████████████████████████████████████████████████████████████████████████████████████████████████| 151/151 [00:00<00:00, 623.97it/s]\n",
      " 42%|███████████████████████████████████████████████████████████████████▊                                                                                            | 64/151 [00:00<00:00, 633.65it/s]"
     ]
    },
    {
     "name": "stdout",
     "output_type": "stream",
     "text": [
      "epoch 10 loss 1.2706254207535295\n",
      "epoch 10 loss 1.2706254207535295 val_loss 1.7187249597750212 time 0.2740001678466797s.\n"
     ]
    },
    {
     "name": "stderr",
     "output_type": "stream",
     "text": [
      "100%|███████████████████████████████████████████████████████████████████████████████████████████████████████████████████████████████████████████████████████████████| 151/151 [00:00<00:00, 629.14it/s]\n",
      " 43%|████████████████████████████████████████████████████████████████████▊                                                                                           | 65/151 [00:00<00:00, 637.25it/s]"
     ]
    },
    {
     "name": "stdout",
     "output_type": "stream",
     "text": [
      "epoch 11 loss 1.1468921272170465\n",
      "epoch 11 loss 1.1468921272170465 val_loss 1.6993204935600883 time 0.2710111141204834s.\n"
     ]
    },
    {
     "name": "stderr",
     "output_type": "stream",
     "text": [
      "100%|███████████████████████████████████████████████████████████████████████████████████████████████████████████████████████████████████████████████████████████████| 151/151 [00:00<00:00, 639.83it/s]\n",
      " 43%|████████████████████████████████████████████████████████████████████▊                                                                                           | 65/151 [00:00<00:00, 643.50it/s]"
     ]
    },
    {
     "name": "stdout",
     "output_type": "stream",
     "text": [
      "epoch 12 loss 1.0084150919061623\n",
      "epoch 12 loss 1.0084150919061623 val_loss 1.4561334769976766 time 0.26599836349487305s.\n"
     ]
    },
    {
     "name": "stderr",
     "output_type": "stream",
     "text": [
      "100%|███████████████████████████████████████████████████████████████████████████████████████████████████████████████████████████████████████████████████████████████| 151/151 [00:00<00:00, 639.80it/s]\n",
      " 38%|█████████████████████████████████████████████████████████████▍                                                                                                  | 58/151 [00:00<00:00, 568.64it/s]"
     ]
    },
    {
     "name": "stdout",
     "output_type": "stream",
     "text": [
      "epoch 13 loss 0.8735693081325253\n",
      "epoch 13 loss 0.8735693081325253 val_loss 1.359532352340849 time 0.2670018672943115s.\n"
     ]
    },
    {
     "name": "stderr",
     "output_type": "stream",
     "text": [
      "100%|███████████████████████████████████████████████████████████████████████████████████████████████████████████████████████████████████████████████████████████████| 151/151 [00:00<00:00, 606.40it/s]\n",
      " 38%|████████████████████████████████████████████████████████████▍                                                                                                   | 57/151 [00:00<00:00, 569.94it/s]"
     ]
    },
    {
     "name": "stdout",
     "output_type": "stream",
     "text": [
      "epoch 14 loss 0.7776791593491637\n",
      "epoch 14 loss 0.7776791593491637 val_loss 1.303323089292175 time 0.28000569343566895s.\n"
     ]
    },
    {
     "name": "stderr",
     "output_type": "stream",
     "text": [
      "100%|███████████████████████████████████████████████████████████████████████████████████████████████████████████████████████████████████████████████████████████████| 151/151 [00:00<00:00, 603.98it/s]\n",
      " 43%|████████████████████████████████████████████████████████████████████▊                                                                                           | 65/151 [00:00<00:00, 643.57it/s]"
     ]
    },
    {
     "name": "stdout",
     "output_type": "stream",
     "text": [
      "epoch 15 loss 0.6787267408228868\n",
      "epoch 15 loss 0.6787267408228868 val_loss 1.227608524655041 time 0.28100085258483887s.\n"
     ]
    },
    {
     "name": "stderr",
     "output_type": "stream",
     "text": [
      "100%|███████████████████████████████████████████████████████████████████████████████████████████████████████████████████████████████████████████████████████████████| 151/151 [00:00<00:00, 639.83it/s]\n",
      " 43%|████████████████████████████████████████████████████████████████████▊                                                                                           | 65/151 [00:00<00:00, 649.94it/s]"
     ]
    },
    {
     "name": "stdout",
     "output_type": "stream",
     "text": [
      "epoch 16 loss 0.6659731924139112\n",
      "epoch 16 loss 0.6659731924139112 val_loss 1.3468614620597739 time 0.2669990062713623s.\n"
     ]
    },
    {
     "name": "stderr",
     "output_type": "stream",
     "text": [
      "100%|███████████████████████████████████████████████████████████████████████████████████████████████████████████████████████████████████████████████████████████████| 151/151 [00:00<00:00, 637.11it/s]\n",
      " 43%|████████████████████████████████████████████████████████████████████▊                                                                                           | 65/151 [00:00<00:00, 649.97it/s]"
     ]
    },
    {
     "name": "stdout",
     "output_type": "stream",
     "text": [
      "epoch 17 loss 0.6528004378277734\n",
      "epoch 17 loss 0.6528004378277734 val_loss 1.2360516637563705 time 0.2689981460571289s.\n"
     ]
    },
    {
     "name": "stderr",
     "output_type": "stream",
     "text": [
      "100%|███████████████████████████████████████████████████████████████████████████████████████████████████████████████████████████████████████████████████████████████| 151/151 [00:00<00:00, 634.43it/s]\n",
      " 43%|████████████████████████████████████████████████████████████████████▊                                                                                           | 65/151 [00:00<00:00, 637.32it/s]"
     ]
    },
    {
     "name": "stdout",
     "output_type": "stream",
     "text": [
      "epoch 18 loss 0.5462619704718621\n",
      "epoch 18 loss 0.5462619704718621 val_loss 1.1594581368722414 time 0.2690012454986572s.\n"
     ]
    },
    {
     "name": "stderr",
     "output_type": "stream",
     "text": [
      "100%|███████████████████████████████████████████████████████████████████████████████████████████████████████████████████████████████████████████████████████████████| 151/151 [00:00<00:00, 629.16it/s]"
     ]
    },
    {
     "name": "stdout",
     "output_type": "stream",
     "text": [
      "epoch 19 loss 0.5892920495066422\n",
      "epoch 19 loss 0.5892920495066422 val_loss 1.1641228159791546 time 0.27100038528442383s.\n",
      "Training completed. Total training time 5.75301194190979s.\n"
     ]
    },
    {
     "name": "stderr",
     "output_type": "stream",
     "text": [
      "\n"
     ]
    }
   ],
   "source": [
    "history = train_model(model, train_dataloader, validation_dataloader, epochs=20, learning_rate=1e-3, l2_regularization=0.1, verbose=1)    "
   ]
  },
  {
   "cell_type": "markdown",
   "metadata": {},
   "source": [
    "Visualize training curves."
   ]
  },
  {
   "cell_type": "code",
   "execution_count": 30,
   "metadata": {},
   "outputs": [
    {
     "data": {
      "image/png": "[encoded data removed]",
      "text/plain": [
       "<Figure size 432x288 with 1 Axes>"
      ]
     },
     "metadata": {
      "needs_background": "light"
     },
     "output_type": "display_data"
    }
   ],
   "source": [
    "# Loss from first epoch is so high that it will make the plots very hard to analyze, because\n",
    "# The curve will look very flat. So we will plot loss from epoch 2 onwards instead.\n",
    "plt.plot(history['loss'][1:], label='train loss')\n",
    "plt.plot(history['val_loss'][1:], label='validation loss')\n",
    "plt.legend()\n",
    "plt.show()"
   ]
  },
  {
   "cell_type": "markdown",
   "metadata": {},
   "source": [
    "## Predict classifications on test datasets"
   ]
  },
  {
   "cell_type": "markdown",
   "metadata": {},
   "source": [
    "### Random sampled test dataset"
   ]
  },
  {
   "cell_type": "code",
   "execution_count": 31,
   "metadata": {},
   "outputs": [
    {
     "data": {
      "text/html": [
       "<div>\n",
       "<style scoped>\n",
       "    .dataframe tbody tr th:only-of-type {\n",
       "        vertical-align: middle;\n",
       "    }\n",
       "\n",
       "    .dataframe tbody tr th {\n",
       "        vertical-align: top;\n",
       "    }\n",
       "\n",
       "    .dataframe thead th {\n",
       "        text-align: right;\n",
       "    }\n",
       "</style>\n",
       "<table border=\"1\" class=\"dataframe\">\n",
       "  <thead>\n",
       "    <tr style=\"text-align: right;\">\n",
       "      <th></th>\n",
       "      <th>UserID</th>\n",
       "      <th>Item1</th>\n",
       "      <th>Item2</th>\n",
       "    </tr>\n",
       "  </thead>\n",
       "  <tbody>\n",
       "    <tr>\n",
       "      <th>0</th>\n",
       "      <td>1963</td>\n",
       "      <td>987</td>\n",
       "      <td>1436</td>\n",
       "    </tr>\n",
       "    <tr>\n",
       "      <th>1</th>\n",
       "      <td>5951</td>\n",
       "      <td>1080</td>\n",
       "      <td>872</td>\n",
       "    </tr>\n",
       "    <tr>\n",
       "      <th>2</th>\n",
       "      <td>1254</td>\n",
       "      <td>90</td>\n",
       "      <td>192</td>\n",
       "    </tr>\n",
       "    <tr>\n",
       "      <th>3</th>\n",
       "      <td>2738</td>\n",
       "      <td>3003</td>\n",
       "      <td>1945</td>\n",
       "    </tr>\n",
       "    <tr>\n",
       "      <th>4</th>\n",
       "      <td>3527</td>\n",
       "      <td>351</td>\n",
       "      <td>2744</td>\n",
       "    </tr>\n",
       "  </tbody>\n",
       "</table>\n",
       "</div>"
      ],
      "text/plain": [
       "   UserID  Item1  Item2\n",
       "0    1963    987   1436\n",
       "1    5951   1080    872\n",
       "2    1254     90    192\n",
       "3    2738   3003   1945\n",
       "4    3527    351   2744"
      ]
     },
     "execution_count": 31,
     "metadata": {},
     "output_type": "execute_result"
    }
   ],
   "source": [
    "df_random.head()"
   ]
  },
  {
   "cell_type": "code",
   "execution_count": 32,
   "metadata": {},
   "outputs": [
    {
     "name": "stdout",
     "output_type": "stream",
     "text": [
      "<class 'pandas.core.frame.DataFrame'>\n",
      "RangeIndex: 6040 entries, 0 to 6039\n",
      "Data columns (total 3 columns):\n",
      " #   Column  Non-Null Count  Dtype\n",
      "---  ------  --------------  -----\n",
      " 0   UserID  6040 non-null   int64\n",
      " 1   Item1   6040 non-null   int64\n",
      " 2   Item2   6040 non-null   int64\n",
      "dtypes: int64(3)\n",
      "memory usage: 141.7 KB\n"
     ]
    }
   ],
   "source": [
    "df_random.info()"
   ]
  },
  {
   "cell_type": "markdown",
   "metadata": {},
   "source": [
    "#### Encode user and item IDs"
   ]
  },
  {
   "cell_type": "code",
   "execution_count": 33,
   "metadata": {},
   "outputs": [],
   "source": [
    "df_random['UserID_Encoded'] = df_random['UserID'].map(user_to_index)\n",
    "\n",
    "df_random['Item1_Encoded'] = df_random['Item1'].map(item_to_index)\n",
    "df_random['Item2_Encoded'] = df_random['Item2'].map(item_to_index)"
   ]
  },
  {
   "cell_type": "code",
   "execution_count": 34,
   "metadata": {},
   "outputs": [
    {
     "data": {
      "text/html": [
       "<div>\n",
       "<style scoped>\n",
       "    .dataframe tbody tr th:only-of-type {\n",
       "        vertical-align: middle;\n",
       "    }\n",
       "\n",
       "    .dataframe tbody tr th {\n",
       "        vertical-align: top;\n",
       "    }\n",
       "\n",
       "    .dataframe thead th {\n",
       "        text-align: right;\n",
       "    }\n",
       "</style>\n",
       "<table border=\"1\" class=\"dataframe\">\n",
       "  <thead>\n",
       "    <tr style=\"text-align: right;\">\n",
       "      <th></th>\n",
       "      <th>UserID</th>\n",
       "      <th>Item1</th>\n",
       "      <th>Item2</th>\n",
       "      <th>UserID_Encoded</th>\n",
       "      <th>Item1_Encoded</th>\n",
       "      <th>Item2_Encoded</th>\n",
       "    </tr>\n",
       "  </thead>\n",
       "  <tbody>\n",
       "    <tr>\n",
       "      <th>0</th>\n",
       "      <td>1963</td>\n",
       "      <td>987</td>\n",
       "      <td>1436</td>\n",
       "      <td>0</td>\n",
       "      <td>2461.0</td>\n",
       "      <td>1125.0</td>\n",
       "    </tr>\n",
       "    <tr>\n",
       "      <th>1</th>\n",
       "      <td>5951</td>\n",
       "      <td>1080</td>\n",
       "      <td>872</td>\n",
       "      <td>1</td>\n",
       "      <td>1529.0</td>\n",
       "      <td>297.0</td>\n",
       "    </tr>\n",
       "    <tr>\n",
       "      <th>2</th>\n",
       "      <td>1254</td>\n",
       "      <td>90</td>\n",
       "      <td>192</td>\n",
       "      <td>2</td>\n",
       "      <td>1433.0</td>\n",
       "      <td>761.0</td>\n",
       "    </tr>\n",
       "    <tr>\n",
       "      <th>3</th>\n",
       "      <td>2738</td>\n",
       "      <td>3003</td>\n",
       "      <td>1945</td>\n",
       "      <td>3</td>\n",
       "      <td>774.0</td>\n",
       "      <td>3319.0</td>\n",
       "    </tr>\n",
       "    <tr>\n",
       "      <th>4</th>\n",
       "      <td>3527</td>\n",
       "      <td>351</td>\n",
       "      <td>2744</td>\n",
       "      <td>4</td>\n",
       "      <td>3158.0</td>\n",
       "      <td>750.0</td>\n",
       "    </tr>\n",
       "  </tbody>\n",
       "</table>\n",
       "</div>"
      ],
      "text/plain": [
       "   UserID  Item1  Item2  UserID_Encoded  Item1_Encoded  Item2_Encoded\n",
       "0    1963    987   1436               0         2461.0         1125.0\n",
       "1    5951   1080    872               1         1529.0          297.0\n",
       "2    1254     90    192               2         1433.0          761.0\n",
       "3    2738   3003   1945               3          774.0         3319.0\n",
       "4    3527    351   2744               4         3158.0          750.0"
      ]
     },
     "execution_count": 34,
     "metadata": {},
     "output_type": "execute_result"
    }
   ],
   "source": [
    "df_random.head()"
   ]
  },
  {
   "cell_type": "markdown",
   "metadata": {},
   "source": [
    "We can observe that there is 1 item in Item1 column and another in Item2 column that did not appear on the training datasets, so the encoder mapping does not have an entry for them."
   ]
  },
  {
   "cell_type": "code",
   "execution_count": 35,
   "metadata": {},
   "outputs": [
    {
     "data": {
      "text/plain": [
       "UserID            0\n",
       "Item1             0\n",
       "Item2             0\n",
       "UserID_Encoded    0\n",
       "Item1_Encoded     1\n",
       "Item2_Encoded     1\n",
       "dtype: int64"
      ]
     },
     "execution_count": 35,
     "metadata": {},
     "output_type": "execute_result"
    }
   ],
   "source": [
    "df_random.isnull().sum()"
   ]
  },
  {
   "cell_type": "code",
   "execution_count": 36,
   "metadata": {},
   "outputs": [
    {
     "data": {
      "text/html": [
       "<div>\n",
       "<style scoped>\n",
       "    .dataframe tbody tr th:only-of-type {\n",
       "        vertical-align: middle;\n",
       "    }\n",
       "\n",
       "    .dataframe tbody tr th {\n",
       "        vertical-align: top;\n",
       "    }\n",
       "\n",
       "    .dataframe thead th {\n",
       "        text-align: right;\n",
       "    }\n",
       "</style>\n",
       "<table border=\"1\" class=\"dataframe\">\n",
       "  <thead>\n",
       "    <tr style=\"text-align: right;\">\n",
       "      <th></th>\n",
       "      <th>UserID</th>\n",
       "      <th>Item1</th>\n",
       "      <th>Item2</th>\n",
       "      <th>UserID_Encoded</th>\n",
       "      <th>Item1_Encoded</th>\n",
       "      <th>Item2_Encoded</th>\n",
       "    </tr>\n",
       "  </thead>\n",
       "  <tbody>\n",
       "    <tr>\n",
       "      <th>4163</th>\n",
       "      <td>2014</td>\n",
       "      <td>1750</td>\n",
       "      <td>2068</td>\n",
       "      <td>4163</td>\n",
       "      <td>NaN</td>\n",
       "      <td>1241.0</td>\n",
       "    </tr>\n",
       "  </tbody>\n",
       "</table>\n",
       "</div>"
      ],
      "text/plain": [
       "      UserID  Item1  Item2  UserID_Encoded  Item1_Encoded  Item2_Encoded\n",
       "4163    2014   1750   2068            4163            NaN         1241.0"
      ]
     },
     "execution_count": 36,
     "metadata": {},
     "output_type": "execute_result"
    }
   ],
   "source": [
    "df_random[df_random['Item1_Encoded'].isnull()]"
   ]
  },
  {
   "cell_type": "code",
   "execution_count": 37,
   "metadata": {},
   "outputs": [
    {
     "data": {
      "text/html": [
       "<div>\n",
       "<style scoped>\n",
       "    .dataframe tbody tr th:only-of-type {\n",
       "        vertical-align: middle;\n",
       "    }\n",
       "\n",
       "    .dataframe tbody tr th {\n",
       "        vertical-align: top;\n",
       "    }\n",
       "\n",
       "    .dataframe thead th {\n",
       "        text-align: right;\n",
       "    }\n",
       "</style>\n",
       "<table border=\"1\" class=\"dataframe\">\n",
       "  <thead>\n",
       "    <tr style=\"text-align: right;\">\n",
       "      <th></th>\n",
       "      <th>UserID</th>\n",
       "      <th>Item1</th>\n",
       "      <th>Item2</th>\n",
       "      <th>UserID_Encoded</th>\n",
       "      <th>Item1_Encoded</th>\n",
       "      <th>Item2_Encoded</th>\n",
       "    </tr>\n",
       "  </thead>\n",
       "  <tbody>\n",
       "    <tr>\n",
       "      <th>2121</th>\n",
       "      <td>5798</td>\n",
       "      <td>3224</td>\n",
       "      <td>1750</td>\n",
       "      <td>2121</td>\n",
       "      <td>171.0</td>\n",
       "      <td>NaN</td>\n",
       "    </tr>\n",
       "  </tbody>\n",
       "</table>\n",
       "</div>"
      ],
      "text/plain": [
       "      UserID  Item1  Item2  UserID_Encoded  Item1_Encoded  Item2_Encoded\n",
       "2121    5798   3224   1750            2121          171.0            NaN"
      ]
     },
     "execution_count": 37,
     "metadata": {},
     "output_type": "execute_result"
    }
   ],
   "source": [
    "df_random[df_random['Item2_Encoded'].isnull()]"
   ]
  },
  {
   "cell_type": "markdown",
   "metadata": {},
   "source": [
    "#### Generate the classification"
   ]
  },
  {
   "cell_type": "code",
   "execution_count": 38,
   "metadata": {},
   "outputs": [],
   "source": [
    "def generate_item_classification(model, dataframe, user_vectors):\n",
    "    model.eval()\n",
    "\n",
    "    outputs = []\n",
    "\n",
    "    # Each row contains a user, so iterating through all users here\n",
    "    for row in dataframe.iterrows():\n",
    "        row = row[1]\n",
    "        user = int(row['UserID_Encoded'])\n",
    "        item1 = row['Item1_Encoded']\n",
    "        item2 = row['Item2_Encoded']\n",
    "\n",
    "        # If item did not appear in our items vector, we don't have an encoding for it,\n",
    "        # so just assume user did consume the other item, and continue with the next user\n",
    "        if math.isnan(item1):\n",
    "            output = 1\n",
    "            outputs.append(output)\n",
    "            continue\n",
    "        elif math.isnan(item2):\n",
    "            output = 0\n",
    "            outputs.append(output)\n",
    "            continue\n",
    "\n",
    "        item1 = int(item1)\n",
    "        item2 = int(item2)\n",
    "\n",
    "        user_vector = user_vectors[int(user)]\n",
    "\n",
    "        with torch.no_grad():\n",
    "            # Create a tensor from the vector data, and move it to the right device\n",
    "            x_tensor = torch.Tensor(user_vector).to(device)\n",
    "            \n",
    "            # Generate predictions, move them to CPU and convert to numpy array\n",
    "            predictions = model(x_tensor).cpu().numpy()\n",
    "            \n",
    "            # Compare probabilities for each item\n",
    "            item1_probability = predictions[item1]\n",
    "            item2_probability =predictions[item2]\n",
    "            \n",
    "            # The highest probability will be the item we think the user did consume\n",
    "            output = 0 if item1_probability > item2_probability else 1\n",
    "            \n",
    "            outputs.append(output)\n",
    "            \n",
    "    outputs = np.array(outputs)\n",
    "    \n",
    "    # Create a new dataset with the new column\n",
    "    df_out = dataframe.copy()\n",
    "    df_out['bitClassification'] = outputs\n",
    "    \n",
    "    return df_out"
   ]
  },
  {
   "cell_type": "code",
   "execution_count": 39,
   "metadata": {},
   "outputs": [],
   "source": [
    "df_random_classified = generate_item_classification(model, df_random, user_vectors)"
   ]
  },
  {
   "cell_type": "code",
   "execution_count": 40,
   "metadata": {},
   "outputs": [
    {
     "data": {
      "text/html": [
       "<div>\n",
       "<style scoped>\n",
       "    .dataframe tbody tr th:only-of-type {\n",
       "        vertical-align: middle;\n",
       "    }\n",
       "\n",
       "    .dataframe tbody tr th {\n",
       "        vertical-align: top;\n",
       "    }\n",
       "\n",
       "    .dataframe thead th {\n",
       "        text-align: right;\n",
       "    }\n",
       "</style>\n",
       "<table border=\"1\" class=\"dataframe\">\n",
       "  <thead>\n",
       "    <tr style=\"text-align: right;\">\n",
       "      <th></th>\n",
       "      <th>UserID</th>\n",
       "      <th>Item1</th>\n",
       "      <th>Item2</th>\n",
       "      <th>UserID_Encoded</th>\n",
       "      <th>Item1_Encoded</th>\n",
       "      <th>Item2_Encoded</th>\n",
       "      <th>bitClassification</th>\n",
       "    </tr>\n",
       "  </thead>\n",
       "  <tbody>\n",
       "    <tr>\n",
       "      <th>0</th>\n",
       "      <td>1963</td>\n",
       "      <td>987</td>\n",
       "      <td>1436</td>\n",
       "      <td>0</td>\n",
       "      <td>2461.0</td>\n",
       "      <td>1125.0</td>\n",
       "      <td>1</td>\n",
       "    </tr>\n",
       "    <tr>\n",
       "      <th>1</th>\n",
       "      <td>5951</td>\n",
       "      <td>1080</td>\n",
       "      <td>872</td>\n",
       "      <td>1</td>\n",
       "      <td>1529.0</td>\n",
       "      <td>297.0</td>\n",
       "      <td>1</td>\n",
       "    </tr>\n",
       "    <tr>\n",
       "      <th>2</th>\n",
       "      <td>1254</td>\n",
       "      <td>90</td>\n",
       "      <td>192</td>\n",
       "      <td>2</td>\n",
       "      <td>1433.0</td>\n",
       "      <td>761.0</td>\n",
       "      <td>1</td>\n",
       "    </tr>\n",
       "    <tr>\n",
       "      <th>3</th>\n",
       "      <td>2738</td>\n",
       "      <td>3003</td>\n",
       "      <td>1945</td>\n",
       "      <td>3</td>\n",
       "      <td>774.0</td>\n",
       "      <td>3319.0</td>\n",
       "      <td>0</td>\n",
       "    </tr>\n",
       "    <tr>\n",
       "      <th>4</th>\n",
       "      <td>3527</td>\n",
       "      <td>351</td>\n",
       "      <td>2744</td>\n",
       "      <td>4</td>\n",
       "      <td>3158.0</td>\n",
       "      <td>750.0</td>\n",
       "      <td>0</td>\n",
       "    </tr>\n",
       "  </tbody>\n",
       "</table>\n",
       "</div>"
      ],
      "text/plain": [
       "   UserID  Item1  Item2  UserID_Encoded  Item1_Encoded  Item2_Encoded  \\\n",
       "0    1963    987   1436               0         2461.0         1125.0   \n",
       "1    5951   1080    872               1         1529.0          297.0   \n",
       "2    1254     90    192               2         1433.0          761.0   \n",
       "3    2738   3003   1945               3          774.0         3319.0   \n",
       "4    3527    351   2744               4         3158.0          750.0   \n",
       "\n",
       "   bitClassification  \n",
       "0                  1  \n",
       "1                  1  \n",
       "2                  1  \n",
       "3                  0  \n",
       "4                  0  "
      ]
     },
     "execution_count": 40,
     "metadata": {},
     "output_type": "execute_result"
    }
   ],
   "source": [
    "df_random_classified.head()"
   ]
  },
  {
   "cell_type": "markdown",
   "metadata": {},
   "source": [
    "#### Remove undesired columns"
   ]
  },
  {
   "cell_type": "code",
   "execution_count": 41,
   "metadata": {},
   "outputs": [],
   "source": [
    "df_random_classified = df_random_classified.drop(['UserID_Encoded', 'Item1_Encoded', 'Item2_Encoded'], axis=1)"
   ]
  },
  {
   "cell_type": "code",
   "execution_count": 42,
   "metadata": {},
   "outputs": [
    {
     "data": {
      "text/html": [
       "<div>\n",
       "<style scoped>\n",
       "    .dataframe tbody tr th:only-of-type {\n",
       "        vertical-align: middle;\n",
       "    }\n",
       "\n",
       "    .dataframe tbody tr th {\n",
       "        vertical-align: top;\n",
       "    }\n",
       "\n",
       "    .dataframe thead th {\n",
       "        text-align: right;\n",
       "    }\n",
       "</style>\n",
       "<table border=\"1\" class=\"dataframe\">\n",
       "  <thead>\n",
       "    <tr style=\"text-align: right;\">\n",
       "      <th></th>\n",
       "      <th>UserID</th>\n",
       "      <th>Item1</th>\n",
       "      <th>Item2</th>\n",
       "      <th>bitClassification</th>\n",
       "    </tr>\n",
       "  </thead>\n",
       "  <tbody>\n",
       "    <tr>\n",
       "      <th>0</th>\n",
       "      <td>1963</td>\n",
       "      <td>987</td>\n",
       "      <td>1436</td>\n",
       "      <td>1</td>\n",
       "    </tr>\n",
       "    <tr>\n",
       "      <th>1</th>\n",
       "      <td>5951</td>\n",
       "      <td>1080</td>\n",
       "      <td>872</td>\n",
       "      <td>1</td>\n",
       "    </tr>\n",
       "    <tr>\n",
       "      <th>2</th>\n",
       "      <td>1254</td>\n",
       "      <td>90</td>\n",
       "      <td>192</td>\n",
       "      <td>1</td>\n",
       "    </tr>\n",
       "    <tr>\n",
       "      <th>3</th>\n",
       "      <td>2738</td>\n",
       "      <td>3003</td>\n",
       "      <td>1945</td>\n",
       "      <td>0</td>\n",
       "    </tr>\n",
       "    <tr>\n",
       "      <th>4</th>\n",
       "      <td>3527</td>\n",
       "      <td>351</td>\n",
       "      <td>2744</td>\n",
       "      <td>0</td>\n",
       "    </tr>\n",
       "    <tr>\n",
       "      <th>5</th>\n",
       "      <td>1169</td>\n",
       "      <td>2758</td>\n",
       "      <td>2652</td>\n",
       "      <td>1</td>\n",
       "    </tr>\n",
       "    <tr>\n",
       "      <th>6</th>\n",
       "      <td>3496</td>\n",
       "      <td>466</td>\n",
       "      <td>423</td>\n",
       "      <td>0</td>\n",
       "    </tr>\n",
       "    <tr>\n",
       "      <th>7</th>\n",
       "      <td>1684</td>\n",
       "      <td>319</td>\n",
       "      <td>219</td>\n",
       "      <td>0</td>\n",
       "    </tr>\n",
       "    <tr>\n",
       "      <th>8</th>\n",
       "      <td>2968</td>\n",
       "      <td>1179</td>\n",
       "      <td>3128</td>\n",
       "      <td>0</td>\n",
       "    </tr>\n",
       "    <tr>\n",
       "      <th>9</th>\n",
       "      <td>657</td>\n",
       "      <td>127</td>\n",
       "      <td>1761</td>\n",
       "      <td>1</td>\n",
       "    </tr>\n",
       "  </tbody>\n",
       "</table>\n",
       "</div>"
      ],
      "text/plain": [
       "   UserID  Item1  Item2  bitClassification\n",
       "0    1963    987   1436                  1\n",
       "1    5951   1080    872                  1\n",
       "2    1254     90    192                  1\n",
       "3    2738   3003   1945                  0\n",
       "4    3527    351   2744                  0\n",
       "5    1169   2758   2652                  1\n",
       "6    3496    466    423                  0\n",
       "7    1684    319    219                  0\n",
       "8    2968   1179   3128                  0\n",
       "9     657    127   1761                  1"
      ]
     },
     "execution_count": 42,
     "metadata": {},
     "output_type": "execute_result"
    }
   ],
   "source": [
    "df_random_classified.head(10)"
   ]
  },
  {
   "cell_type": "markdown",
   "metadata": {},
   "source": [
    "#### Save to disk"
   ]
  },
  {
   "cell_type": "code",
   "execution_count": 43,
   "metadata": {},
   "outputs": [],
   "source": [
    "df_random_classified.to_csv('df_random_classified.csv', index=False)"
   ]
  },
  {
   "cell_type": "markdown",
   "metadata": {},
   "source": [
    "### Popularity-based sampled dataset"
   ]
  },
  {
   "cell_type": "code",
   "execution_count": 44,
   "metadata": {},
   "outputs": [
    {
     "data": {
      "text/html": [
       "<div>\n",
       "<style scoped>\n",
       "    .dataframe tbody tr th:only-of-type {\n",
       "        vertical-align: middle;\n",
       "    }\n",
       "\n",
       "    .dataframe tbody tr th {\n",
       "        vertical-align: top;\n",
       "    }\n",
       "\n",
       "    .dataframe thead th {\n",
       "        text-align: right;\n",
       "    }\n",
       "</style>\n",
       "<table border=\"1\" class=\"dataframe\">\n",
       "  <thead>\n",
       "    <tr style=\"text-align: right;\">\n",
       "      <th></th>\n",
       "      <th>UserID</th>\n",
       "      <th>Item1</th>\n",
       "      <th>Item2</th>\n",
       "    </tr>\n",
       "  </thead>\n",
       "  <tbody>\n",
       "    <tr>\n",
       "      <th>0</th>\n",
       "      <td>1963</td>\n",
       "      <td>1503</td>\n",
       "      <td>2798</td>\n",
       "    </tr>\n",
       "    <tr>\n",
       "      <th>1</th>\n",
       "      <td>5951</td>\n",
       "      <td>1098</td>\n",
       "      <td>1511</td>\n",
       "    </tr>\n",
       "    <tr>\n",
       "      <th>2</th>\n",
       "      <td>1254</td>\n",
       "      <td>366</td>\n",
       "      <td>3523</td>\n",
       "    </tr>\n",
       "    <tr>\n",
       "      <th>3</th>\n",
       "      <td>2738</td>\n",
       "      <td>1546</td>\n",
       "      <td>197</td>\n",
       "    </tr>\n",
       "    <tr>\n",
       "      <th>4</th>\n",
       "      <td>3527</td>\n",
       "      <td>406</td>\n",
       "      <td>3527</td>\n",
       "    </tr>\n",
       "  </tbody>\n",
       "</table>\n",
       "</div>"
      ],
      "text/plain": [
       "   UserID  Item1  Item2\n",
       "0    1963   1503   2798\n",
       "1    5951   1098   1511\n",
       "2    1254    366   3523\n",
       "3    2738   1546    197\n",
       "4    3527    406   3527"
      ]
     },
     "execution_count": 44,
     "metadata": {},
     "output_type": "execute_result"
    }
   ],
   "source": [
    "df_popular.head()"
   ]
  },
  {
   "cell_type": "code",
   "execution_count": 45,
   "metadata": {},
   "outputs": [
    {
     "name": "stdout",
     "output_type": "stream",
     "text": [
      "<class 'pandas.core.frame.DataFrame'>\n",
      "RangeIndex: 6040 entries, 0 to 6039\n",
      "Data columns (total 3 columns):\n",
      " #   Column  Non-Null Count  Dtype\n",
      "---  ------  --------------  -----\n",
      " 0   UserID  6040 non-null   int64\n",
      " 1   Item1   6040 non-null   int64\n",
      " 2   Item2   6040 non-null   int64\n",
      "dtypes: int64(3)\n",
      "memory usage: 141.7 KB\n"
     ]
    }
   ],
   "source": [
    "df_popular.info()"
   ]
  },
  {
   "cell_type": "markdown",
   "metadata": {},
   "source": [
    "#### Encoder user and item IDs"
   ]
  },
  {
   "cell_type": "code",
   "execution_count": 46,
   "metadata": {},
   "outputs": [],
   "source": [
    "df_popular['UserID_Encoded'] = df_popular['UserID'].map(user_to_index)\n",
    "\n",
    "df_popular['Item1_Encoded'] = df_popular['Item1'].map(item_to_index)\n",
    "df_popular['Item2_Encoded'] = df_popular['Item2'].map(item_to_index)"
   ]
  },
  {
   "cell_type": "code",
   "execution_count": 47,
   "metadata": {},
   "outputs": [
    {
     "data": {
      "text/plain": [
       "UserID            0\n",
       "Item1             0\n",
       "Item2             0\n",
       "UserID_Encoded    0\n",
       "Item1_Encoded     1\n",
       "Item2_Encoded     0\n",
       "dtype: int64"
      ]
     },
     "execution_count": 47,
     "metadata": {},
     "output_type": "execute_result"
    }
   ],
   "source": [
    "df_popular.isnull().sum()"
   ]
  },
  {
   "cell_type": "markdown",
   "metadata": {},
   "source": [
    "#### Generate classifications"
   ]
  },
  {
   "cell_type": "code",
   "execution_count": 48,
   "metadata": {},
   "outputs": [],
   "source": [
    "df_popular_classified = generate_item_classification(model, df_popular, user_vectors)"
   ]
  },
  {
   "cell_type": "code",
   "execution_count": 49,
   "metadata": {},
   "outputs": [
    {
     "data": {
      "text/html": [
       "<div>\n",
       "<style scoped>\n",
       "    .dataframe tbody tr th:only-of-type {\n",
       "        vertical-align: middle;\n",
       "    }\n",
       "\n",
       "    .dataframe tbody tr th {\n",
       "        vertical-align: top;\n",
       "    }\n",
       "\n",
       "    .dataframe thead th {\n",
       "        text-align: right;\n",
       "    }\n",
       "</style>\n",
       "<table border=\"1\" class=\"dataframe\">\n",
       "  <thead>\n",
       "    <tr style=\"text-align: right;\">\n",
       "      <th></th>\n",
       "      <th>UserID</th>\n",
       "      <th>Item1</th>\n",
       "      <th>Item2</th>\n",
       "      <th>UserID_Encoded</th>\n",
       "      <th>Item1_Encoded</th>\n",
       "      <th>Item2_Encoded</th>\n",
       "      <th>bitClassification</th>\n",
       "    </tr>\n",
       "  </thead>\n",
       "  <tbody>\n",
       "    <tr>\n",
       "      <th>0</th>\n",
       "      <td>1963</td>\n",
       "      <td>1503</td>\n",
       "      <td>2798</td>\n",
       "      <td>0</td>\n",
       "      <td>144.0</td>\n",
       "      <td>2133</td>\n",
       "      <td>0</td>\n",
       "    </tr>\n",
       "    <tr>\n",
       "      <th>1</th>\n",
       "      <td>5951</td>\n",
       "      <td>1098</td>\n",
       "      <td>1511</td>\n",
       "      <td>1</td>\n",
       "      <td>863.0</td>\n",
       "      <td>598</td>\n",
       "      <td>0</td>\n",
       "    </tr>\n",
       "    <tr>\n",
       "      <th>2</th>\n",
       "      <td>1254</td>\n",
       "      <td>366</td>\n",
       "      <td>3523</td>\n",
       "      <td>2</td>\n",
       "      <td>693.0</td>\n",
       "      <td>110</td>\n",
       "      <td>0</td>\n",
       "    </tr>\n",
       "    <tr>\n",
       "      <th>3</th>\n",
       "      <td>2738</td>\n",
       "      <td>1546</td>\n",
       "      <td>197</td>\n",
       "      <td>3</td>\n",
       "      <td>72.0</td>\n",
       "      <td>61</td>\n",
       "      <td>0</td>\n",
       "    </tr>\n",
       "    <tr>\n",
       "      <th>4</th>\n",
       "      <td>3527</td>\n",
       "      <td>406</td>\n",
       "      <td>3527</td>\n",
       "      <td>4</td>\n",
       "      <td>101.0</td>\n",
       "      <td>557</td>\n",
       "      <td>1</td>\n",
       "    </tr>\n",
       "  </tbody>\n",
       "</table>\n",
       "</div>"
      ],
      "text/plain": [
       "   UserID  Item1  Item2  UserID_Encoded  Item1_Encoded  Item2_Encoded  \\\n",
       "0    1963   1503   2798               0          144.0           2133   \n",
       "1    5951   1098   1511               1          863.0            598   \n",
       "2    1254    366   3523               2          693.0            110   \n",
       "3    2738   1546    197               3           72.0             61   \n",
       "4    3527    406   3527               4          101.0            557   \n",
       "\n",
       "   bitClassification  \n",
       "0                  0  \n",
       "1                  0  \n",
       "2                  0  \n",
       "3                  0  \n",
       "4                  1  "
      ]
     },
     "execution_count": 49,
     "metadata": {},
     "output_type": "execute_result"
    }
   ],
   "source": [
    "df_popular_classified.head()"
   ]
  },
  {
   "cell_type": "markdown",
   "metadata": {},
   "source": [
    "#### Remove undesired columns"
   ]
  },
  {
   "cell_type": "code",
   "execution_count": 50,
   "metadata": {},
   "outputs": [],
   "source": [
    "df_popular_classified = df_popular_classified.drop(['UserID_Encoded', 'Item1_Encoded', 'Item2_Encoded'], axis=1)"
   ]
  },
  {
   "cell_type": "code",
   "execution_count": 51,
   "metadata": {},
   "outputs": [
    {
     "data": {
      "text/html": [
       "<div>\n",
       "<style scoped>\n",
       "    .dataframe tbody tr th:only-of-type {\n",
       "        vertical-align: middle;\n",
       "    }\n",
       "\n",
       "    .dataframe tbody tr th {\n",
       "        vertical-align: top;\n",
       "    }\n",
       "\n",
       "    .dataframe thead th {\n",
       "        text-align: right;\n",
       "    }\n",
       "</style>\n",
       "<table border=\"1\" class=\"dataframe\">\n",
       "  <thead>\n",
       "    <tr style=\"text-align: right;\">\n",
       "      <th></th>\n",
       "      <th>UserID</th>\n",
       "      <th>Item1</th>\n",
       "      <th>Item2</th>\n",
       "      <th>bitClassification</th>\n",
       "    </tr>\n",
       "  </thead>\n",
       "  <tbody>\n",
       "    <tr>\n",
       "      <th>0</th>\n",
       "      <td>1963</td>\n",
       "      <td>1503</td>\n",
       "      <td>2798</td>\n",
       "      <td>0</td>\n",
       "    </tr>\n",
       "    <tr>\n",
       "      <th>1</th>\n",
       "      <td>5951</td>\n",
       "      <td>1098</td>\n",
       "      <td>1511</td>\n",
       "      <td>0</td>\n",
       "    </tr>\n",
       "    <tr>\n",
       "      <th>2</th>\n",
       "      <td>1254</td>\n",
       "      <td>366</td>\n",
       "      <td>3523</td>\n",
       "      <td>0</td>\n",
       "    </tr>\n",
       "    <tr>\n",
       "      <th>3</th>\n",
       "      <td>2738</td>\n",
       "      <td>1546</td>\n",
       "      <td>197</td>\n",
       "      <td>0</td>\n",
       "    </tr>\n",
       "    <tr>\n",
       "      <th>4</th>\n",
       "      <td>3527</td>\n",
       "      <td>406</td>\n",
       "      <td>3527</td>\n",
       "      <td>1</td>\n",
       "    </tr>\n",
       "    <tr>\n",
       "      <th>5</th>\n",
       "      <td>1169</td>\n",
       "      <td>2409</td>\n",
       "      <td>1264</td>\n",
       "      <td>0</td>\n",
       "    </tr>\n",
       "    <tr>\n",
       "      <th>6</th>\n",
       "      <td>3496</td>\n",
       "      <td>3666</td>\n",
       "      <td>500</td>\n",
       "      <td>1</td>\n",
       "    </tr>\n",
       "    <tr>\n",
       "      <th>7</th>\n",
       "      <td>1684</td>\n",
       "      <td>109</td>\n",
       "      <td>848</td>\n",
       "      <td>1</td>\n",
       "    </tr>\n",
       "    <tr>\n",
       "      <th>8</th>\n",
       "      <td>2968</td>\n",
       "      <td>1568</td>\n",
       "      <td>531</td>\n",
       "      <td>0</td>\n",
       "    </tr>\n",
       "    <tr>\n",
       "      <th>9</th>\n",
       "      <td>657</td>\n",
       "      <td>1642</td>\n",
       "      <td>2446</td>\n",
       "      <td>0</td>\n",
       "    </tr>\n",
       "  </tbody>\n",
       "</table>\n",
       "</div>"
      ],
      "text/plain": [
       "   UserID  Item1  Item2  bitClassification\n",
       "0    1963   1503   2798                  0\n",
       "1    5951   1098   1511                  0\n",
       "2    1254    366   3523                  0\n",
       "3    2738   1546    197                  0\n",
       "4    3527    406   3527                  1\n",
       "5    1169   2409   1264                  0\n",
       "6    3496   3666    500                  1\n",
       "7    1684    109    848                  1\n",
       "8    2968   1568    531                  0\n",
       "9     657   1642   2446                  0"
      ]
     },
     "execution_count": 51,
     "metadata": {},
     "output_type": "execute_result"
    }
   ],
   "source": [
    "df_popular_classified.head(10)"
   ]
  },
  {
   "cell_type": "markdown",
   "metadata": {},
   "source": [
    "#### Save to disk"
   ]
  },
  {
   "cell_type": "code",
   "execution_count": 52,
   "metadata": {},
   "outputs": [],
   "source": [
    "df_popular_classified.to_csv('df_popular_classified.csv', index=False)"
   ]
  }
 ],
 "metadata": {
  "kernelspec": {
   "display_name": "Python 3",
   "language": "python",
   "name": "python3"
  },
  "language_info": {
   "codemirror_mode": {
    "name": "ipython",
    "version": 3
   },
   "file_extension": ".py",
   "mimetype": "text/x-python",
   "name": "python",
   "nbconvert_exporter": "python",
   "pygments_lexer": "ipython3",
   "version": "3.7.7"
  }
 },
 "nbformat": 4,
 "nbformat_minor": 4
}
