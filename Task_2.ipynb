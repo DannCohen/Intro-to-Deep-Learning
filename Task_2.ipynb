{
 "cells": [
  {
   "cell_type": "markdown",
   "metadata": {},
   "source": [
    "# Transfer Learning with Pytorch"
   ]
  },
  {
   "cell_type": "markdown",
   "metadata": {},
   "source": [
    "In this excercise, you will implement a 2-class classification neural network, using transfer learning from a pre-trained resnet18 network. A pre-trained model is a model that was trained on a large benchmark dataset to solve a problem similar to the one that we want to solve (but not identical). The pre-trained network could have been trained on a different dataset and sometimes also on a different task. The important thing is that it would be a related task and a realted dataset. This way, we can leverage previous learneinng to solve the new problem (instead of training the model from scratch). The ResNet18 model was pre-trained on the [ImageNet](http://image-net.org/index) dataset (a large dataset consisting of 1.4M images and 1000 classes). \n",
    "\n",
    "Transfer learning can be used in two ways:\n",
    "1. Feature extractor: Here we remove top layers, freeze the weights of all remaining layers, add a new fully connected layers on top of the pretrained model. Then. we train only these new layers to solve the new task.\n",
    "2. Fine tuning: Here we unfreezing the entire model (or part of it), add a new fully connected layers on top of the pre-trained model (as before) and re-train the entire model on the new data with a very low learning rate. We can use either end-to-end re-training, or re-train only part of the network.\n",
    "\n",
    "### CIFAR-10 Dataset:\n",
    "\n",
    "In this assignment, you will need to perform transfer learning using the ResNet18 network in order to classify and discern between images of cats and dogs in a different dataset: [CIFAR-10](https://www.cs.toronto.edu/~kriz/cifar.html) \n",
    "\n"
   ]
  },
  {
   "cell_type": "markdown",
   "metadata": {},
   "source": [
    "# Part 1- Feature Extractor"
   ]
  },
  {
   "cell_type": "markdown",
   "metadata": {},
   "source": [
    "In this part of the exercise, you need to classify images of 'Cat' and 'Dog' by using transfer learning with the feature extractor approach and a pre-trained ResNet18 network.\n",
    "\n",
    "The pre-trained model is built out of two main parts, the features and the classifier. The features part is a stack of convolutional layers. You will need to extract the image representation that should be fed into a classifier. For the classifier, please use a single fully-connected layer. \n",
    "\n",
    "\n",
    "In order to make things efficient, start by using the ResNet18 network in order to extract image represetnations for the images in CIFAR-10 dataset. Please make sure to this only once (please do not extract the image representations each time it is needed in the training phase)! You can store the resulting image representations as feature vectors and train the classifier using these vectors. At test time, you can merge both network in order to achive a single end-to-end classifier.  \n",
    "Note: This is different from what you saw in the recitation (dl_r4_cnns).\n",
    "\n",
    "At the test time, you can merge the feature extraction netowork with the new prediction head, in order to recive a \"full solution\".\n"
   ]
  },
  {
   "cell_type": "markdown",
   "metadata": {},
   "source": [
    "**Let's first import all the packages that you will need during this part of assignment:**"
   ]
  },
  {
   "cell_type": "code",
   "execution_count": 129,
   "metadata": {},
   "outputs": [],
   "source": [
    "import torch\n",
    "from torch import nn\n",
    "import torchvision\n",
    "from torchvision import datasets, models, transforms\n",
    "\n",
    "import matplotlib.pyplot as plt\n",
    "import numpy as np\n",
    "from sklearn.linear_model import LogisticRegression, LogisticRegressionCV\n",
    "import time\n",
    "\n",
    "import sklearn\n",
    "from sklearn.linear_model import LogisticRegression, LinearRegression\n",
    "from sklearn.metrics import roc_auc_score, roc_curve, auc"
   ]
  },
  {
   "cell_type": "markdown",
   "metadata": {},
   "source": [
    "The ResNet18 network requires images of at least 200x200 pixels. However, the CIFAR-10 dataset consists of small images of 32x32 pixels. Hence, you will need to reshape the images before we use them into the ResNet18 network.\n",
    "Additionally, you will need to match the normalization used while training the ResNet18: each color channel should be normalized separately. The channel means are [0.485, 0.456, 0.406] and the standard deviations are [0.229, 0.224, 0.225]."
   ]
  },
  {
   "cell_type": "markdown",
   "metadata": {},
   "source": [
    "**Use the transforms library from  torchvision and definethese transformations:**"
   ]
  },
  {
   "cell_type": "code",
   "execution_count": 130,
   "metadata": {},
   "outputs": [],
   "source": [
    "# Specify transforms using torchvision.transforms as transforms library\n",
    "### START CODE HERE ###\n",
    "preprocessing = transforms.Compose([\n",
    "    transforms.Resize((200, 200)),\n",
    "    transforms.ToTensor(),\n",
    "    transforms.Normalize((0.485, 0.456, 0.406), (0.229, 0.224, 0.225)),\n",
    "])"
   ]
  },
  {
   "cell_type": "markdown",
   "metadata": {},
   "source": [
    "#### Load CIFAR10 dataset and transform dataset from torchvision:"
   ]
  },
  {
   "cell_type": "code",
   "execution_count": 131,
   "metadata": {},
   "outputs": [
    {
     "name": "stdout",
     "output_type": "stream",
     "text": [
      "Files already downloaded and verified\n",
      "Files already downloaded and verified\n"
     ]
    }
   ],
   "source": [
    "### START CODE HERE ###\n",
    "cifar10_train = torchvision.datasets.CIFAR10('cifar10', train=True, download=True, transform=preprocessing)\n",
    "cifar10_test = torchvision.datasets.CIFAR10('cifar10', train=False, download=True, transform=preprocessing)"
   ]
  },
  {
   "cell_type": "markdown",
   "metadata": {},
   "source": [
    "**Note that the CIFAR10 data set includes 10 labels. Please extract from the entire dataset, only the images with 'Cat' or 'Dog' labels.\n",
    "In order to make the training process faster, you will need to trim the train set to 800 training images of each label (800 dogs and 800 cats). The test set should be trimmed to 250 images of cats and 250 images of dogs.**"
   ]
  },
  {
   "cell_type": "code",
   "execution_count": 132,
   "metadata": {},
   "outputs": [],
   "source": [
    "# Note: In order to separating the data/label you can apply \"classes\"/\"targets\" methods on CIFAR10 data sets\n",
    "### START CODE HERE ###\n",
    "class CatsAndDogsDataset(torch.utils.data.Dataset):\n",
    "    def __init__(self, cifar, is_train):\n",
    "        super().__init__()\n",
    "        \n",
    "        self.cifar = cifar\n",
    "        \n",
    "        # Extract the indices of all the images of cats and dogs\n",
    "        cat_indices = self._get_class_indices(cifar, 'cat', is_train)\n",
    "        dog_indices = self._get_class_indices(cifar, 'dog', is_train)\n",
    "        \n",
    "        # Concatenate the indices of cats and dogs into a single array\n",
    "        self.data_indices = np.concatenate([cat_indices, dog_indices], axis=0)\n",
    "        \n",
    "        # Create labels, 0 for cats and 1 for dogs\n",
    "        cat_labels = np.zeros(len(cat_indices), dtype=np.int64)\n",
    "        dog_labels = np.ones(len(dog_indices), dtype=np.int64)\n",
    "        \n",
    "        # Concatenate labels into a single array\n",
    "        self.labels = np.concatenate([cat_labels, dog_labels], axis=0)\n",
    "        \n",
    "        # Shuffle data\n",
    "        self.data_indices, self.labels = self._shuffle_data(self.data_indices, self.labels)\n",
    "        \n",
    "    def _get_class_indices(self, cifar, class_name, is_train):\n",
    "        # Translate class to index in the CIFAR10 dataset\n",
    "        class_index = cifar.class_to_idx[class_name]\n",
    "        \n",
    "        # Take all the indices of the desired class\n",
    "        indices = [i for i, label in enumerate(cifar.targets) if label == class_index]\n",
    "        \n",
    "        # Trim the dataset\n",
    "        if is_train:\n",
    "            indices = indices[:800]\n",
    "        else:\n",
    "            indices = indices[:250]\n",
    "\n",
    "        return indices\n",
    "    \n",
    "    def _shuffle_data(self, data_indices, labels):\n",
    "        # Shuffle data. We will concatenate class indices and labels together\n",
    "        # so they don't get mixed when shuffling\n",
    "        \n",
    "        # Add a second dimension to concatenate indices and labels on\n",
    "        data_indices = np.expand_dims(data_indices, axis=1)\n",
    "        labels = np.expand_dims(labels, axis=1)\n",
    "        \n",
    "        # Concatenate each index with its associated label\n",
    "        concatenated_data = np.concatenate([data_indices, labels], axis=-1)\n",
    "        \n",
    "        # Shuffle the concatenated array\n",
    "        np.random.shuffle(concatenated_data)\n",
    "        \n",
    "        # Split again the array into indices and labels\n",
    "        data_indices = concatenated_data[:, 0]\n",
    "        labels = concatenated_data[:, 1].astype(np.float32)\n",
    "        \n",
    "        return data_indices, labels\n",
    "    \n",
    "    def __len__(self):\n",
    "        return len(self.data_indices)\n",
    "    \n",
    "    def __getitem__(self, idx):\n",
    "        cifar_idx = self.data_indices[idx]\n",
    "        \n",
    "        return self.cifar.__getitem__(cifar_idx)[0], self.labels[idx]"
   ]
  },
  {
   "cell_type": "code",
   "execution_count": 133,
   "metadata": {},
   "outputs": [],
   "source": [
    "train_dataset = CatsAndDogsDataset(cifar10_train, is_train=True)\n",
    "test_dataset = CatsAndDogsDataset(cifar10_test, is_train=False)"
   ]
  },
  {
   "cell_type": "markdown",
   "metadata": {},
   "source": [
    "**Download the ResNet18 Network from torchvision.models (as seen in the tutorial):**"
   ]
  },
  {
   "cell_type": "code",
   "execution_count": 134,
   "metadata": {},
   "outputs": [],
   "source": [
    "# Creating a device, we will use a CUDA GPU if available\n",
    "device = torch.device('cuda' if torch.cuda.is_available() else 'cpu')"
   ]
  },
  {
   "cell_type": "code",
   "execution_count": 135,
   "metadata": {},
   "outputs": [],
   "source": [
    "### START CODE HERE ###\n",
    "resnet18 = models.resnet18(pretrained=True)\n",
    "for param in resnet18.parameters():\n",
    "    param.requires_grad = False"
   ]
  },
  {
   "cell_type": "code",
   "execution_count": 136,
   "metadata": {},
   "outputs": [
    {
     "data": {
      "text/plain": [
       "ResNet(\n",
       "  (conv1): Conv2d(3, 64, kernel_size=(7, 7), stride=(2, 2), padding=(3, 3), bias=False)\n",
       "  (bn1): BatchNorm2d(64, eps=1e-05, momentum=0.1, affine=True, track_running_stats=True)\n",
       "  (relu): ReLU(inplace=True)\n",
       "  (maxpool): MaxPool2d(kernel_size=3, stride=2, padding=1, dilation=1, ceil_mode=False)\n",
       "  (layer1): Sequential(\n",
       "    (0): BasicBlock(\n",
       "      (conv1): Conv2d(64, 64, kernel_size=(3, 3), stride=(1, 1), padding=(1, 1), bias=False)\n",
       "      (bn1): BatchNorm2d(64, eps=1e-05, momentum=0.1, affine=True, track_running_stats=True)\n",
       "      (relu): ReLU(inplace=True)\n",
       "      (conv2): Conv2d(64, 64, kernel_size=(3, 3), stride=(1, 1), padding=(1, 1), bias=False)\n",
       "      (bn2): BatchNorm2d(64, eps=1e-05, momentum=0.1, affine=True, track_running_stats=True)\n",
       "    )\n",
       "    (1): BasicBlock(\n",
       "      (conv1): Conv2d(64, 64, kernel_size=(3, 3), stride=(1, 1), padding=(1, 1), bias=False)\n",
       "      (bn1): BatchNorm2d(64, eps=1e-05, momentum=0.1, affine=True, track_running_stats=True)\n",
       "      (relu): ReLU(inplace=True)\n",
       "      (conv2): Conv2d(64, 64, kernel_size=(3, 3), stride=(1, 1), padding=(1, 1), bias=False)\n",
       "      (bn2): BatchNorm2d(64, eps=1e-05, momentum=0.1, affine=True, track_running_stats=True)\n",
       "    )\n",
       "  )\n",
       "  (layer2): Sequential(\n",
       "    (0): BasicBlock(\n",
       "      (conv1): Conv2d(64, 128, kernel_size=(3, 3), stride=(2, 2), padding=(1, 1), bias=False)\n",
       "      (bn1): BatchNorm2d(128, eps=1e-05, momentum=0.1, affine=True, track_running_stats=True)\n",
       "      (relu): ReLU(inplace=True)\n",
       "      (conv2): Conv2d(128, 128, kernel_size=(3, 3), stride=(1, 1), padding=(1, 1), bias=False)\n",
       "      (bn2): BatchNorm2d(128, eps=1e-05, momentum=0.1, affine=True, track_running_stats=True)\n",
       "      (downsample): Sequential(\n",
       "        (0): Conv2d(64, 128, kernel_size=(1, 1), stride=(2, 2), bias=False)\n",
       "        (1): BatchNorm2d(128, eps=1e-05, momentum=0.1, affine=True, track_running_stats=True)\n",
       "      )\n",
       "    )\n",
       "    (1): BasicBlock(\n",
       "      (conv1): Conv2d(128, 128, kernel_size=(3, 3), stride=(1, 1), padding=(1, 1), bias=False)\n",
       "      (bn1): BatchNorm2d(128, eps=1e-05, momentum=0.1, affine=True, track_running_stats=True)\n",
       "      (relu): ReLU(inplace=True)\n",
       "      (conv2): Conv2d(128, 128, kernel_size=(3, 3), stride=(1, 1), padding=(1, 1), bias=False)\n",
       "      (bn2): BatchNorm2d(128, eps=1e-05, momentum=0.1, affine=True, track_running_stats=True)\n",
       "    )\n",
       "  )\n",
       "  (layer3): Sequential(\n",
       "    (0): BasicBlock(\n",
       "      (conv1): Conv2d(128, 256, kernel_size=(3, 3), stride=(2, 2), padding=(1, 1), bias=False)\n",
       "      (bn1): BatchNorm2d(256, eps=1e-05, momentum=0.1, affine=True, track_running_stats=True)\n",
       "      (relu): ReLU(inplace=True)\n",
       "      (conv2): Conv2d(256, 256, kernel_size=(3, 3), stride=(1, 1), padding=(1, 1), bias=False)\n",
       "      (bn2): BatchNorm2d(256, eps=1e-05, momentum=0.1, affine=True, track_running_stats=True)\n",
       "      (downsample): Sequential(\n",
       "        (0): Conv2d(128, 256, kernel_size=(1, 1), stride=(2, 2), bias=False)\n",
       "        (1): BatchNorm2d(256, eps=1e-05, momentum=0.1, affine=True, track_running_stats=True)\n",
       "      )\n",
       "    )\n",
       "    (1): BasicBlock(\n",
       "      (conv1): Conv2d(256, 256, kernel_size=(3, 3), stride=(1, 1), padding=(1, 1), bias=False)\n",
       "      (bn1): BatchNorm2d(256, eps=1e-05, momentum=0.1, affine=True, track_running_stats=True)\n",
       "      (relu): ReLU(inplace=True)\n",
       "      (conv2): Conv2d(256, 256, kernel_size=(3, 3), stride=(1, 1), padding=(1, 1), bias=False)\n",
       "      (bn2): BatchNorm2d(256, eps=1e-05, momentum=0.1, affine=True, track_running_stats=True)\n",
       "    )\n",
       "  )\n",
       "  (layer4): Sequential(\n",
       "    (0): BasicBlock(\n",
       "      (conv1): Conv2d(256, 512, kernel_size=(3, 3), stride=(2, 2), padding=(1, 1), bias=False)\n",
       "      (bn1): BatchNorm2d(512, eps=1e-05, momentum=0.1, affine=True, track_running_stats=True)\n",
       "      (relu): ReLU(inplace=True)\n",
       "      (conv2): Conv2d(512, 512, kernel_size=(3, 3), stride=(1, 1), padding=(1, 1), bias=False)\n",
       "      (bn2): BatchNorm2d(512, eps=1e-05, momentum=0.1, affine=True, track_running_stats=True)\n",
       "      (downsample): Sequential(\n",
       "        (0): Conv2d(256, 512, kernel_size=(1, 1), stride=(2, 2), bias=False)\n",
       "        (1): BatchNorm2d(512, eps=1e-05, momentum=0.1, affine=True, track_running_stats=True)\n",
       "      )\n",
       "    )\n",
       "    (1): BasicBlock(\n",
       "      (conv1): Conv2d(512, 512, kernel_size=(3, 3), stride=(1, 1), padding=(1, 1), bias=False)\n",
       "      (bn1): BatchNorm2d(512, eps=1e-05, momentum=0.1, affine=True, track_running_stats=True)\n",
       "      (relu): ReLU(inplace=True)\n",
       "      (conv2): Conv2d(512, 512, kernel_size=(3, 3), stride=(1, 1), padding=(1, 1), bias=False)\n",
       "      (bn2): BatchNorm2d(512, eps=1e-05, momentum=0.1, affine=True, track_running_stats=True)\n",
       "    )\n",
       "  )\n",
       "  (avgpool): AdaptiveAvgPool2d(output_size=(1, 1))\n",
       "  (fc): Linear(in_features=512, out_features=1000, bias=True)\n",
       ")"
      ]
     },
     "execution_count": 136,
     "metadata": {},
     "output_type": "execute_result"
    }
   ],
   "source": [
    "# Move model to our selected device\n",
    "resnet18.to(device)"
   ]
  },
  {
   "cell_type": "markdown",
   "metadata": {},
   "source": [
    "#### Now, use the pre-trained Resnet18 to extract feautres from the CIFAR10 dataset and feed your classifier with these feature vectors. To do that, you need to cut the head of the pre-trained ResNet18 model, then feed the model with the CIFAR10 data sets (train and test).  The resulting image representations should be \"flattened\" and used as feature vectors:"
   ]
  },
  {
   "cell_type": "code",
   "execution_count": 137,
   "metadata": {},
   "outputs": [],
   "source": [
    "# Remove head\n",
    "resnet18_feature_extractor = torch.nn.Sequential(*(list(resnet18.children())[:-1]))"
   ]
  },
  {
   "cell_type": "code",
   "execution_count": 138,
   "metadata": {},
   "outputs": [],
   "source": [
    "def extract_features(feature_extractor, dataset, device='cpu'):\n",
    "    image_features = []\n",
    "    labels = []\n",
    "\n",
    "    for image, label in dataset:\n",
    "        \n",
    "        images_batch = image.unsqueeze(0)\n",
    "        images_batch = images_batch.to(device)\n",
    "        \n",
    "        features = feature_extractor(images_batch).squeeze()\n",
    "        image_features.append(features)\n",
    "        labels.append(label)\n",
    "        \n",
    "    image_features = torch.stack(image_features).detach().cpu()\n",
    "    labels = np.array(labels)\n",
    "    \n",
    "    return image_features, labels"
   ]
  },
  {
   "cell_type": "code",
   "execution_count": 139,
   "metadata": {},
   "outputs": [
    {
     "data": {
      "text/plain": [
       "torch.Size([1600, 512])"
      ]
     },
     "execution_count": 139,
     "metadata": {},
     "output_type": "execute_result"
    }
   ],
   "source": [
    "train_image_features, train_labels = extract_features(resnet18_feature_extractor, train_dataset, device)\n",
    "train_image_features.shape"
   ]
  },
  {
   "cell_type": "code",
   "execution_count": 140,
   "metadata": {
    "scrolled": true
   },
   "outputs": [
    {
     "data": {
      "text/plain": [
       "torch.Size([500, 512])"
      ]
     },
     "execution_count": 140,
     "metadata": {},
     "output_type": "execute_result"
    }
   ],
   "source": [
    "test_image_features, test_labels = extract_features(resnet18_feature_extractor, test_dataset, device)\n",
    "test_image_features.shape"
   ]
  },
  {
   "cell_type": "markdown",
   "metadata": {},
   "source": [
    "# Logistic Regression with scikit-learn library:"
   ]
  },
  {
   "cell_type": "markdown",
   "metadata": {},
   "source": [
    "#### Here, you need to use a logistic regession model from scikit-learn and train it with the data you prepared above. You need to calculate and report the accuracy and AUC for the train and test sets and explain your results."
   ]
  },
  {
   "cell_type": "code",
   "execution_count": 141,
   "metadata": {},
   "outputs": [],
   "source": [
    "### START CODE HERE ###\n",
    "lr = LogisticRegression(max_iter=1000)"
   ]
  },
  {
   "cell_type": "code",
   "execution_count": 142,
   "metadata": {},
   "outputs": [],
   "source": [
    "train_image_features_array = train_image_features.numpy()\n",
    "test_image_features_array = test_image_features.numpy()"
   ]
  },
  {
   "cell_type": "code",
   "execution_count": 143,
   "metadata": {},
   "outputs": [
    {
     "data": {
      "text/plain": [
       "LogisticRegression(max_iter=1000)"
      ]
     },
     "execution_count": 143,
     "metadata": {},
     "output_type": "execute_result"
    }
   ],
   "source": [
    "lr.fit(train_image_features_array, train_labels)"
   ]
  },
  {
   "cell_type": "markdown",
   "metadata": {},
   "source": [
    "#### Train accuracy and AUC"
   ]
  },
  {
   "cell_type": "code",
   "execution_count": 144,
   "metadata": {},
   "outputs": [],
   "source": [
    "def get_accuracy(true_labels, predictions):\n",
    "    return (true_labels == predictions).sum() / len(true_labels)"
   ]
  },
  {
   "cell_type": "code",
   "execution_count": 145,
   "metadata": {},
   "outputs": [],
   "source": [
    "predictions = lr.predict(train_image_features_array)"
   ]
  },
  {
   "cell_type": "code",
   "execution_count": 146,
   "metadata": {},
   "outputs": [
    {
     "name": "stdout",
     "output_type": "stream",
     "text": [
      "Train Accuracy: 0.81125\n"
     ]
    }
   ],
   "source": [
    "accuracy = get_accuracy(train_labels, predictions)\n",
    "print(f'Train Accuracy: {accuracy}')"
   ]
  },
  {
   "cell_type": "code",
   "execution_count": 147,
   "metadata": {},
   "outputs": [
    {
     "name": "stdout",
     "output_type": "stream",
     "text": [
      "Train AUC Score: 0.81125\n"
     ]
    }
   ],
   "source": [
    "score = roc_auc_score(train_labels, predictions)\n",
    "print(f'Train AUC Score: {score}')"
   ]
  },
  {
   "cell_type": "markdown",
   "metadata": {},
   "source": [
    "#### Test accuracy and AUC"
   ]
  },
  {
   "cell_type": "code",
   "execution_count": 148,
   "metadata": {},
   "outputs": [],
   "source": [
    "predictions = lr.predict(test_image_features_array)"
   ]
  },
  {
   "cell_type": "code",
   "execution_count": 149,
   "metadata": {},
   "outputs": [
    {
     "name": "stdout",
     "output_type": "stream",
     "text": [
      "Test Accuracy: 0.654\n"
     ]
    }
   ],
   "source": [
    "accuracy = get_accuracy(test_labels, predictions)\n",
    "print(f'Test Accuracy: {accuracy}')"
   ]
  },
  {
   "cell_type": "code",
   "execution_count": 150,
   "metadata": {},
   "outputs": [
    {
     "name": "stdout",
     "output_type": "stream",
     "text": [
      "Test AUC Score: 0.654\n"
     ]
    }
   ],
   "source": [
    "score = roc_auc_score(test_labels, predictions)\n",
    "print(f'Test AUC Score: {score}')"
   ]
  },
  {
   "cell_type": "markdown",
   "metadata": {},
   "source": [
    "#### Explaning results"
   ]
  },
  {
   "cell_type": "markdown",
   "metadata": {},
   "source": [
    "The training accuracy and AUC are good over 81%, while the test metrics are not great, at 65% AUC. In addition, we can see a big gap when comparing the results on train and test set, which might be an indication of overfitting."
   ]
  },
  {
   "cell_type": "markdown",
   "metadata": {},
   "source": [
    "# Logistic Regression with pytorch:\n",
    "\n",
    "#### Next, you need to use a logistic regession using pythourch as follows:\n",
    "\n",
    "\n",
    "1. Explain the choice of architecture in the head of the neural network.\n",
    "2. Plot training loss per epoch.\n",
    "3. Plot AUC per epoch for train and validation sets.\n",
    "4. Explain your results and findings.\n",
    "5. Does adding one or two hidden layers affect the generalization capabilities of the model?"
   ]
  },
  {
   "cell_type": "markdown",
   "metadata": {},
   "source": [
    "#### Define the model:"
   ]
  },
  {
   "cell_type": "code",
   "execution_count": 151,
   "metadata": {},
   "outputs": [],
   "source": [
    "### START CODE HERE ###\n",
    "\n",
    "# Using the default parameters it will create a logistic regression model. \n",
    "# There are additional parameters to add hidden layers if desired.\n",
    "class LogisticRegressionModel(nn.Module):\n",
    "    def __init__(self, input_size, num_hidden_layers=0, hidden_size=256):\n",
    "        super().__init__()\n",
    "\n",
    "        layer_list = []\n",
    "        \n",
    "        if (num_hidden_layers > 0):\n",
    "            layer = nn.Linear(input_size, hidden_size)\n",
    "            layer_list.append(layer)\n",
    "            \n",
    "            relu = nn.ReLU()\n",
    "            layer_list.append(relu)\n",
    "            \n",
    "            if (num_hidden_layers > 1):\n",
    "                for i in range(num_hidden_layers-1):\n",
    "                    layer = nn.Linear(hidden_size, hidden_size)\n",
    "                    layer_list.append(layer)\n",
    "                    layer_list.append(relu)\n",
    "\n",
    "            # Linear layer of output size 1 because in binary classification\n",
    "            # we predict whether or not the input pertains to the class\n",
    "            layer = nn.Linear(hidden_size, 1)\n",
    "            layer_list.append(layer)\n",
    "        else:\n",
    "            # Linear layer of output size 1 because in binary classification\n",
    "            # we predict whether or not the input pertains to the class\n",
    "            linear = nn.Linear(input_size, 1)\n",
    "            layer_list.append(linear)\n",
    "        \n",
    "        self.layers = nn.ModuleList(layer_list)\n",
    "       \n",
    "        # The sigmoid layer will convert the outputs of the linear layer\n",
    "        # into a probability\n",
    "        self.sigmoid = nn.Sigmoid()\n",
    "        \n",
    "    def forward(self, x):\n",
    "        # Apply every layer in our module list\n",
    "        for layer in self.layers:\n",
    "            x = layer(x)\n",
    "\n",
    "        # Apply the sigmoid\n",
    "        x = self.sigmoid(x)\n",
    "        \n",
    "        # Remove last dimension of size 1\n",
    "        x = x.squeeze(dim=-1)\n",
    "        \n",
    "        return x"
   ]
  },
  {
   "cell_type": "code",
   "execution_count": 152,
   "metadata": {},
   "outputs": [
    {
     "data": {
      "text/plain": [
       "LogisticRegressionModel(\n",
       "  (layers): ModuleList(\n",
       "    (0): Linear(in_features=512, out_features=1, bias=True)\n",
       "  )\n",
       "  (sigmoid): Sigmoid()\n",
       ")"
      ]
     },
     "execution_count": 152,
     "metadata": {},
     "output_type": "execute_result"
    }
   ],
   "source": [
    "logistic_regression_model = LogisticRegressionModel(input_size=512)\n",
    "logistic_regression_model"
   ]
  },
  {
   "cell_type": "markdown",
   "metadata": {},
   "source": [
    "##### Explain the choice of architecture in the head of the neural network."
   ]
  },
  {
   "cell_type": "markdown",
   "metadata": {},
   "source": [
    "The model will need to discern between two classes, so the thing in the image will either be a cat or a dog. So for the head of the model we are using a linear layer with a single unit, and a sigmoid function to output a value between 0 and 1, i.e. a \"probability\" of the image being a dog.\n",
    "\n",
    "An output of 1 will mean the image is a dog, and 0 that the image is a cat."
   ]
  },
  {
   "cell_type": "markdown",
   "metadata": {},
   "source": [
    "#### Training and validation:"
   ]
  },
  {
   "cell_type": "code",
   "execution_count": 153,
   "metadata": {},
   "outputs": [],
   "source": [
    "### START CODE HERE ###\n",
    "\n",
    "# Defines one training step\n",
    "def train_step(model, dataloader, optimizer, criterion, metric=None, device='cpu'):\n",
    "    # put the model in training mode\n",
    "    model.train()\n",
    "\n",
    "    epoch_loss = 0\n",
    "    \n",
    "    if metric is not None:\n",
    "        metric_score = 0\n",
    "\n",
    "    # Run over all the dataset in batches\n",
    "    for step, data in enumerate(dataloader):\n",
    "        # retrieve data from the current batch\n",
    "        X, y = data\n",
    "        \n",
    "        X = X.to(device)\n",
    "        y = y.to(device)\n",
    "        \n",
    "        # we need to zero the gradient of the optimizer in each step\n",
    "        optimizer.zero_grad()\n",
    "\n",
    "        # generate predictions\n",
    "        outputs = model(X)\n",
    "\n",
    "        # calculate loss\n",
    "        loss = criterion(outputs, y)\n",
    "\n",
    "        # backward pass\n",
    "        loss.backward()\n",
    "        \n",
    "        # let optimizer know we did an step (it's important if for example we were using learning rate decay)\n",
    "        optimizer.step()\n",
    "\n",
    "        # accumulate loss\n",
    "        epoch_loss += loss.item()\n",
    "        \n",
    "        # accumulate metric\n",
    "        if metric is not None:\n",
    "            metric_score += metric(y.cpu().numpy(), outputs.detach().cpu().numpy())\n",
    "\n",
    "    # we currently have a sum of the losses, so average them\n",
    "    epoch_loss /= len(dataloader)\n",
    "       \n",
    "    # average metric\n",
    "    if metric is not None:\n",
    "        metric_score /= len(dataloader)\n",
    "       \n",
    "    # if we provided a metric function, return two outputs (the loss and the metric), else return just the loss\n",
    "    result = (epoch_loss, metric_score) if metric is not None else epoch_loss\n",
    "            \n",
    "    return result"
   ]
  },
  {
   "cell_type": "code",
   "execution_count": 154,
   "metadata": {},
   "outputs": [],
   "source": [
    "def evaluate(model, dataloader, criterion, metric=False, device='cpu'):\n",
    "    # put the model in evaluation mode\n",
    "    model.eval()\n",
    "\n",
    "    epoch_loss = 0\n",
    "    \n",
    "    if metric is not None:\n",
    "        metric_score = 0\n",
    "\n",
    "    # do not accumualate gradients for tensors during evaluation\n",
    "    with torch.no_grad():\n",
    "        for _, data in enumerate(dataloader):\n",
    "            # retrieve data from current batch\n",
    "            X, y = data\n",
    "            \n",
    "            X = X.to(device)\n",
    "            y = y.to(device)\n",
    "\n",
    "            # generate predictions\n",
    "            outputs = model(X)\n",
    "\n",
    "            # calculate loss\n",
    "            loss = criterion(outputs, y)\n",
    "\n",
    "            # accumulate loss\n",
    "            epoch_loss += loss.item()\n",
    "            \n",
    "            # accumulate metric, if any\n",
    "            if metric is not None:\n",
    "                metric_score += metric(y.cpu().numpy(), outputs.detach().cpu().numpy())\n",
    "                \n",
    "    # average loss over all the batches\n",
    "    epoch_loss /= len(dataloader)\n",
    "       \n",
    "    # average metric over all the batches\n",
    "    if metric is not None:\n",
    "        metric_score /= len(dataloader)\n",
    "        \n",
    "    # if we provided a metric function, return two outputs (the loss and the metric), else return just the loss\n",
    "    result = (epoch_loss, metric_score) if metric is not None else epoch_loss\n",
    "\n",
    "    return result"
   ]
  },
  {
   "cell_type": "code",
   "execution_count": 155,
   "metadata": {},
   "outputs": [],
   "source": [
    "def train_model(model, trainloader, validationloader, epochs=2, learning_rate=1e-3, mode='classificaton', metric_function=None, device='cpu', verbose=1):\n",
    "\n",
    "    print(\"Training started...\")\n",
    "\n",
    "    # Use Adam optimizer\n",
    "    optimizer = torch.optim.Adam(model.parameters(), lr=learning_rate)\n",
    "\n",
    "    # We will use binary cross-entropy loss for classification and mean squared error loss for regression\n",
    "    criterion = torch.nn.BCELoss() if mode == 'classificaton' else torch.nn.MSELoss()\n",
    "\n",
    "    losses = []\n",
    "    val_losses = []\n",
    "        \n",
    "    if metric_function is not None:\n",
    "        metric_scores = []\n",
    "        val_metric_scores = []\n",
    "\n",
    "    # Train and validate for the number of epoch specified as parameter\n",
    "    for epoch in range(epochs):\n",
    "        # perform a training step\n",
    "        train_loss = train_step(model, trainloader, optimizer, criterion, metric_function, device)\n",
    "        if metric_function is not None:\n",
    "            train_loss, train_metric_score = train_loss\n",
    "\n",
    "        if (verbose):\n",
    "            # perform an evaluation step\n",
    "            val_loss = evaluate(model, validationloader, criterion, metric_function, device)\n",
    "            if metric_function is not None:\n",
    "                val_loss, val_metric_score = val_loss\n",
    "\n",
    "            print(f'epoch {epoch} loss {train_loss} val_loss {val_loss}')\n",
    "\n",
    "            # save losses for plotting them later\n",
    "            losses.append(train_loss)\n",
    "            val_losses.append(val_loss)\n",
    "            \n",
    "            # save metrics for plotting them later\n",
    "            if metric_function is not None:\n",
    "                metric_scores.append(train_metric_score)\n",
    "                val_metric_scores.append(val_metric_score)\n",
    "\n",
    "\n",
    "    # we will return a dictionary containing the losses\n",
    "    history = {'loss': losses, 'val_loss': val_losses}\n",
    "    \n",
    "    # and also the metrics if there were any\n",
    "    if metric_function is not None:\n",
    "        history['metric'] = metric_scores\n",
    "        history['val_metric'] = val_metric_scores\n",
    "\n",
    "    return history"
   ]
  },
  {
   "cell_type": "code",
   "execution_count": 156,
   "metadata": {},
   "outputs": [],
   "source": [
    "def get_features_dataloader(features, labels, batch_size, shuffle):\n",
    "    # Create tensors from numpy arrays\n",
    "    features_tensor = torch.from_numpy(features)\n",
    "    labels_tensor = torch.from_numpy(labels.astype(np.float32))\n",
    "    \n",
    "    # Create a dataset from the tensors\n",
    "    features_dataset = torch.utils.data.TensorDataset(features_tensor, labels_tensor)\n",
    "    \n",
    "    # Create a dataloader from the dataset above\n",
    "    features_dataloader = torch.utils.data.DataLoader(features_dataset, batch_size=batch_size, shuffle=shuffle)\n",
    "    \n",
    "    return features_dataloader"
   ]
  },
  {
   "cell_type": "code",
   "execution_count": 157,
   "metadata": {
    "scrolled": true
   },
   "outputs": [],
   "source": [
    "train_dataloader = get_features_dataloader(train_image_features_array, train_labels, batch_size=32, shuffle=True)\n",
    "test_dataloader = get_features_dataloader(test_image_features_array, test_labels, batch_size=32, shuffle=False)"
   ]
  },
  {
   "cell_type": "code",
   "execution_count": 158,
   "metadata": {},
   "outputs": [
    {
     "data": {
      "text/plain": [
       "(torch.Size([32, 512]), torch.Size([32]))"
      ]
     },
     "execution_count": 158,
     "metadata": {},
     "output_type": "execute_result"
    }
   ],
   "source": [
    "image, labels = next(iter(train_dataloader))\n",
    "image.shape, labels.shape"
   ]
  },
  {
   "cell_type": "code",
   "execution_count": 159,
   "metadata": {},
   "outputs": [
    {
     "data": {
      "text/plain": [
       "(torch.Size([32, 512]), torch.Size([32]))"
      ]
     },
     "execution_count": 159,
     "metadata": {},
     "output_type": "execute_result"
    }
   ],
   "source": [
    "image, labels = next(iter(test_dataloader))\n",
    "image.shape, labels.shape"
   ]
  },
  {
   "cell_type": "code",
   "execution_count": 160,
   "metadata": {
    "scrolled": false
   },
   "outputs": [
    {
     "name": "stdout",
     "output_type": "stream",
     "text": [
      "Training started...\n",
      "epoch 0 loss 0.6976746070384979 val_loss 0.7131290957331657\n",
      "epoch 1 loss 0.6999014461040497 val_loss 0.6937353238463402\n",
      "epoch 2 loss 0.7035570919513703 val_loss 0.6981324441730976\n",
      "epoch 3 loss 0.6991552877426147 val_loss 0.6963935047388077\n",
      "epoch 4 loss 0.6947609281539917 val_loss 0.6930332519114017\n",
      "epoch 5 loss 0.6966975605487824 val_loss 0.6932752318680286\n",
      "epoch 6 loss 0.6991182506084442 val_loss 0.6924350522458553\n",
      "epoch 7 loss 0.7026621782779694 val_loss 0.6935486271977425\n",
      "epoch 8 loss 0.6998035144805909 val_loss 0.7003213949501514\n",
      "epoch 9 loss 0.7034215235710144 val_loss 0.6921772994101048\n",
      "epoch 10 loss 0.6952500200271606 val_loss 0.6938508562743664\n",
      "epoch 11 loss 0.7052202987670898 val_loss 0.7213779091835022\n",
      "epoch 12 loss 0.7053253066539764 val_loss 0.6922810487449169\n",
      "epoch 13 loss 0.7001823246479034 val_loss 0.6939633898437023\n",
      "epoch 14 loss 0.7086967051029205 val_loss 0.7210409566760063\n",
      "epoch 15 loss 0.7038611686229705 val_loss 0.7127814330160618\n",
      "epoch 16 loss 0.6959107828140259 val_loss 0.6959420405328274\n",
      "epoch 17 loss 0.7017939412593841 val_loss 0.6925929449498653\n",
      "epoch 18 loss 0.6930613052845002 val_loss 0.6947553381323814\n",
      "epoch 19 loss 0.698122661113739 val_loss 0.7099010162055492\n",
      "epoch 20 loss 0.6984718215465545 val_loss 0.6948481239378452\n",
      "epoch 21 loss 0.6940992510318756 val_loss 0.6926396079361439\n",
      "epoch 22 loss 0.6975394713878632 val_loss 0.7204463928937912\n",
      "epoch 23 loss 0.6990169703960418 val_loss 0.7000484429299831\n",
      "epoch 24 loss 0.6968015348911285 val_loss 0.6913192681968212\n",
      "epoch 25 loss 0.6987760937213898 val_loss 0.6938072741031647\n",
      "epoch 26 loss 0.7004096150398255 val_loss 0.7018042206764221\n",
      "epoch 27 loss 0.693097118139267 val_loss 0.6905556991696358\n",
      "epoch 28 loss 0.6936893701553345 val_loss 0.7105643674731255\n",
      "epoch 29 loss 0.6978309571743011 val_loss 0.7239885218441486\n",
      "epoch 30 loss 0.6959720969200134 val_loss 0.7132657691836357\n",
      "epoch 31 loss 0.6985068345069885 val_loss 0.6925005204975605\n",
      "epoch 32 loss 0.6964687073230743 val_loss 0.6902924105525017\n",
      "epoch 33 loss 0.7018886256217957 val_loss 0.6950740553438663\n",
      "epoch 34 loss 0.6897218704223633 val_loss 0.6895506419241428\n",
      "epoch 35 loss 0.6961508464813232 val_loss 0.6893704198300838\n",
      "epoch 36 loss 0.6967031991481781 val_loss 0.7250261157751083\n",
      "epoch 37 loss 0.6975361680984498 val_loss 0.6911018379032612\n",
      "epoch 38 loss 0.6909947562217712 val_loss 0.691056814044714\n",
      "epoch 39 loss 0.7028488802909851 val_loss 0.7034685276448727\n",
      "epoch 40 loss 0.6952746224403381 val_loss 0.6982639022171497\n",
      "epoch 41 loss 0.6928423130512238 val_loss 0.701647449284792\n",
      "epoch 42 loss 0.6975252842903137 val_loss 0.6929232515394688\n",
      "epoch 43 loss 0.7016334855556488 val_loss 0.7056163400411606\n",
      "epoch 44 loss 0.6888853585720063 val_loss 0.6955041736364365\n",
      "epoch 45 loss 0.6943103015422821 val_loss 0.690427377820015\n",
      "epoch 46 loss 0.6924469649791718 val_loss 0.7315872050821781\n",
      "epoch 47 loss 0.6990638327598572 val_loss 0.7158176749944687\n",
      "epoch 48 loss 0.703395140171051 val_loss 0.6978293098509312\n",
      "epoch 49 loss 0.6922621071338654 val_loss 0.6886668503284454\n"
     ]
    }
   ],
   "source": [
    "# Train the model\n",
    "history = train_model(logistic_regression_model, train_dataloader, test_dataloader, epochs=50, learning_rate=1e-3, metric_function=roc_auc_score)"
   ]
  },
  {
   "cell_type": "markdown",
   "metadata": {},
   "source": [
    "#### Visualizing the plots:"
   ]
  },
  {
   "cell_type": "markdown",
   "metadata": {},
   "source": [
    "##### Loss vs epoch"
   ]
  },
  {
   "cell_type": "code",
   "execution_count": 161,
   "metadata": {},
   "outputs": [],
   "source": [
    "### START CODE HERE ###\n",
    "def plot_training_history(history):\n",
    "    plt.plot(history['loss'])\n",
    "    plt.plot(history['val_loss'])\n",
    "    plt.title('model loss')\n",
    "    plt.ylabel('loss')\n",
    "    plt.xlabel('epoch')\n",
    "    plt.legend(['train', 'test'], loc='upper right')\n",
    "    plt.show()"
   ]
  },
  {
   "cell_type": "code",
   "execution_count": 162,
   "metadata": {},
   "outputs": [
    {
     "data": {
      "image/png": "[encoded data removed]",
      "text/plain": [
       "<Figure size 432x288 with 1 Axes>"
      ]
     },
     "metadata": {
      "needs_background": "light"
     },
     "output_type": "display_data"
    }
   ],
   "source": [
    "plot_training_history(history)"
   ]
  },
  {
   "cell_type": "markdown",
   "metadata": {},
   "source": [
    "##### AUC vs epoch"
   ]
  },
  {
   "cell_type": "code",
   "execution_count": 163,
   "metadata": {},
   "outputs": [],
   "source": [
    "def plot_training_metric(history, metric_name):\n",
    "    plt.plot(history['metric'])\n",
    "    plt.plot(history['val_metric'])\n",
    "    plt.title(f'model {metric_name}')\n",
    "    plt.ylabel(metric_name)\n",
    "    plt.xlabel('epoch')\n",
    "    plt.legend(['train', 'test'], loc='upper right')\n",
    "    plt.show()"
   ]
  },
  {
   "cell_type": "code",
   "execution_count": 164,
   "metadata": {},
   "outputs": [
    {
     "data": {
      "image/png": "[encoded data removed]",
      "text/plain": [
       "<Figure size 432x288 with 1 Axes>"
      ]
     },
     "metadata": {
      "needs_background": "light"
     },
     "output_type": "display_data"
    }
   ],
   "source": [
    "plot_training_metric(history, 'auc')"
   ]
  },
  {
   "cell_type": "markdown",
   "metadata": {},
   "source": [
    "#### Results explanation"
   ]
  },
  {
   "cell_type": "markdown",
   "metadata": {},
   "source": [
    "The results are pretty similar to the ones of the Sklearn's linear regression, in both train and test accuracies and AUC."
   ]
  },
  {
   "cell_type": "markdown",
   "metadata": {},
   "source": [
    "#### Checking generalization capabilities with more layers"
   ]
  },
  {
   "cell_type": "markdown",
   "metadata": {},
   "source": [
    "##### 1 extra layer"
   ]
  },
  {
   "cell_type": "code",
   "execution_count": 165,
   "metadata": {},
   "outputs": [
    {
     "data": {
      "text/plain": [
       "LogisticRegressionModel(\n",
       "  (layers): ModuleList(\n",
       "    (0): Linear(in_features=512, out_features=64, bias=True)\n",
       "    (1): ReLU()\n",
       "    (2): Linear(in_features=64, out_features=1, bias=True)\n",
       "  )\n",
       "  (sigmoid): Sigmoid()\n",
       ")"
      ]
     },
     "execution_count": 165,
     "metadata": {},
     "output_type": "execute_result"
    }
   ],
   "source": [
    "mlp1 = LogisticRegressionModel(input_size=512, num_hidden_layers=1, hidden_size=64)\n",
    "mlp1"
   ]
  },
  {
   "cell_type": "code",
   "execution_count": 166,
   "metadata": {},
   "outputs": [
    {
     "name": "stdout",
     "output_type": "stream",
     "text": [
      "Training started...\n",
      "epoch 0 loss 0.694459183216095 val_loss 0.696001086384058\n",
      "epoch 1 loss 0.694506733417511 val_loss 0.6939994022250175\n",
      "epoch 2 loss 0.6949583089351654 val_loss 0.6962062828242779\n",
      "epoch 3 loss 0.6957016050815582 val_loss 0.6932790987193584\n",
      "epoch 4 loss 0.6955228006839752 val_loss 0.6955253928899765\n",
      "epoch 5 loss 0.6971272790431976 val_loss 0.6964186318218708\n",
      "epoch 6 loss 0.6960104775428771 val_loss 0.6967466808855534\n",
      "epoch 7 loss 0.6945063042640686 val_loss 0.6932886503636837\n",
      "epoch 8 loss 0.6950176060199738 val_loss 0.6949049681425095\n",
      "epoch 9 loss 0.6944722080230713 val_loss 0.6938125342130661\n",
      "epoch 10 loss 0.6938297235965729 val_loss 0.6984034217894077\n",
      "epoch 11 loss 0.6961928498744965 val_loss 0.6942400932312012\n",
      "epoch 12 loss 0.6945950722694397 val_loss 0.6938584633171558\n",
      "epoch 13 loss 0.6946459674835205 val_loss 0.6931988336145878\n",
      "epoch 14 loss 0.6932475447654725 val_loss 0.6932231038808823\n",
      "epoch 15 loss 0.6946215927600861 val_loss 0.6931308880448341\n",
      "epoch 16 loss 0.6946047377586365 val_loss 0.6932882368564606\n",
      "epoch 17 loss 0.6941027963161468 val_loss 0.6935001760721207\n",
      "epoch 18 loss 0.6945150947570801 val_loss 0.6932928711175919\n",
      "epoch 19 loss 0.6953152215480805 val_loss 0.6933815628290176\n",
      "epoch 20 loss 0.6944850480556488 val_loss 0.6935751549899578\n",
      "epoch 21 loss 0.6932336235046387 val_loss 0.6964846253395081\n",
      "epoch 22 loss 0.694504417181015 val_loss 0.6951242908835411\n",
      "epoch 23 loss 0.6943716490268708 val_loss 0.7000036500394344\n",
      "epoch 24 loss 0.6949304330348969 val_loss 0.6958655193448067\n",
      "epoch 25 loss 0.6946355998516083 val_loss 0.6929816417396069\n",
      "epoch 26 loss 0.6930521988868713 val_loss 0.6940370127558708\n",
      "epoch 27 loss 0.6946289455890655 val_loss 0.692957203835249\n",
      "epoch 28 loss 0.6951480567455292 val_loss 0.6935022175312042\n",
      "epoch 29 loss 0.693028404712677 val_loss 0.6932579390704632\n",
      "epoch 30 loss 0.6927625751495361 val_loss 0.6973064579069614\n",
      "epoch 31 loss 0.6942096889019013 val_loss 0.6928645186126232\n",
      "epoch 32 loss 0.694564254283905 val_loss 0.693000216037035\n",
      "epoch 33 loss 0.6940910744667054 val_loss 0.6933476030826569\n",
      "epoch 34 loss 0.6950498247146606 val_loss 0.6940659731626511\n",
      "epoch 35 loss 0.6944986081123352 val_loss 0.6927964724600315\n",
      "epoch 36 loss 0.6940414774417877 val_loss 0.692758746445179\n",
      "epoch 37 loss 0.6927852249145507 val_loss 0.6927523724734783\n",
      "epoch 38 loss 0.6935514855384827 val_loss 0.6957028955221176\n",
      "epoch 39 loss 0.6931654727458954 val_loss 0.693503811955452\n",
      "epoch 40 loss 0.6942579889297485 val_loss 0.6957088597118855\n",
      "epoch 41 loss 0.6937020480632782 val_loss 0.6966840028762817\n",
      "epoch 42 loss 0.6927067959308624 val_loss 0.693788442760706\n",
      "epoch 43 loss 0.6942832195758819 val_loss 0.6929107569158077\n",
      "epoch 44 loss 0.69278693318367 val_loss 0.6935592964291573\n",
      "epoch 45 loss 0.693774847984314 val_loss 0.6950522400438786\n",
      "epoch 46 loss 0.692356469631195 val_loss 0.6930158138275146\n",
      "epoch 47 loss 0.6917816412448883 val_loss 0.6939542442560196\n",
      "epoch 48 loss 0.6933978462219238 val_loss 0.693634383380413\n",
      "epoch 49 loss 0.6932078433036805 val_loss 0.6941513158380985\n"
     ]
    }
   ],
   "source": [
    "history = train_model(mlp1, train_dataloader, test_dataloader, epochs=50, learning_rate=1e-4, metric_function=roc_auc_score)"
   ]
  },
  {
   "cell_type": "code",
   "execution_count": 167,
   "metadata": {},
   "outputs": [
    {
     "data": {
      "image/png": "[encoded data removed]",
      "text/plain": [
       "<Figure size 432x288 with 1 Axes>"
      ]
     },
     "metadata": {
      "needs_background": "light"
     },
     "output_type": "display_data"
    }
   ],
   "source": [
    "plot_training_history(history)"
   ]
  },
  {
   "cell_type": "code",
   "execution_count": 168,
   "metadata": {},
   "outputs": [
    {
     "data": {
      "image/png": "[encoded data removed]",
      "text/plain": [
       "<Figure size 432x288 with 1 Axes>"
      ]
     },
     "metadata": {
      "needs_background": "light"
     },
     "output_type": "display_data"
    }
   ],
   "source": [
    "plot_training_metric(history, 'auc')"
   ]
  },
  {
   "cell_type": "markdown",
   "metadata": {},
   "source": [
    "##### 2 extra layers"
   ]
  },
  {
   "cell_type": "code",
   "execution_count": 169,
   "metadata": {},
   "outputs": [
    {
     "data": {
      "text/plain": [
       "LogisticRegressionModel(\n",
       "  (layers): ModuleList(\n",
       "    (0): Linear(in_features=512, out_features=64, bias=True)\n",
       "    (1): ReLU()\n",
       "    (2): Linear(in_features=64, out_features=64, bias=True)\n",
       "    (3): ReLU()\n",
       "    (4): Linear(in_features=64, out_features=1, bias=True)\n",
       "  )\n",
       "  (sigmoid): Sigmoid()\n",
       ")"
      ]
     },
     "execution_count": 169,
     "metadata": {},
     "output_type": "execute_result"
    }
   ],
   "source": [
    "mlp2 = LogisticRegressionModel(input_size=512, num_hidden_layers=2, hidden_size=64)\n",
    "mlp2"
   ]
  },
  {
   "cell_type": "code",
   "execution_count": 170,
   "metadata": {},
   "outputs": [
    {
     "name": "stdout",
     "output_type": "stream",
     "text": [
      "Training started...\n",
      "epoch 0 loss 0.6937693452835083 val_loss 0.693334124982357\n",
      "epoch 1 loss 0.693611456155777 val_loss 0.6932401172816753\n",
      "epoch 2 loss 0.694267635345459 val_loss 0.693285845220089\n",
      "epoch 3 loss 0.6934493350982666 val_loss 0.6932261027395725\n",
      "epoch 4 loss 0.6933156621456146 val_loss 0.6932845786213875\n",
      "epoch 5 loss 0.6938869214057922 val_loss 0.6931793615221977\n",
      "epoch 6 loss 0.6939538860321045 val_loss 0.6932131908833981\n",
      "epoch 7 loss 0.6935126543045044 val_loss 0.6935012489557266\n",
      "epoch 8 loss 0.6933052802085876 val_loss 0.6931083910167217\n",
      "epoch 9 loss 0.6933180606365204 val_loss 0.6931393668055534\n",
      "epoch 10 loss 0.6933841478824615 val_loss 0.6931962296366692\n",
      "epoch 11 loss 0.6935057139396668 val_loss 0.6931054629385471\n",
      "epoch 12 loss 0.6933933734893799 val_loss 0.6931554824113846\n",
      "epoch 13 loss 0.6935648226737976 val_loss 0.6931407526135445\n",
      "epoch 14 loss 0.6933391690254211 val_loss 0.6931413188576698\n",
      "epoch 15 loss 0.6932147848606109 val_loss 0.6931494399905205\n",
      "epoch 16 loss 0.6931462323665619 val_loss 0.6930853761732578\n",
      "epoch 17 loss 0.6932533597946167 val_loss 0.6930817924439907\n",
      "epoch 18 loss 0.693137035369873 val_loss 0.6930747851729393\n",
      "epoch 19 loss 0.6933378422260285 val_loss 0.6930813044309616\n",
      "epoch 20 loss 0.6932197189331055 val_loss 0.6931502744555473\n",
      "epoch 21 loss 0.6932862865924835 val_loss 0.6931044235825539\n",
      "epoch 22 loss 0.6931052339076996 val_loss 0.6930700242519379\n",
      "epoch 23 loss 0.6932397270202637 val_loss 0.6930717639625072\n",
      "epoch 24 loss 0.6933937656879425 val_loss 0.6931060962378979\n",
      "epoch 25 loss 0.6932268178462982 val_loss 0.6930875889956951\n",
      "epoch 26 loss 0.6932052099704742 val_loss 0.6930589489638805\n",
      "epoch 27 loss 0.6931404721736908 val_loss 0.6930569969117641\n",
      "epoch 28 loss 0.6931765723228455 val_loss 0.6930903233587742\n",
      "epoch 29 loss 0.6931031394004822 val_loss 0.6931019052863121\n",
      "epoch 30 loss 0.6932055902481079 val_loss 0.6930504590272903\n",
      "epoch 31 loss 0.6931990480422974 val_loss 0.6931415982544422\n",
      "epoch 32 loss 0.693778760433197 val_loss 0.6931082606315613\n",
      "epoch 33 loss 0.6936889660358428 val_loss 0.6932578422129154\n",
      "epoch 34 loss 0.6931789577007293 val_loss 0.6930658780038357\n",
      "epoch 35 loss 0.6932476341724396 val_loss 0.6931243389844894\n",
      "epoch 36 loss 0.6931392848491669 val_loss 0.6931237354874611\n",
      "epoch 37 loss 0.693132312297821 val_loss 0.6931026950478554\n",
      "epoch 38 loss 0.6934403038024902 val_loss 0.6931357569992542\n",
      "epoch 39 loss 0.693207710981369 val_loss 0.6930658631026745\n",
      "epoch 40 loss 0.6932923197746277 val_loss 0.6931139305233955\n",
      "epoch 41 loss 0.6932097303867341 val_loss 0.6930833272635937\n",
      "epoch 42 loss 0.6932496798038482 val_loss 0.6931034028530121\n",
      "epoch 43 loss 0.693331913948059 val_loss 0.6930668577551842\n",
      "epoch 44 loss 0.6932284283638 val_loss 0.693068340420723\n",
      "epoch 45 loss 0.6931759452819825 val_loss 0.6930733062326908\n",
      "epoch 46 loss 0.6932668089866638 val_loss 0.6930781342089176\n",
      "epoch 47 loss 0.6931100177764893 val_loss 0.693041667342186\n",
      "epoch 48 loss 0.6932055866718292 val_loss 0.6930661834776402\n",
      "epoch 49 loss 0.6931255507469177 val_loss 0.6930359713733196\n"
     ]
    }
   ],
   "source": [
    "history = train_model(mlp2, train_dataloader, test_dataloader, epochs=50, learning_rate=1e-4, metric_function=roc_auc_score)"
   ]
  },
  {
   "cell_type": "code",
   "execution_count": 171,
   "metadata": {},
   "outputs": [
    {
     "data": {
      "image/png": "[encoded data removed]",
      "text/plain": [
       "<Figure size 432x288 with 1 Axes>"
      ]
     },
     "metadata": {
      "needs_background": "light"
     },
     "output_type": "display_data"
    }
   ],
   "source": [
    "plot_training_history(history)"
   ]
  },
  {
   "cell_type": "code",
   "execution_count": 172,
   "metadata": {},
   "outputs": [
    {
     "data": {
      "image/png": "[encoded data removed]",
      "text/plain": [
       "<Figure size 432x288 with 1 Axes>"
      ]
     },
     "metadata": {
      "needs_background": "light"
     },
     "output_type": "display_data"
    }
   ],
   "source": [
    "plot_training_metric(history, 'auc')"
   ]
  },
  {
   "cell_type": "markdown",
   "metadata": {},
   "source": [
    "Adding one or event two layers to the model seems to actually decrease AUC on both train and test sets, so the generalization capabilities of the models are being affected negatively."
   ]
  },
  {
   "cell_type": "markdown",
   "metadata": {},
   "source": [
    "**Here you should merge the feature extractor network layers with the PyTorch logistic regression classifier.**"
   ]
  },
  {
   "cell_type": "code",
   "execution_count": 173,
   "metadata": {},
   "outputs": [],
   "source": [
    "resnet18.fc = logistic_regression_model"
   ]
  },
  {
   "cell_type": "code",
   "execution_count": 174,
   "metadata": {},
   "outputs": [
    {
     "data": {
      "text/plain": [
       "ResNet(\n",
       "  (conv1): Conv2d(3, 64, kernel_size=(7, 7), stride=(2, 2), padding=(3, 3), bias=False)\n",
       "  (bn1): BatchNorm2d(64, eps=1e-05, momentum=0.1, affine=True, track_running_stats=True)\n",
       "  (relu): ReLU(inplace=True)\n",
       "  (maxpool): MaxPool2d(kernel_size=3, stride=2, padding=1, dilation=1, ceil_mode=False)\n",
       "  (layer1): Sequential(\n",
       "    (0): BasicBlock(\n",
       "      (conv1): Conv2d(64, 64, kernel_size=(3, 3), stride=(1, 1), padding=(1, 1), bias=False)\n",
       "      (bn1): BatchNorm2d(64, eps=1e-05, momentum=0.1, affine=True, track_running_stats=True)\n",
       "      (relu): ReLU(inplace=True)\n",
       "      (conv2): Conv2d(64, 64, kernel_size=(3, 3), stride=(1, 1), padding=(1, 1), bias=False)\n",
       "      (bn2): BatchNorm2d(64, eps=1e-05, momentum=0.1, affine=True, track_running_stats=True)\n",
       "    )\n",
       "    (1): BasicBlock(\n",
       "      (conv1): Conv2d(64, 64, kernel_size=(3, 3), stride=(1, 1), padding=(1, 1), bias=False)\n",
       "      (bn1): BatchNorm2d(64, eps=1e-05, momentum=0.1, affine=True, track_running_stats=True)\n",
       "      (relu): ReLU(inplace=True)\n",
       "      (conv2): Conv2d(64, 64, kernel_size=(3, 3), stride=(1, 1), padding=(1, 1), bias=False)\n",
       "      (bn2): BatchNorm2d(64, eps=1e-05, momentum=0.1, affine=True, track_running_stats=True)\n",
       "    )\n",
       "  )\n",
       "  (layer2): Sequential(\n",
       "    (0): BasicBlock(\n",
       "      (conv1): Conv2d(64, 128, kernel_size=(3, 3), stride=(2, 2), padding=(1, 1), bias=False)\n",
       "      (bn1): BatchNorm2d(128, eps=1e-05, momentum=0.1, affine=True, track_running_stats=True)\n",
       "      (relu): ReLU(inplace=True)\n",
       "      (conv2): Conv2d(128, 128, kernel_size=(3, 3), stride=(1, 1), padding=(1, 1), bias=False)\n",
       "      (bn2): BatchNorm2d(128, eps=1e-05, momentum=0.1, affine=True, track_running_stats=True)\n",
       "      (downsample): Sequential(\n",
       "        (0): Conv2d(64, 128, kernel_size=(1, 1), stride=(2, 2), bias=False)\n",
       "        (1): BatchNorm2d(128, eps=1e-05, momentum=0.1, affine=True, track_running_stats=True)\n",
       "      )\n",
       "    )\n",
       "    (1): BasicBlock(\n",
       "      (conv1): Conv2d(128, 128, kernel_size=(3, 3), stride=(1, 1), padding=(1, 1), bias=False)\n",
       "      (bn1): BatchNorm2d(128, eps=1e-05, momentum=0.1, affine=True, track_running_stats=True)\n",
       "      (relu): ReLU(inplace=True)\n",
       "      (conv2): Conv2d(128, 128, kernel_size=(3, 3), stride=(1, 1), padding=(1, 1), bias=False)\n",
       "      (bn2): BatchNorm2d(128, eps=1e-05, momentum=0.1, affine=True, track_running_stats=True)\n",
       "    )\n",
       "  )\n",
       "  (layer3): Sequential(\n",
       "    (0): BasicBlock(\n",
       "      (conv1): Conv2d(128, 256, kernel_size=(3, 3), stride=(2, 2), padding=(1, 1), bias=False)\n",
       "      (bn1): BatchNorm2d(256, eps=1e-05, momentum=0.1, affine=True, track_running_stats=True)\n",
       "      (relu): ReLU(inplace=True)\n",
       "      (conv2): Conv2d(256, 256, kernel_size=(3, 3), stride=(1, 1), padding=(1, 1), bias=False)\n",
       "      (bn2): BatchNorm2d(256, eps=1e-05, momentum=0.1, affine=True, track_running_stats=True)\n",
       "      (downsample): Sequential(\n",
       "        (0): Conv2d(128, 256, kernel_size=(1, 1), stride=(2, 2), bias=False)\n",
       "        (1): BatchNorm2d(256, eps=1e-05, momentum=0.1, affine=True, track_running_stats=True)\n",
       "      )\n",
       "    )\n",
       "    (1): BasicBlock(\n",
       "      (conv1): Conv2d(256, 256, kernel_size=(3, 3), stride=(1, 1), padding=(1, 1), bias=False)\n",
       "      (bn1): BatchNorm2d(256, eps=1e-05, momentum=0.1, affine=True, track_running_stats=True)\n",
       "      (relu): ReLU(inplace=True)\n",
       "      (conv2): Conv2d(256, 256, kernel_size=(3, 3), stride=(1, 1), padding=(1, 1), bias=False)\n",
       "      (bn2): BatchNorm2d(256, eps=1e-05, momentum=0.1, affine=True, track_running_stats=True)\n",
       "    )\n",
       "  )\n",
       "  (layer4): Sequential(\n",
       "    (0): BasicBlock(\n",
       "      (conv1): Conv2d(256, 512, kernel_size=(3, 3), stride=(2, 2), padding=(1, 1), bias=False)\n",
       "      (bn1): BatchNorm2d(512, eps=1e-05, momentum=0.1, affine=True, track_running_stats=True)\n",
       "      (relu): ReLU(inplace=True)\n",
       "      (conv2): Conv2d(512, 512, kernel_size=(3, 3), stride=(1, 1), padding=(1, 1), bias=False)\n",
       "      (bn2): BatchNorm2d(512, eps=1e-05, momentum=0.1, affine=True, track_running_stats=True)\n",
       "      (downsample): Sequential(\n",
       "        (0): Conv2d(256, 512, kernel_size=(1, 1), stride=(2, 2), bias=False)\n",
       "        (1): BatchNorm2d(512, eps=1e-05, momentum=0.1, affine=True, track_running_stats=True)\n",
       "      )\n",
       "    )\n",
       "    (1): BasicBlock(\n",
       "      (conv1): Conv2d(512, 512, kernel_size=(3, 3), stride=(1, 1), padding=(1, 1), bias=False)\n",
       "      (bn1): BatchNorm2d(512, eps=1e-05, momentum=0.1, affine=True, track_running_stats=True)\n",
       "      (relu): ReLU(inplace=True)\n",
       "      (conv2): Conv2d(512, 512, kernel_size=(3, 3), stride=(1, 1), padding=(1, 1), bias=False)\n",
       "      (bn2): BatchNorm2d(512, eps=1e-05, momentum=0.1, affine=True, track_running_stats=True)\n",
       "    )\n",
       "  )\n",
       "  (avgpool): AdaptiveAvgPool2d(output_size=(1, 1))\n",
       "  (fc): LogisticRegressionModel(\n",
       "    (layers): ModuleList(\n",
       "      (0): Linear(in_features=512, out_features=1, bias=True)\n",
       "    )\n",
       "    (sigmoid): Sigmoid()\n",
       "  )\n",
       ")"
      ]
     },
     "execution_count": 174,
     "metadata": {},
     "output_type": "execute_result"
    }
   ],
   "source": [
    "resnet18"
   ]
  },
  {
   "cell_type": "markdown",
   "metadata": {},
   "source": [
    "# Comparing  ResNet18 with ResNet34:"
   ]
  },
  {
   "cell_type": "markdown",
   "metadata": {},
   "source": [
    "#### Download the ResNet34 Network from torchvision.models. Then, repeat the steps described above in order to compare between these ResNet18 and ResNet43. Explain your findings and results!"
   ]
  },
  {
   "cell_type": "code",
   "execution_count": 175,
   "metadata": {},
   "outputs": [
    {
     "data": {
      "text/plain": [
       "ResNet(\n",
       "  (conv1): Conv2d(3, 64, kernel_size=(7, 7), stride=(2, 2), padding=(3, 3), bias=False)\n",
       "  (bn1): BatchNorm2d(64, eps=1e-05, momentum=0.1, affine=True, track_running_stats=True)\n",
       "  (relu): ReLU(inplace=True)\n",
       "  (maxpool): MaxPool2d(kernel_size=3, stride=2, padding=1, dilation=1, ceil_mode=False)\n",
       "  (layer1): Sequential(\n",
       "    (0): BasicBlock(\n",
       "      (conv1): Conv2d(64, 64, kernel_size=(3, 3), stride=(1, 1), padding=(1, 1), bias=False)\n",
       "      (bn1): BatchNorm2d(64, eps=1e-05, momentum=0.1, affine=True, track_running_stats=True)\n",
       "      (relu): ReLU(inplace=True)\n",
       "      (conv2): Conv2d(64, 64, kernel_size=(3, 3), stride=(1, 1), padding=(1, 1), bias=False)\n",
       "      (bn2): BatchNorm2d(64, eps=1e-05, momentum=0.1, affine=True, track_running_stats=True)\n",
       "    )\n",
       "    (1): BasicBlock(\n",
       "      (conv1): Conv2d(64, 64, kernel_size=(3, 3), stride=(1, 1), padding=(1, 1), bias=False)\n",
       "      (bn1): BatchNorm2d(64, eps=1e-05, momentum=0.1, affine=True, track_running_stats=True)\n",
       "      (relu): ReLU(inplace=True)\n",
       "      (conv2): Conv2d(64, 64, kernel_size=(3, 3), stride=(1, 1), padding=(1, 1), bias=False)\n",
       "      (bn2): BatchNorm2d(64, eps=1e-05, momentum=0.1, affine=True, track_running_stats=True)\n",
       "    )\n",
       "    (2): BasicBlock(\n",
       "      (conv1): Conv2d(64, 64, kernel_size=(3, 3), stride=(1, 1), padding=(1, 1), bias=False)\n",
       "      (bn1): BatchNorm2d(64, eps=1e-05, momentum=0.1, affine=True, track_running_stats=True)\n",
       "      (relu): ReLU(inplace=True)\n",
       "      (conv2): Conv2d(64, 64, kernel_size=(3, 3), stride=(1, 1), padding=(1, 1), bias=False)\n",
       "      (bn2): BatchNorm2d(64, eps=1e-05, momentum=0.1, affine=True, track_running_stats=True)\n",
       "    )\n",
       "  )\n",
       "  (layer2): Sequential(\n",
       "    (0): BasicBlock(\n",
       "      (conv1): Conv2d(64, 128, kernel_size=(3, 3), stride=(2, 2), padding=(1, 1), bias=False)\n",
       "      (bn1): BatchNorm2d(128, eps=1e-05, momentum=0.1, affine=True, track_running_stats=True)\n",
       "      (relu): ReLU(inplace=True)\n",
       "      (conv2): Conv2d(128, 128, kernel_size=(3, 3), stride=(1, 1), padding=(1, 1), bias=False)\n",
       "      (bn2): BatchNorm2d(128, eps=1e-05, momentum=0.1, affine=True, track_running_stats=True)\n",
       "      (downsample): Sequential(\n",
       "        (0): Conv2d(64, 128, kernel_size=(1, 1), stride=(2, 2), bias=False)\n",
       "        (1): BatchNorm2d(128, eps=1e-05, momentum=0.1, affine=True, track_running_stats=True)\n",
       "      )\n",
       "    )\n",
       "    (1): BasicBlock(\n",
       "      (conv1): Conv2d(128, 128, kernel_size=(3, 3), stride=(1, 1), padding=(1, 1), bias=False)\n",
       "      (bn1): BatchNorm2d(128, eps=1e-05, momentum=0.1, affine=True, track_running_stats=True)\n",
       "      (relu): ReLU(inplace=True)\n",
       "      (conv2): Conv2d(128, 128, kernel_size=(3, 3), stride=(1, 1), padding=(1, 1), bias=False)\n",
       "      (bn2): BatchNorm2d(128, eps=1e-05, momentum=0.1, affine=True, track_running_stats=True)\n",
       "    )\n",
       "    (2): BasicBlock(\n",
       "      (conv1): Conv2d(128, 128, kernel_size=(3, 3), stride=(1, 1), padding=(1, 1), bias=False)\n",
       "      (bn1): BatchNorm2d(128, eps=1e-05, momentum=0.1, affine=True, track_running_stats=True)\n",
       "      (relu): ReLU(inplace=True)\n",
       "      (conv2): Conv2d(128, 128, kernel_size=(3, 3), stride=(1, 1), padding=(1, 1), bias=False)\n",
       "      (bn2): BatchNorm2d(128, eps=1e-05, momentum=0.1, affine=True, track_running_stats=True)\n",
       "    )\n",
       "    (3): BasicBlock(\n",
       "      (conv1): Conv2d(128, 128, kernel_size=(3, 3), stride=(1, 1), padding=(1, 1), bias=False)\n",
       "      (bn1): BatchNorm2d(128, eps=1e-05, momentum=0.1, affine=True, track_running_stats=True)\n",
       "      (relu): ReLU(inplace=True)\n",
       "      (conv2): Conv2d(128, 128, kernel_size=(3, 3), stride=(1, 1), padding=(1, 1), bias=False)\n",
       "      (bn2): BatchNorm2d(128, eps=1e-05, momentum=0.1, affine=True, track_running_stats=True)\n",
       "    )\n",
       "  )\n",
       "  (layer3): Sequential(\n",
       "    (0): BasicBlock(\n",
       "      (conv1): Conv2d(128, 256, kernel_size=(3, 3), stride=(2, 2), padding=(1, 1), bias=False)\n",
       "      (bn1): BatchNorm2d(256, eps=1e-05, momentum=0.1, affine=True, track_running_stats=True)\n",
       "      (relu): ReLU(inplace=True)\n",
       "      (conv2): Conv2d(256, 256, kernel_size=(3, 3), stride=(1, 1), padding=(1, 1), bias=False)\n",
       "      (bn2): BatchNorm2d(256, eps=1e-05, momentum=0.1, affine=True, track_running_stats=True)\n",
       "      (downsample): Sequential(\n",
       "        (0): Conv2d(128, 256, kernel_size=(1, 1), stride=(2, 2), bias=False)\n",
       "        (1): BatchNorm2d(256, eps=1e-05, momentum=0.1, affine=True, track_running_stats=True)\n",
       "      )\n",
       "    )\n",
       "    (1): BasicBlock(\n",
       "      (conv1): Conv2d(256, 256, kernel_size=(3, 3), stride=(1, 1), padding=(1, 1), bias=False)\n",
       "      (bn1): BatchNorm2d(256, eps=1e-05, momentum=0.1, affine=True, track_running_stats=True)\n",
       "      (relu): ReLU(inplace=True)\n",
       "      (conv2): Conv2d(256, 256, kernel_size=(3, 3), stride=(1, 1), padding=(1, 1), bias=False)\n",
       "      (bn2): BatchNorm2d(256, eps=1e-05, momentum=0.1, affine=True, track_running_stats=True)\n",
       "    )\n",
       "    (2): BasicBlock(\n",
       "      (conv1): Conv2d(256, 256, kernel_size=(3, 3), stride=(1, 1), padding=(1, 1), bias=False)\n",
       "      (bn1): BatchNorm2d(256, eps=1e-05, momentum=0.1, affine=True, track_running_stats=True)\n",
       "      (relu): ReLU(inplace=True)\n",
       "      (conv2): Conv2d(256, 256, kernel_size=(3, 3), stride=(1, 1), padding=(1, 1), bias=False)\n",
       "      (bn2): BatchNorm2d(256, eps=1e-05, momentum=0.1, affine=True, track_running_stats=True)\n",
       "    )\n",
       "    (3): BasicBlock(\n",
       "      (conv1): Conv2d(256, 256, kernel_size=(3, 3), stride=(1, 1), padding=(1, 1), bias=False)\n",
       "      (bn1): BatchNorm2d(256, eps=1e-05, momentum=0.1, affine=True, track_running_stats=True)\n",
       "      (relu): ReLU(inplace=True)\n",
       "      (conv2): Conv2d(256, 256, kernel_size=(3, 3), stride=(1, 1), padding=(1, 1), bias=False)\n",
       "      (bn2): BatchNorm2d(256, eps=1e-05, momentum=0.1, affine=True, track_running_stats=True)\n",
       "    )\n",
       "    (4): BasicBlock(\n",
       "      (conv1): Conv2d(256, 256, kernel_size=(3, 3), stride=(1, 1), padding=(1, 1), bias=False)\n",
       "      (bn1): BatchNorm2d(256, eps=1e-05, momentum=0.1, affine=True, track_running_stats=True)\n",
       "      (relu): ReLU(inplace=True)\n",
       "      (conv2): Conv2d(256, 256, kernel_size=(3, 3), stride=(1, 1), padding=(1, 1), bias=False)\n",
       "      (bn2): BatchNorm2d(256, eps=1e-05, momentum=0.1, affine=True, track_running_stats=True)\n",
       "    )\n",
       "    (5): BasicBlock(\n",
       "      (conv1): Conv2d(256, 256, kernel_size=(3, 3), stride=(1, 1), padding=(1, 1), bias=False)\n",
       "      (bn1): BatchNorm2d(256, eps=1e-05, momentum=0.1, affine=True, track_running_stats=True)\n",
       "      (relu): ReLU(inplace=True)\n",
       "      (conv2): Conv2d(256, 256, kernel_size=(3, 3), stride=(1, 1), padding=(1, 1), bias=False)\n",
       "      (bn2): BatchNorm2d(256, eps=1e-05, momentum=0.1, affine=True, track_running_stats=True)\n",
       "    )\n",
       "  )\n",
       "  (layer4): Sequential(\n",
       "    (0): BasicBlock(\n",
       "      (conv1): Conv2d(256, 512, kernel_size=(3, 3), stride=(2, 2), padding=(1, 1), bias=False)\n",
       "      (bn1): BatchNorm2d(512, eps=1e-05, momentum=0.1, affine=True, track_running_stats=True)\n",
       "      (relu): ReLU(inplace=True)\n",
       "      (conv2): Conv2d(512, 512, kernel_size=(3, 3), stride=(1, 1), padding=(1, 1), bias=False)\n",
       "      (bn2): BatchNorm2d(512, eps=1e-05, momentum=0.1, affine=True, track_running_stats=True)\n",
       "      (downsample): Sequential(\n",
       "        (0): Conv2d(256, 512, kernel_size=(1, 1), stride=(2, 2), bias=False)\n",
       "        (1): BatchNorm2d(512, eps=1e-05, momentum=0.1, affine=True, track_running_stats=True)\n",
       "      )\n",
       "    )\n",
       "    (1): BasicBlock(\n",
       "      (conv1): Conv2d(512, 512, kernel_size=(3, 3), stride=(1, 1), padding=(1, 1), bias=False)\n",
       "      (bn1): BatchNorm2d(512, eps=1e-05, momentum=0.1, affine=True, track_running_stats=True)\n",
       "      (relu): ReLU(inplace=True)\n",
       "      (conv2): Conv2d(512, 512, kernel_size=(3, 3), stride=(1, 1), padding=(1, 1), bias=False)\n",
       "      (bn2): BatchNorm2d(512, eps=1e-05, momentum=0.1, affine=True, track_running_stats=True)\n",
       "    )\n",
       "    (2): BasicBlock(\n",
       "      (conv1): Conv2d(512, 512, kernel_size=(3, 3), stride=(1, 1), padding=(1, 1), bias=False)\n",
       "      (bn1): BatchNorm2d(512, eps=1e-05, momentum=0.1, affine=True, track_running_stats=True)\n",
       "      (relu): ReLU(inplace=True)\n",
       "      (conv2): Conv2d(512, 512, kernel_size=(3, 3), stride=(1, 1), padding=(1, 1), bias=False)\n",
       "      (bn2): BatchNorm2d(512, eps=1e-05, momentum=0.1, affine=True, track_running_stats=True)\n",
       "    )\n",
       "  )\n",
       "  (avgpool): AdaptiveAvgPool2d(output_size=(1, 1))\n",
       "  (fc): Linear(in_features=512, out_features=1000, bias=True)\n",
       ")"
      ]
     },
     "execution_count": 175,
     "metadata": {},
     "output_type": "execute_result"
    }
   ],
   "source": [
    "### START CODE HERE ###\n",
    "resnet34 = models.resnet34(pretrained=True)\n",
    "for param in resnet34.parameters():\n",
    "    param.requires_grad = False\n",
    "    \n",
    "resnet34.to(device)    "
   ]
  },
  {
   "cell_type": "code",
   "execution_count": 176,
   "metadata": {},
   "outputs": [],
   "source": [
    "# Remove head\n",
    "resnet34_feature_extractor = torch.nn.Sequential(*(list(resnet34.children())[:-1]))"
   ]
  },
  {
   "cell_type": "code",
   "execution_count": 177,
   "metadata": {},
   "outputs": [
    {
     "data": {
      "text/plain": [
       "torch.Size([1600, 512])"
      ]
     },
     "execution_count": 177,
     "metadata": {},
     "output_type": "execute_result"
    }
   ],
   "source": [
    "train_image_features2, train_labels2 = extract_features(resnet34_feature_extractor, train_dataset, device)\n",
    "train_image_features2.shape"
   ]
  },
  {
   "cell_type": "code",
   "execution_count": 178,
   "metadata": {},
   "outputs": [
    {
     "data": {
      "text/plain": [
       "torch.Size([500, 512])"
      ]
     },
     "execution_count": 178,
     "metadata": {},
     "output_type": "execute_result"
    }
   ],
   "source": [
    "test_image_features2, test_labels2 = extract_features(resnet34_feature_extractor, test_dataset, device)\n",
    "test_image_features2.shape"
   ]
  },
  {
   "cell_type": "markdown",
   "metadata": {},
   "source": [
    "# Logistic Regression with scikit-learn library:"
   ]
  },
  {
   "cell_type": "code",
   "execution_count": 179,
   "metadata": {},
   "outputs": [],
   "source": [
    "### START CODE HERE ###\n",
    "lr = LogisticRegression(max_iter=1000)"
   ]
  },
  {
   "cell_type": "code",
   "execution_count": 180,
   "metadata": {},
   "outputs": [],
   "source": [
    "train_image_features_array2 = train_image_features2.numpy()\n",
    "test_image_features_array2 = test_image_features2.numpy()"
   ]
  },
  {
   "cell_type": "code",
   "execution_count": 181,
   "metadata": {
    "scrolled": true
   },
   "outputs": [
    {
     "data": {
      "text/plain": [
       "LogisticRegression(max_iter=1000)"
      ]
     },
     "execution_count": 181,
     "metadata": {},
     "output_type": "execute_result"
    }
   ],
   "source": [
    "lr.fit(train_image_features_array2, train_labels2)"
   ]
  },
  {
   "cell_type": "markdown",
   "metadata": {},
   "source": [
    "#### Train accuracy and AUC"
   ]
  },
  {
   "cell_type": "code",
   "execution_count": 182,
   "metadata": {},
   "outputs": [],
   "source": [
    "predictions = lr.predict(train_image_features_array2)"
   ]
  },
  {
   "cell_type": "code",
   "execution_count": 183,
   "metadata": {},
   "outputs": [
    {
     "name": "stdout",
     "output_type": "stream",
     "text": [
      "Test Accuracy: 0.861875\n"
     ]
    }
   ],
   "source": [
    "accuracy = get_accuracy(train_labels2, predictions)\n",
    "print(f'Test Accuracy: {accuracy}')"
   ]
  },
  {
   "cell_type": "code",
   "execution_count": 184,
   "metadata": {},
   "outputs": [
    {
     "name": "stdout",
     "output_type": "stream",
     "text": [
      "Test AUC Score: 0.861875\n"
     ]
    }
   ],
   "source": [
    "score = roc_auc_score(train_labels2, predictions)\n",
    "print(f'Test AUC Score: {score}')"
   ]
  },
  {
   "cell_type": "markdown",
   "metadata": {},
   "source": [
    "#### Test accuracy and AUC"
   ]
  },
  {
   "cell_type": "code",
   "execution_count": 185,
   "metadata": {},
   "outputs": [],
   "source": [
    "predictions = lr.predict(test_image_features_array2)"
   ]
  },
  {
   "cell_type": "code",
   "execution_count": 186,
   "metadata": {},
   "outputs": [
    {
     "name": "stdout",
     "output_type": "stream",
     "text": [
      "Test Accuracy: 0.762\n"
     ]
    }
   ],
   "source": [
    "accuracy = get_accuracy(test_labels2, predictions)\n",
    "print(f'Test Accuracy: {accuracy}')"
   ]
  },
  {
   "cell_type": "code",
   "execution_count": 187,
   "metadata": {},
   "outputs": [
    {
     "name": "stdout",
     "output_type": "stream",
     "text": [
      "Test AUC Score: 0.762\n"
     ]
    }
   ],
   "source": [
    "score = roc_auc_score(test_labels2, predictions)\n",
    "print(f'Test AUC Score: {score}')"
   ]
  },
  {
   "cell_type": "markdown",
   "metadata": {},
   "source": [
    "Using Sklearn's Logistic Regression with features from ResNet34 we obtain similar results in train metrics, but much better results in test accuracy and AUC with respect to the version using ResNet18. With an improvement of over 10%, it closes the gap more between train and test metrics. So we can think that this model has less overfit, and because of that it will have better generalization capability."
   ]
  },
  {
   "cell_type": "markdown",
   "metadata": {},
   "source": [
    "# Logistic Regression with pytorch for ResNet34:"
   ]
  },
  {
   "cell_type": "markdown",
   "metadata": {},
   "source": [
    "#### Define the model:"
   ]
  },
  {
   "cell_type": "code",
   "execution_count": 188,
   "metadata": {},
   "outputs": [],
   "source": [
    "### START CODE HERE ###\n",
    "logistic_regression_model2 = LogisticRegressionModel(input_size=512)"
   ]
  },
  {
   "cell_type": "markdown",
   "metadata": {},
   "source": [
    "#### Training and validation:"
   ]
  },
  {
   "cell_type": "code",
   "execution_count": 189,
   "metadata": {},
   "outputs": [],
   "source": [
    "### START CODE HERE ###\n",
    "train_dataloader2 = get_features_dataloader(train_image_features_array2, train_labels2, batch_size=32, shuffle=True)\n",
    "test_dataloader2 = get_features_dataloader(test_image_features_array2, test_labels2, batch_size=32, shuffle=False)"
   ]
  },
  {
   "cell_type": "code",
   "execution_count": 190,
   "metadata": {},
   "outputs": [
    {
     "data": {
      "text/plain": [
       "(torch.Size([32, 512]), torch.Size([32]))"
      ]
     },
     "execution_count": 190,
     "metadata": {},
     "output_type": "execute_result"
    }
   ],
   "source": [
    "image, labels = next(iter(train_dataloader))\n",
    "image.shape, labels.shape"
   ]
  },
  {
   "cell_type": "code",
   "execution_count": 191,
   "metadata": {},
   "outputs": [
    {
     "data": {
      "text/plain": [
       "(torch.Size([32, 512]), torch.Size([32]))"
      ]
     },
     "execution_count": 191,
     "metadata": {},
     "output_type": "execute_result"
    }
   ],
   "source": [
    "image, labels = next(iter(test_dataloader))\n",
    "image.shape, labels.shape"
   ]
  },
  {
   "cell_type": "code",
   "execution_count": 192,
   "metadata": {},
   "outputs": [
    {
     "name": "stdout",
     "output_type": "stream",
     "text": [
      "Training started...\n",
      "epoch 0 loss 0.7000277137756348 val_loss 0.6974107101559639\n",
      "epoch 1 loss 0.6963261616230011 val_loss 0.6906767673790455\n",
      "epoch 2 loss 0.6971811962127685 val_loss 0.6894743777811527\n",
      "epoch 3 loss 0.6990637874603272 val_loss 0.6923157274723053\n",
      "epoch 4 loss 0.6871934401988983 val_loss 0.6858678869903088\n",
      "epoch 5 loss 0.6925424289703369 val_loss 0.7098527774214745\n",
      "epoch 6 loss 0.6992218112945556 val_loss 0.6920823641121387\n",
      "epoch 7 loss 0.6928649795055389 val_loss 0.6898215897381306\n",
      "epoch 8 loss 0.6865382027626038 val_loss 0.6876063235104084\n",
      "epoch 9 loss 0.6837182867527009 val_loss 0.6798848062753677\n",
      "epoch 10 loss 0.6883646214008331 val_loss 0.6833448298275471\n",
      "epoch 11 loss 0.6831572020053863 val_loss 0.6850199215114117\n",
      "epoch 12 loss 0.6804347860813141 val_loss 0.6987492255866528\n",
      "epoch 13 loss 0.6827758800983429 val_loss 0.6845130957663059\n",
      "epoch 14 loss 0.6806363618373871 val_loss 0.6758242025971413\n",
      "epoch 15 loss 0.6798213076591492 val_loss 0.6747753024101257\n",
      "epoch 16 loss 0.6825159347057342 val_loss 0.6826949194073677\n",
      "epoch 17 loss 0.6865348792076111 val_loss 0.6725028418004513\n",
      "epoch 18 loss 0.6967938327789307 val_loss 0.6776801459491253\n",
      "epoch 19 loss 0.6750727224349976 val_loss 0.6927313581109047\n",
      "epoch 20 loss 0.6681782937049866 val_loss 0.6690825670957565\n",
      "epoch 21 loss 0.6683397901058197 val_loss 0.6793251559138298\n",
      "epoch 22 loss 0.6743289303779602 val_loss 0.7039440087974072\n",
      "epoch 23 loss 0.6745466482639313 val_loss 0.664789155125618\n",
      "epoch 24 loss 0.6654521286487579 val_loss 0.6754620224237442\n",
      "epoch 25 loss 0.672797383069992 val_loss 0.6665259636938572\n",
      "epoch 26 loss 0.6642292594909668 val_loss 0.6626204214990139\n",
      "epoch 27 loss 0.66969820022583 val_loss 0.6743882149457932\n",
      "epoch 28 loss 0.6711248421669006 val_loss 0.668385524302721\n",
      "epoch 29 loss 0.6631598377227783 val_loss 0.6607746630907059\n",
      "epoch 30 loss 0.6558586084842681 val_loss 0.6579785272479057\n",
      "epoch 31 loss 0.657595101594925 val_loss 0.6606022343039513\n",
      "epoch 32 loss 0.6660013329982758 val_loss 0.6561706326901913\n",
      "epoch 33 loss 0.6659784543514252 val_loss 0.6684802025556564\n",
      "epoch 34 loss 0.6523294222354888 val_loss 0.6560213565826416\n",
      "epoch 35 loss 0.6597480690479278 val_loss 0.6627593860030174\n",
      "epoch 36 loss 0.6546345126628875 val_loss 0.6554144322872162\n",
      "epoch 37 loss 0.6478678202629089 val_loss 0.6504470743238926\n",
      "epoch 38 loss 0.6548364102840424 val_loss 0.6544635184109211\n",
      "epoch 39 loss 0.6477614200115204 val_loss 0.6693470552563667\n",
      "epoch 40 loss 0.6497336566448212 val_loss 0.6617272347211838\n",
      "epoch 41 loss 0.646676619052887 val_loss 0.6473353877663612\n",
      "epoch 42 loss 0.6431053423881531 val_loss 0.6515965722501278\n",
      "epoch 43 loss 0.6461594879627228 val_loss 0.644741378724575\n",
      "epoch 44 loss 0.6421772849559784 val_loss 0.6480177268385887\n",
      "epoch 45 loss 0.653228828907013 val_loss 0.6448747850954533\n",
      "epoch 46 loss 0.6456866240501404 val_loss 0.6858263537287712\n",
      "epoch 47 loss 0.6399543333053589 val_loss 0.6408262886106968\n",
      "epoch 48 loss 0.6413334548473358 val_loss 0.6497375927865505\n",
      "epoch 49 loss 0.642385458946228 val_loss 0.6451115943491459\n"
     ]
    }
   ],
   "source": [
    "history = train_model(logistic_regression_model2, train_dataloader2, test_dataloader2, epochs=50, learning_rate=1e-3, metric_function=roc_auc_score)"
   ]
  },
  {
   "cell_type": "markdown",
   "metadata": {},
   "source": [
    "#### Visualizing the plots:"
   ]
  },
  {
   "cell_type": "markdown",
   "metadata": {},
   "source": [
    "##### Loss vs epoch"
   ]
  },
  {
   "cell_type": "code",
   "execution_count": 193,
   "metadata": {},
   "outputs": [
    {
     "data": {
      "image/png": "[encoded data removed]",
      "text/plain": [
       "<Figure size 432x288 with 1 Axes>"
      ]
     },
     "metadata": {
      "needs_background": "light"
     },
     "output_type": "display_data"
    }
   ],
   "source": [
    "### START CODE HERE ###\n",
    "plot_training_history(history)"
   ]
  },
  {
   "cell_type": "markdown",
   "metadata": {},
   "source": [
    "##### AUC vs epoch"
   ]
  },
  {
   "cell_type": "code",
   "execution_count": 194,
   "metadata": {
    "scrolled": true
   },
   "outputs": [
    {
     "data": {
      "image/png": "[encoded data removed]",
      "text/plain": [
       "<Figure size 432x288 with 1 Axes>"
      ]
     },
     "metadata": {
      "needs_background": "light"
     },
     "output_type": "display_data"
    }
   ],
   "source": [
    "plot_training_metric(history, 'auc')"
   ]
  },
  {
   "cell_type": "markdown",
   "metadata": {},
   "source": [
    "Using the Logistic Regression model implemented in PyTorch with features of ResNet34 performs a little better than it's Sklearn counterpart, with an improvement of around 10% AUC."
   ]
  },
  {
   "cell_type": "markdown",
   "metadata": {},
   "source": [
    "#### Checking generalization capabilities with more layers"
   ]
  },
  {
   "cell_type": "markdown",
   "metadata": {},
   "source": [
    "##### 1 extra layer"
   ]
  },
  {
   "cell_type": "code",
   "execution_count": 195,
   "metadata": {},
   "outputs": [
    {
     "data": {
      "text/plain": [
       "LogisticRegressionModel(\n",
       "  (layers): ModuleList(\n",
       "    (0): Linear(in_features=512, out_features=64, bias=True)\n",
       "    (1): ReLU()\n",
       "    (2): Linear(in_features=64, out_features=1, bias=True)\n",
       "  )\n",
       "  (sigmoid): Sigmoid()\n",
       ")"
      ]
     },
     "execution_count": 195,
     "metadata": {},
     "output_type": "execute_result"
    }
   ],
   "source": [
    "mlp1 = LogisticRegressionModel(input_size=512, num_hidden_layers=1, hidden_size=64)\n",
    "mlp1"
   ]
  },
  {
   "cell_type": "code",
   "execution_count": 196,
   "metadata": {},
   "outputs": [
    {
     "name": "stdout",
     "output_type": "stream",
     "text": [
      "Training started...\n",
      "epoch 0 loss 0.6949782288074493 val_loss 0.6932906061410904\n",
      "epoch 1 loss 0.6936232054233551 val_loss 0.6925728768110275\n",
      "epoch 2 loss 0.6935449743270874 val_loss 0.6933583915233612\n",
      "epoch 3 loss 0.6938564801216125 val_loss 0.6924497671425343\n",
      "epoch 4 loss 0.693564635515213 val_loss 0.692080520093441\n",
      "epoch 5 loss 0.6928508639335632 val_loss 0.6919007301330566\n",
      "epoch 6 loss 0.692512389421463 val_loss 0.691378016024828\n",
      "epoch 7 loss 0.6936793458461762 val_loss 0.6917511932551861\n",
      "epoch 8 loss 0.6923310577869415 val_loss 0.6909079141914845\n",
      "epoch 9 loss 0.6913848221302032 val_loss 0.6906678751111031\n",
      "epoch 10 loss 0.692235951423645 val_loss 0.690680094063282\n",
      "epoch 11 loss 0.6919335210323334 val_loss 0.6903036087751389\n",
      "epoch 12 loss 0.6911122488975525 val_loss 0.6912592239677906\n",
      "epoch 13 loss 0.6908443856239319 val_loss 0.6927613504230976\n",
      "epoch 14 loss 0.6905517435073852 val_loss 0.6898122765123844\n",
      "epoch 15 loss 0.6907891321182251 val_loss 0.6895710229873657\n",
      "epoch 16 loss 0.6908424782752991 val_loss 0.6899400502443314\n",
      "epoch 17 loss 0.6905568480491638 val_loss 0.6910375729203224\n",
      "epoch 18 loss 0.691535849571228 val_loss 0.6899342760443687\n",
      "epoch 19 loss 0.6902981388568878 val_loss 0.6885356083512306\n",
      "epoch 20 loss 0.6911871123313904 val_loss 0.6892729140818119\n",
      "epoch 21 loss 0.6888062655925751 val_loss 0.6895929910242558\n",
      "epoch 22 loss 0.6893094038963318 val_loss 0.6879000551998615\n",
      "epoch 23 loss 0.6880415749549865 val_loss 0.6876929886639118\n",
      "epoch 24 loss 0.6886563289165497 val_loss 0.6898472607135773\n",
      "epoch 25 loss 0.6884320294857025 val_loss 0.6877481453120708\n",
      "epoch 26 loss 0.6896360349655152 val_loss 0.6887256093323231\n",
      "epoch 27 loss 0.6886160564422608 val_loss 0.6870594508945942\n",
      "epoch 28 loss 0.6872086215019226 val_loss 0.6884953118860722\n",
      "epoch 29 loss 0.6887270033359527 val_loss 0.6864438839256763\n",
      "epoch 30 loss 0.6867959320545196 val_loss 0.686450332403183\n",
      "epoch 31 loss 0.6877315986156464 val_loss 0.6862099394202232\n",
      "epoch 32 loss 0.6889022636413574 val_loss 0.6858819201588631\n",
      "epoch 33 loss 0.68481147646904 val_loss 0.6860547214746475\n",
      "epoch 34 loss 0.6856233382225037 val_loss 0.6851778104901314\n",
      "epoch 35 loss 0.6863539779186248 val_loss 0.6895269975066185\n",
      "epoch 36 loss 0.6856073963642121 val_loss 0.6854441650211811\n",
      "epoch 37 loss 0.684310278892517 val_loss 0.6842512525618076\n",
      "epoch 38 loss 0.6855647456645966 val_loss 0.6870485208928585\n",
      "epoch 39 loss 0.6839946615695953 val_loss 0.6837566494941711\n",
      "epoch 40 loss 0.6836349761486054 val_loss 0.6854462996125221\n",
      "epoch 41 loss 0.684216387271881 val_loss 0.684049878269434\n",
      "epoch 42 loss 0.6861863017082215 val_loss 0.6840717196464539\n",
      "epoch 43 loss 0.6838758754730224 val_loss 0.6832847408950329\n",
      "epoch 44 loss 0.6799801075458527 val_loss 0.6897285655140877\n",
      "epoch 45 loss 0.6847816443443299 val_loss 0.6820231378078461\n",
      "epoch 46 loss 0.6816161453723908 val_loss 0.6817787103354931\n",
      "epoch 47 loss 0.6811650621891022 val_loss 0.6813630424439907\n",
      "epoch 48 loss 0.6810751450061798 val_loss 0.6816064864397049\n",
      "epoch 49 loss 0.6804182887077331 val_loss 0.6821717247366905\n"
     ]
    }
   ],
   "source": [
    "history = train_model(mlp1, train_dataloader2, test_dataloader2, epochs=50, learning_rate=1e-4, metric_function=roc_auc_score)"
   ]
  },
  {
   "cell_type": "code",
   "execution_count": 197,
   "metadata": {},
   "outputs": [
    {
     "data": {
      "image/png": "[encoded data removed]",
      "text/plain": [
       "<Figure size 432x288 with 1 Axes>"
      ]
     },
     "metadata": {
      "needs_background": "light"
     },
     "output_type": "display_data"
    }
   ],
   "source": [
    "plot_training_history(history)"
   ]
  },
  {
   "cell_type": "code",
   "execution_count": 198,
   "metadata": {},
   "outputs": [
    {
     "data": {
      "image/png": "[encoded data removed]",
      "text/plain": [
       "<Figure size 432x288 with 1 Axes>"
      ]
     },
     "metadata": {
      "needs_background": "light"
     },
     "output_type": "display_data"
    }
   ],
   "source": [
    "plot_training_metric(history, 'auc')"
   ]
  },
  {
   "cell_type": "markdown",
   "metadata": {},
   "source": [
    "##### 2 extra layers"
   ]
  },
  {
   "cell_type": "code",
   "execution_count": 199,
   "metadata": {},
   "outputs": [
    {
     "data": {
      "text/plain": [
       "LogisticRegressionModel(\n",
       "  (layers): ModuleList(\n",
       "    (0): Linear(in_features=512, out_features=64, bias=True)\n",
       "    (1): ReLU()\n",
       "    (2): Linear(in_features=64, out_features=64, bias=True)\n",
       "    (3): ReLU()\n",
       "    (4): Linear(in_features=64, out_features=1, bias=True)\n",
       "  )\n",
       "  (sigmoid): Sigmoid()\n",
       ")"
      ]
     },
     "execution_count": 199,
     "metadata": {},
     "output_type": "execute_result"
    }
   ],
   "source": [
    "mlp2 = LogisticRegressionModel(input_size=512, num_hidden_layers=2, hidden_size=64)\n",
    "mlp2"
   ]
  },
  {
   "cell_type": "code",
   "execution_count": 200,
   "metadata": {},
   "outputs": [
    {
     "name": "stdout",
     "output_type": "stream",
     "text": [
      "Training started...\n",
      "epoch 0 loss 0.6935850739479065 val_loss 0.6930901408195496\n",
      "epoch 1 loss 0.6935507774353027 val_loss 0.6931574754416943\n",
      "epoch 2 loss 0.6931943154335022 val_loss 0.6927739307284355\n",
      "epoch 3 loss 0.6932446348667145 val_loss 0.692910797894001\n",
      "epoch 4 loss 0.6929292619228363 val_loss 0.6926172450184822\n",
      "epoch 5 loss 0.6931601512432098 val_loss 0.6926923915743828\n",
      "epoch 6 loss 0.6929480445384979 val_loss 0.6926032640039921\n",
      "epoch 7 loss 0.6931100010871887 val_loss 0.6925576478242874\n",
      "epoch 8 loss 0.6928023123741149 val_loss 0.6925655789673328\n",
      "epoch 9 loss 0.692866085767746 val_loss 0.6924377605319023\n",
      "epoch 10 loss 0.6926034724712372 val_loss 0.6923700347542763\n",
      "epoch 11 loss 0.6930130290985107 val_loss 0.6922965236008167\n",
      "epoch 12 loss 0.6933696794509888 val_loss 0.6926080584526062\n",
      "epoch 13 loss 0.6920747458934784 val_loss 0.6927360333502293\n",
      "epoch 14 loss 0.6929075276851654 val_loss 0.6923155337572098\n",
      "epoch 15 loss 0.6925975489616394 val_loss 0.6922713667154312\n",
      "epoch 16 loss 0.6922299087047576 val_loss 0.6922979354858398\n",
      "epoch 17 loss 0.692366578578949 val_loss 0.6921575292944908\n",
      "epoch 18 loss 0.6923038733005523 val_loss 0.692160964012146\n",
      "epoch 19 loss 0.692508670091629 val_loss 0.6918809823691845\n",
      "epoch 20 loss 0.6919280529022217 val_loss 0.69166025146842\n",
      "epoch 21 loss 0.6924541926383972 val_loss 0.6918374933302402\n",
      "epoch 22 loss 0.6917637813091279 val_loss 0.6912697516381741\n",
      "epoch 23 loss 0.6919805312156677 val_loss 0.6920608840882778\n",
      "epoch 24 loss 0.6919549918174743 val_loss 0.6914472728967667\n",
      "epoch 25 loss 0.6916484189033508 val_loss 0.6910499110817909\n",
      "epoch 26 loss 0.69146329164505 val_loss 0.6905744820833206\n",
      "epoch 27 loss 0.6910196042060852 val_loss 0.6903148554265499\n",
      "epoch 28 loss 0.6903989744186402 val_loss 0.6901325695216656\n",
      "epoch 29 loss 0.6910684990882874 val_loss 0.6898857541382313\n",
      "epoch 30 loss 0.6903613877296447 val_loss 0.6898840069770813\n",
      "epoch 31 loss 0.690162388086319 val_loss 0.6898120306432247\n",
      "epoch 32 loss 0.6896494328975677 val_loss 0.6891903765499592\n",
      "epoch 33 loss 0.689132684469223 val_loss 0.6886147931218147\n",
      "epoch 34 loss 0.6891133034229279 val_loss 0.6882689781486988\n",
      "epoch 35 loss 0.6886327028274536 val_loss 0.6884562596678734\n",
      "epoch 36 loss 0.688124086856842 val_loss 0.6879076473414898\n",
      "epoch 37 loss 0.6886795997619629 val_loss 0.690304834395647\n",
      "epoch 38 loss 0.6884866988658905 val_loss 0.6870847158133984\n",
      "epoch 39 loss 0.6879053711891174 val_loss 0.6889791153371334\n",
      "epoch 40 loss 0.6880317223072052 val_loss 0.6879673488438129\n",
      "epoch 41 loss 0.686518349647522 val_loss 0.6859483048319817\n",
      "epoch 42 loss 0.6857121443748474 val_loss 0.6865083612501621\n",
      "epoch 43 loss 0.6861117160320283 val_loss 0.6865782849490643\n",
      "epoch 44 loss 0.6851453983783722 val_loss 0.685150995850563\n",
      "epoch 45 loss 0.6843975079059601 val_loss 0.6842696666717529\n",
      "epoch 46 loss 0.6846921026706696 val_loss 0.6848651319742203\n",
      "epoch 47 loss 0.6833509695529938 val_loss 0.6838084347546101\n",
      "epoch 48 loss 0.6822657680511475 val_loss 0.6846686638891697\n",
      "epoch 49 loss 0.6836864817142486 val_loss 0.6831221468746662\n"
     ]
    }
   ],
   "source": [
    "history = train_model(mlp2, train_dataloader2, test_dataloader2, epochs=50, learning_rate=1e-4, metric_function=roc_auc_score)"
   ]
  },
  {
   "cell_type": "code",
   "execution_count": 201,
   "metadata": {},
   "outputs": [
    {
     "data": {
      "image/png": "[encoded data removed]",
      "text/plain": [
       "<Figure size 432x288 with 1 Axes>"
      ]
     },
     "metadata": {
      "needs_background": "light"
     },
     "output_type": "display_data"
    }
   ],
   "source": [
    "plot_training_history(history)"
   ]
  },
  {
   "cell_type": "code",
   "execution_count": 202,
   "metadata": {},
   "outputs": [
    {
     "data": {
      "image/png": "[encoded data removed]",
      "text/plain": [
       "<Figure size 432x288 with 1 Axes>"
      ]
     },
     "metadata": {
      "needs_background": "light"
     },
     "output_type": "display_data"
    }
   ],
   "source": [
    "plot_training_metric(history, 'auc')"
   ]
  },
  {
   "cell_type": "markdown",
   "metadata": {},
   "source": [
    "In this case, it looks like adding one or two layers does not affect the generalization capabilities of the model, as the AUC values are pretty similar in all model variations."
   ]
  },
  {
   "cell_type": "markdown",
   "metadata": {},
   "source": [
    "**Here you should merge the feature extractor network layers with the PyTorch logistic regression classifier.**"
   ]
  },
  {
   "cell_type": "code",
   "execution_count": 203,
   "metadata": {},
   "outputs": [],
   "source": [
    "### START CODE HERE ###\n",
    "resnet34.fc = logistic_regression_model2"
   ]
  },
  {
   "cell_type": "code",
   "execution_count": 204,
   "metadata": {
    "scrolled": true
   },
   "outputs": [
    {
     "data": {
      "text/plain": [
       "ResNet(\n",
       "  (conv1): Conv2d(3, 64, kernel_size=(7, 7), stride=(2, 2), padding=(3, 3), bias=False)\n",
       "  (bn1): BatchNorm2d(64, eps=1e-05, momentum=0.1, affine=True, track_running_stats=True)\n",
       "  (relu): ReLU(inplace=True)\n",
       "  (maxpool): MaxPool2d(kernel_size=3, stride=2, padding=1, dilation=1, ceil_mode=False)\n",
       "  (layer1): Sequential(\n",
       "    (0): BasicBlock(\n",
       "      (conv1): Conv2d(64, 64, kernel_size=(3, 3), stride=(1, 1), padding=(1, 1), bias=False)\n",
       "      (bn1): BatchNorm2d(64, eps=1e-05, momentum=0.1, affine=True, track_running_stats=True)\n",
       "      (relu): ReLU(inplace=True)\n",
       "      (conv2): Conv2d(64, 64, kernel_size=(3, 3), stride=(1, 1), padding=(1, 1), bias=False)\n",
       "      (bn2): BatchNorm2d(64, eps=1e-05, momentum=0.1, affine=True, track_running_stats=True)\n",
       "    )\n",
       "    (1): BasicBlock(\n",
       "      (conv1): Conv2d(64, 64, kernel_size=(3, 3), stride=(1, 1), padding=(1, 1), bias=False)\n",
       "      (bn1): BatchNorm2d(64, eps=1e-05, momentum=0.1, affine=True, track_running_stats=True)\n",
       "      (relu): ReLU(inplace=True)\n",
       "      (conv2): Conv2d(64, 64, kernel_size=(3, 3), stride=(1, 1), padding=(1, 1), bias=False)\n",
       "      (bn2): BatchNorm2d(64, eps=1e-05, momentum=0.1, affine=True, track_running_stats=True)\n",
       "    )\n",
       "    (2): BasicBlock(\n",
       "      (conv1): Conv2d(64, 64, kernel_size=(3, 3), stride=(1, 1), padding=(1, 1), bias=False)\n",
       "      (bn1): BatchNorm2d(64, eps=1e-05, momentum=0.1, affine=True, track_running_stats=True)\n",
       "      (relu): ReLU(inplace=True)\n",
       "      (conv2): Conv2d(64, 64, kernel_size=(3, 3), stride=(1, 1), padding=(1, 1), bias=False)\n",
       "      (bn2): BatchNorm2d(64, eps=1e-05, momentum=0.1, affine=True, track_running_stats=True)\n",
       "    )\n",
       "  )\n",
       "  (layer2): Sequential(\n",
       "    (0): BasicBlock(\n",
       "      (conv1): Conv2d(64, 128, kernel_size=(3, 3), stride=(2, 2), padding=(1, 1), bias=False)\n",
       "      (bn1): BatchNorm2d(128, eps=1e-05, momentum=0.1, affine=True, track_running_stats=True)\n",
       "      (relu): ReLU(inplace=True)\n",
       "      (conv2): Conv2d(128, 128, kernel_size=(3, 3), stride=(1, 1), padding=(1, 1), bias=False)\n",
       "      (bn2): BatchNorm2d(128, eps=1e-05, momentum=0.1, affine=True, track_running_stats=True)\n",
       "      (downsample): Sequential(\n",
       "        (0): Conv2d(64, 128, kernel_size=(1, 1), stride=(2, 2), bias=False)\n",
       "        (1): BatchNorm2d(128, eps=1e-05, momentum=0.1, affine=True, track_running_stats=True)\n",
       "      )\n",
       "    )\n",
       "    (1): BasicBlock(\n",
       "      (conv1): Conv2d(128, 128, kernel_size=(3, 3), stride=(1, 1), padding=(1, 1), bias=False)\n",
       "      (bn1): BatchNorm2d(128, eps=1e-05, momentum=0.1, affine=True, track_running_stats=True)\n",
       "      (relu): ReLU(inplace=True)\n",
       "      (conv2): Conv2d(128, 128, kernel_size=(3, 3), stride=(1, 1), padding=(1, 1), bias=False)\n",
       "      (bn2): BatchNorm2d(128, eps=1e-05, momentum=0.1, affine=True, track_running_stats=True)\n",
       "    )\n",
       "    (2): BasicBlock(\n",
       "      (conv1): Conv2d(128, 128, kernel_size=(3, 3), stride=(1, 1), padding=(1, 1), bias=False)\n",
       "      (bn1): BatchNorm2d(128, eps=1e-05, momentum=0.1, affine=True, track_running_stats=True)\n",
       "      (relu): ReLU(inplace=True)\n",
       "      (conv2): Conv2d(128, 128, kernel_size=(3, 3), stride=(1, 1), padding=(1, 1), bias=False)\n",
       "      (bn2): BatchNorm2d(128, eps=1e-05, momentum=0.1, affine=True, track_running_stats=True)\n",
       "    )\n",
       "    (3): BasicBlock(\n",
       "      (conv1): Conv2d(128, 128, kernel_size=(3, 3), stride=(1, 1), padding=(1, 1), bias=False)\n",
       "      (bn1): BatchNorm2d(128, eps=1e-05, momentum=0.1, affine=True, track_running_stats=True)\n",
       "      (relu): ReLU(inplace=True)\n",
       "      (conv2): Conv2d(128, 128, kernel_size=(3, 3), stride=(1, 1), padding=(1, 1), bias=False)\n",
       "      (bn2): BatchNorm2d(128, eps=1e-05, momentum=0.1, affine=True, track_running_stats=True)\n",
       "    )\n",
       "  )\n",
       "  (layer3): Sequential(\n",
       "    (0): BasicBlock(\n",
       "      (conv1): Conv2d(128, 256, kernel_size=(3, 3), stride=(2, 2), padding=(1, 1), bias=False)\n",
       "      (bn1): BatchNorm2d(256, eps=1e-05, momentum=0.1, affine=True, track_running_stats=True)\n",
       "      (relu): ReLU(inplace=True)\n",
       "      (conv2): Conv2d(256, 256, kernel_size=(3, 3), stride=(1, 1), padding=(1, 1), bias=False)\n",
       "      (bn2): BatchNorm2d(256, eps=1e-05, momentum=0.1, affine=True, track_running_stats=True)\n",
       "      (downsample): Sequential(\n",
       "        (0): Conv2d(128, 256, kernel_size=(1, 1), stride=(2, 2), bias=False)\n",
       "        (1): BatchNorm2d(256, eps=1e-05, momentum=0.1, affine=True, track_running_stats=True)\n",
       "      )\n",
       "    )\n",
       "    (1): BasicBlock(\n",
       "      (conv1): Conv2d(256, 256, kernel_size=(3, 3), stride=(1, 1), padding=(1, 1), bias=False)\n",
       "      (bn1): BatchNorm2d(256, eps=1e-05, momentum=0.1, affine=True, track_running_stats=True)\n",
       "      (relu): ReLU(inplace=True)\n",
       "      (conv2): Conv2d(256, 256, kernel_size=(3, 3), stride=(1, 1), padding=(1, 1), bias=False)\n",
       "      (bn2): BatchNorm2d(256, eps=1e-05, momentum=0.1, affine=True, track_running_stats=True)\n",
       "    )\n",
       "    (2): BasicBlock(\n",
       "      (conv1): Conv2d(256, 256, kernel_size=(3, 3), stride=(1, 1), padding=(1, 1), bias=False)\n",
       "      (bn1): BatchNorm2d(256, eps=1e-05, momentum=0.1, affine=True, track_running_stats=True)\n",
       "      (relu): ReLU(inplace=True)\n",
       "      (conv2): Conv2d(256, 256, kernel_size=(3, 3), stride=(1, 1), padding=(1, 1), bias=False)\n",
       "      (bn2): BatchNorm2d(256, eps=1e-05, momentum=0.1, affine=True, track_running_stats=True)\n",
       "    )\n",
       "    (3): BasicBlock(\n",
       "      (conv1): Conv2d(256, 256, kernel_size=(3, 3), stride=(1, 1), padding=(1, 1), bias=False)\n",
       "      (bn1): BatchNorm2d(256, eps=1e-05, momentum=0.1, affine=True, track_running_stats=True)\n",
       "      (relu): ReLU(inplace=True)\n",
       "      (conv2): Conv2d(256, 256, kernel_size=(3, 3), stride=(1, 1), padding=(1, 1), bias=False)\n",
       "      (bn2): BatchNorm2d(256, eps=1e-05, momentum=0.1, affine=True, track_running_stats=True)\n",
       "    )\n",
       "    (4): BasicBlock(\n",
       "      (conv1): Conv2d(256, 256, kernel_size=(3, 3), stride=(1, 1), padding=(1, 1), bias=False)\n",
       "      (bn1): BatchNorm2d(256, eps=1e-05, momentum=0.1, affine=True, track_running_stats=True)\n",
       "      (relu): ReLU(inplace=True)\n",
       "      (conv2): Conv2d(256, 256, kernel_size=(3, 3), stride=(1, 1), padding=(1, 1), bias=False)\n",
       "      (bn2): BatchNorm2d(256, eps=1e-05, momentum=0.1, affine=True, track_running_stats=True)\n",
       "    )\n",
       "    (5): BasicBlock(\n",
       "      (conv1): Conv2d(256, 256, kernel_size=(3, 3), stride=(1, 1), padding=(1, 1), bias=False)\n",
       "      (bn1): BatchNorm2d(256, eps=1e-05, momentum=0.1, affine=True, track_running_stats=True)\n",
       "      (relu): ReLU(inplace=True)\n",
       "      (conv2): Conv2d(256, 256, kernel_size=(3, 3), stride=(1, 1), padding=(1, 1), bias=False)\n",
       "      (bn2): BatchNorm2d(256, eps=1e-05, momentum=0.1, affine=True, track_running_stats=True)\n",
       "    )\n",
       "  )\n",
       "  (layer4): Sequential(\n",
       "    (0): BasicBlock(\n",
       "      (conv1): Conv2d(256, 512, kernel_size=(3, 3), stride=(2, 2), padding=(1, 1), bias=False)\n",
       "      (bn1): BatchNorm2d(512, eps=1e-05, momentum=0.1, affine=True, track_running_stats=True)\n",
       "      (relu): ReLU(inplace=True)\n",
       "      (conv2): Conv2d(512, 512, kernel_size=(3, 3), stride=(1, 1), padding=(1, 1), bias=False)\n",
       "      (bn2): BatchNorm2d(512, eps=1e-05, momentum=0.1, affine=True, track_running_stats=True)\n",
       "      (downsample): Sequential(\n",
       "        (0): Conv2d(256, 512, kernel_size=(1, 1), stride=(2, 2), bias=False)\n",
       "        (1): BatchNorm2d(512, eps=1e-05, momentum=0.1, affine=True, track_running_stats=True)\n",
       "      )\n",
       "    )\n",
       "    (1): BasicBlock(\n",
       "      (conv1): Conv2d(512, 512, kernel_size=(3, 3), stride=(1, 1), padding=(1, 1), bias=False)\n",
       "      (bn1): BatchNorm2d(512, eps=1e-05, momentum=0.1, affine=True, track_running_stats=True)\n",
       "      (relu): ReLU(inplace=True)\n",
       "      (conv2): Conv2d(512, 512, kernel_size=(3, 3), stride=(1, 1), padding=(1, 1), bias=False)\n",
       "      (bn2): BatchNorm2d(512, eps=1e-05, momentum=0.1, affine=True, track_running_stats=True)\n",
       "    )\n",
       "    (2): BasicBlock(\n",
       "      (conv1): Conv2d(512, 512, kernel_size=(3, 3), stride=(1, 1), padding=(1, 1), bias=False)\n",
       "      (bn1): BatchNorm2d(512, eps=1e-05, momentum=0.1, affine=True, track_running_stats=True)\n",
       "      (relu): ReLU(inplace=True)\n",
       "      (conv2): Conv2d(512, 512, kernel_size=(3, 3), stride=(1, 1), padding=(1, 1), bias=False)\n",
       "      (bn2): BatchNorm2d(512, eps=1e-05, momentum=0.1, affine=True, track_running_stats=True)\n",
       "    )\n",
       "  )\n",
       "  (avgpool): AdaptiveAvgPool2d(output_size=(1, 1))\n",
       "  (fc): LogisticRegressionModel(\n",
       "    (layers): ModuleList(\n",
       "      (0): Linear(in_features=512, out_features=1, bias=True)\n",
       "    )\n",
       "    (sigmoid): Sigmoid()\n",
       "  )\n",
       ")"
      ]
     },
     "execution_count": 204,
     "metadata": {},
     "output_type": "execute_result"
    }
   ],
   "source": [
    "resnet34"
   ]
  },
  {
   "cell_type": "markdown",
   "metadata": {},
   "source": [
    "# Part 2- Fine-tuning"
   ]
  },
  {
   "cell_type": "markdown",
   "metadata": {},
   "source": [
    "In the feature extraction experiment above you were training the classifier on the top of the pre-trained model. \n",
    "In this paert, you need to train (or \"fine-tune\") the original pre-trained Resnet18 model (or part of them) in an attempts to improve your results. You can determine the number of convolution layers you intend to re-train in order to avoid overfitting and hopefully achive better generalization. Note that the fine-tuning should only be attempted after you have trained the top-level classifier with a pre-trained model.\n",
    "\n",
    "1. Plot Loss and Accuracy v.s Epoch for train and validation sets:"
   ]
  },
  {
   "cell_type": "markdown",
   "metadata": {},
   "source": [
    "#### Define the model (use the merged feature extractor with the PyTorch logistic regression classifier)"
   ]
  },
  {
   "cell_type": "code",
   "execution_count": 205,
   "metadata": {},
   "outputs": [],
   "source": [
    "### START CODE HERE ###\n",
    "\n",
    "# Make all parameters trainable\n",
    "for param in resnet18.parameters():\n",
    "    param.requires_grad = True"
   ]
  },
  {
   "cell_type": "code",
   "execution_count": 206,
   "metadata": {},
   "outputs": [
    {
     "data": {
      "text/plain": [
       "ResNet(\n",
       "  (conv1): Conv2d(3, 64, kernel_size=(7, 7), stride=(2, 2), padding=(3, 3), bias=False)\n",
       "  (bn1): BatchNorm2d(64, eps=1e-05, momentum=0.1, affine=True, track_running_stats=True)\n",
       "  (relu): ReLU(inplace=True)\n",
       "  (maxpool): MaxPool2d(kernel_size=3, stride=2, padding=1, dilation=1, ceil_mode=False)\n",
       "  (layer1): Sequential(\n",
       "    (0): BasicBlock(\n",
       "      (conv1): Conv2d(64, 64, kernel_size=(3, 3), stride=(1, 1), padding=(1, 1), bias=False)\n",
       "      (bn1): BatchNorm2d(64, eps=1e-05, momentum=0.1, affine=True, track_running_stats=True)\n",
       "      (relu): ReLU(inplace=True)\n",
       "      (conv2): Conv2d(64, 64, kernel_size=(3, 3), stride=(1, 1), padding=(1, 1), bias=False)\n",
       "      (bn2): BatchNorm2d(64, eps=1e-05, momentum=0.1, affine=True, track_running_stats=True)\n",
       "    )\n",
       "    (1): BasicBlock(\n",
       "      (conv1): Conv2d(64, 64, kernel_size=(3, 3), stride=(1, 1), padding=(1, 1), bias=False)\n",
       "      (bn1): BatchNorm2d(64, eps=1e-05, momentum=0.1, affine=True, track_running_stats=True)\n",
       "      (relu): ReLU(inplace=True)\n",
       "      (conv2): Conv2d(64, 64, kernel_size=(3, 3), stride=(1, 1), padding=(1, 1), bias=False)\n",
       "      (bn2): BatchNorm2d(64, eps=1e-05, momentum=0.1, affine=True, track_running_stats=True)\n",
       "    )\n",
       "  )\n",
       "  (layer2): Sequential(\n",
       "    (0): BasicBlock(\n",
       "      (conv1): Conv2d(64, 128, kernel_size=(3, 3), stride=(2, 2), padding=(1, 1), bias=False)\n",
       "      (bn1): BatchNorm2d(128, eps=1e-05, momentum=0.1, affine=True, track_running_stats=True)\n",
       "      (relu): ReLU(inplace=True)\n",
       "      (conv2): Conv2d(128, 128, kernel_size=(3, 3), stride=(1, 1), padding=(1, 1), bias=False)\n",
       "      (bn2): BatchNorm2d(128, eps=1e-05, momentum=0.1, affine=True, track_running_stats=True)\n",
       "      (downsample): Sequential(\n",
       "        (0): Conv2d(64, 128, kernel_size=(1, 1), stride=(2, 2), bias=False)\n",
       "        (1): BatchNorm2d(128, eps=1e-05, momentum=0.1, affine=True, track_running_stats=True)\n",
       "      )\n",
       "    )\n",
       "    (1): BasicBlock(\n",
       "      (conv1): Conv2d(128, 128, kernel_size=(3, 3), stride=(1, 1), padding=(1, 1), bias=False)\n",
       "      (bn1): BatchNorm2d(128, eps=1e-05, momentum=0.1, affine=True, track_running_stats=True)\n",
       "      (relu): ReLU(inplace=True)\n",
       "      (conv2): Conv2d(128, 128, kernel_size=(3, 3), stride=(1, 1), padding=(1, 1), bias=False)\n",
       "      (bn2): BatchNorm2d(128, eps=1e-05, momentum=0.1, affine=True, track_running_stats=True)\n",
       "    )\n",
       "  )\n",
       "  (layer3): Sequential(\n",
       "    (0): BasicBlock(\n",
       "      (conv1): Conv2d(128, 256, kernel_size=(3, 3), stride=(2, 2), padding=(1, 1), bias=False)\n",
       "      (bn1): BatchNorm2d(256, eps=1e-05, momentum=0.1, affine=True, track_running_stats=True)\n",
       "      (relu): ReLU(inplace=True)\n",
       "      (conv2): Conv2d(256, 256, kernel_size=(3, 3), stride=(1, 1), padding=(1, 1), bias=False)\n",
       "      (bn2): BatchNorm2d(256, eps=1e-05, momentum=0.1, affine=True, track_running_stats=True)\n",
       "      (downsample): Sequential(\n",
       "        (0): Conv2d(128, 256, kernel_size=(1, 1), stride=(2, 2), bias=False)\n",
       "        (1): BatchNorm2d(256, eps=1e-05, momentum=0.1, affine=True, track_running_stats=True)\n",
       "      )\n",
       "    )\n",
       "    (1): BasicBlock(\n",
       "      (conv1): Conv2d(256, 256, kernel_size=(3, 3), stride=(1, 1), padding=(1, 1), bias=False)\n",
       "      (bn1): BatchNorm2d(256, eps=1e-05, momentum=0.1, affine=True, track_running_stats=True)\n",
       "      (relu): ReLU(inplace=True)\n",
       "      (conv2): Conv2d(256, 256, kernel_size=(3, 3), stride=(1, 1), padding=(1, 1), bias=False)\n",
       "      (bn2): BatchNorm2d(256, eps=1e-05, momentum=0.1, affine=True, track_running_stats=True)\n",
       "    )\n",
       "  )\n",
       "  (layer4): Sequential(\n",
       "    (0): BasicBlock(\n",
       "      (conv1): Conv2d(256, 512, kernel_size=(3, 3), stride=(2, 2), padding=(1, 1), bias=False)\n",
       "      (bn1): BatchNorm2d(512, eps=1e-05, momentum=0.1, affine=True, track_running_stats=True)\n",
       "      (relu): ReLU(inplace=True)\n",
       "      (conv2): Conv2d(512, 512, kernel_size=(3, 3), stride=(1, 1), padding=(1, 1), bias=False)\n",
       "      (bn2): BatchNorm2d(512, eps=1e-05, momentum=0.1, affine=True, track_running_stats=True)\n",
       "      (downsample): Sequential(\n",
       "        (0): Conv2d(256, 512, kernel_size=(1, 1), stride=(2, 2), bias=False)\n",
       "        (1): BatchNorm2d(512, eps=1e-05, momentum=0.1, affine=True, track_running_stats=True)\n",
       "      )\n",
       "    )\n",
       "    (1): BasicBlock(\n",
       "      (conv1): Conv2d(512, 512, kernel_size=(3, 3), stride=(1, 1), padding=(1, 1), bias=False)\n",
       "      (bn1): BatchNorm2d(512, eps=1e-05, momentum=0.1, affine=True, track_running_stats=True)\n",
       "      (relu): ReLU(inplace=True)\n",
       "      (conv2): Conv2d(512, 512, kernel_size=(3, 3), stride=(1, 1), padding=(1, 1), bias=False)\n",
       "      (bn2): BatchNorm2d(512, eps=1e-05, momentum=0.1, affine=True, track_running_stats=True)\n",
       "    )\n",
       "  )\n",
       "  (avgpool): AdaptiveAvgPool2d(output_size=(1, 1))\n",
       "  (fc): LogisticRegressionModel(\n",
       "    (layers): ModuleList(\n",
       "      (0): Linear(in_features=512, out_features=1, bias=True)\n",
       "    )\n",
       "    (sigmoid): Sigmoid()\n",
       "  )\n",
       ")"
      ]
     },
     "execution_count": 206,
     "metadata": {},
     "output_type": "execute_result"
    }
   ],
   "source": [
    "resnet18.to(device)"
   ]
  },
  {
   "cell_type": "markdown",
   "metadata": {},
   "source": [
    "#### Training and validation:"
   ]
  },
  {
   "cell_type": "code",
   "execution_count": 207,
   "metadata": {},
   "outputs": [],
   "source": [
    "train_dataloader = torch.utils.data.DataLoader(train_dataset, batch_size=32, shuffle=True)\n",
    "test_dataloader = torch.utils.data.DataLoader(test_dataset, batch_size=32, shuffle=False)"
   ]
  },
  {
   "cell_type": "code",
   "execution_count": 208,
   "metadata": {},
   "outputs": [
    {
     "name": "stdout",
     "output_type": "stream",
     "text": [
      "Training started...\n",
      "epoch 0 loss 0.5875801610946655 val_loss 0.5873379521071911\n",
      "epoch 1 loss 0.5584281456470489 val_loss 0.5697995219379663\n",
      "epoch 2 loss 0.5369543933868408 val_loss 0.5542621947824955\n",
      "epoch 3 loss 0.511661211848259 val_loss 0.5348428208380938\n",
      "epoch 4 loss 0.4918479835987091 val_loss 0.5225654747337103\n",
      "epoch 5 loss 0.46820280253887175 val_loss 0.5067156683653593\n",
      "epoch 6 loss 0.44723684668540953 val_loss 0.49880125001072884\n",
      "epoch 7 loss 0.42855058670043944 val_loss 0.48879053443670273\n",
      "epoch 8 loss 0.4150882416963577 val_loss 0.4779073838144541\n",
      "epoch 9 loss 0.39707611620426175 val_loss 0.4642060659825802\n",
      "epoch 10 loss 0.3847912448644638 val_loss 0.4571465849876404\n",
      "epoch 11 loss 0.3662031084299088 val_loss 0.4521678499877453\n",
      "epoch 12 loss 0.35411625921726225 val_loss 0.44490768387913704\n",
      "epoch 13 loss 0.3400027346611023 val_loss 0.43916825763881207\n",
      "epoch 14 loss 0.3308902734518051 val_loss 0.43358675576746464\n",
      "epoch 15 loss 0.3204628652334213 val_loss 0.427776288241148\n",
      "epoch 16 loss 0.30803297102451327 val_loss 0.4250990282744169\n",
      "epoch 17 loss 0.3073149979114532 val_loss 0.41652529686689377\n",
      "epoch 18 loss 0.2944274610280991 val_loss 0.41518179699778557\n",
      "epoch 19 loss 0.27928240537643434 val_loss 0.407981064170599\n",
      "epoch 20 loss 0.26750046730041505 val_loss 0.40716832410544157\n",
      "epoch 21 loss 0.2574223202466965 val_loss 0.4005218269303441\n",
      "epoch 22 loss 0.25013557225465777 val_loss 0.39562155306339264\n",
      "epoch 23 loss 0.25367431610822677 val_loss 0.396995990537107\n",
      "epoch 24 loss 0.2386413511633873 val_loss 0.38976114243268967\n"
     ]
    }
   ],
   "source": [
    "### START CODE HERE ###\n",
    "history = train_model(resnet18, train_dataloader, test_dataloader, epochs=25, learning_rate=1e-6, metric_function=roc_auc_score, device=device)"
   ]
  },
  {
   "cell_type": "markdown",
   "metadata": {},
   "source": [
    "#### Visualizing the plots:"
   ]
  },
  {
   "cell_type": "markdown",
   "metadata": {},
   "source": [
    "##### Loss vs epoch"
   ]
  },
  {
   "cell_type": "code",
   "execution_count": 209,
   "metadata": {},
   "outputs": [
    {
     "data": {
      "image/png": "[encoded data removed]",
      "text/plain": [
       "<Figure size 432x288 with 1 Axes>"
      ]
     },
     "metadata": {
      "needs_background": "light"
     },
     "output_type": "display_data"
    }
   ],
   "source": [
    "plot_training_history(history)"
   ]
  },
  {
   "cell_type": "code",
   "execution_count": 210,
   "metadata": {},
   "outputs": [
    {
     "data": {
      "image/png": "[encoded data removed]",
      "text/plain": [
       "<Figure size 432x288 with 1 Axes>"
      ]
     },
     "metadata": {
      "needs_background": "light"
     },
     "output_type": "display_data"
    }
   ],
   "source": [
    "plot_training_metric(history, 'accuracy')"
   ]
  },
  {
   "cell_type": "markdown",
   "metadata": {},
   "source": [
    "##### AUC vs epoch"
   ]
  },
  {
   "cell_type": "code",
   "execution_count": 211,
   "metadata": {},
   "outputs": [
    {
     "data": {
      "image/png": "[encoded data removed]",
      "text/plain": [
       "<Figure size 432x288 with 1 Axes>"
      ]
     },
     "metadata": {
      "needs_background": "light"
     },
     "output_type": "display_data"
    }
   ],
   "source": [
    "plot_training_metric(history, 'auc')"
   ]
  },
  {
   "cell_type": "markdown",
   "metadata": {},
   "source": [
    "2. Compare your results between the two approaches. Is there any improvement? Explain your findings...\n"
   ]
  },
  {
   "cell_type": "markdown",
   "metadata": {},
   "source": [
    "Type your answer here:\n"
   ]
  },
  {
   "cell_type": "markdown",
   "metadata": {},
   "source": [
    "There is a big improvement in AUC for the fine-tuned model, that went up to around 90% AUC (up from 65%).\n",
    "\n",
    "The pretraining of the logistic regression head and fine-tuning of the whole model did improve the results over just using the extracted features with the logistic regression model.\n",
    "\n",
    "So right here is an example of the value that the fine-tunning process has over the generalization capabilities of the model."
   ]
  },
  {
   "cell_type": "code",
   "execution_count": null,
   "metadata": {},
   "outputs": [],
   "source": []
  }
 ],
 "metadata": {
  "kernelspec": {
   "display_name": "Python 3",
   "language": "python",
   "name": "python3"
  },
  "language_info": {
   "codemirror_mode": {
    "name": "ipython",
    "version": 3
   },
   "file_extension": ".py",
   "mimetype": "text/x-python",
   "name": "python",
   "nbconvert_exporter": "python",
   "pygments_lexer": "ipython3",
   "version": "3.7.7"
  }
 },
 "nbformat": 4,
 "nbformat_minor": 4
}
